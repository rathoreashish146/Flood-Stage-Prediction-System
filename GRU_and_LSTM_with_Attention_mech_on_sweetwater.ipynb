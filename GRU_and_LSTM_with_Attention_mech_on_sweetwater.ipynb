{
  "cells": [
    {
      "cell_type": "markdown",
      "metadata": {
        "id": "view-in-github",
        "colab_type": "text"
      },
      "source": [
        "<a href=\"https://colab.research.google.com/github/rathoreashish146/Flood-Stage-Prediction-System/blob/main/GRU_and_LSTM_with_Attention_mech_on_sweetwater.ipynb\" target=\"_parent\"><img src=\"https://colab.research.google.com/assets/colab-badge.svg\" alt=\"Open In Colab\"/></a>"
      ]
    },
    {
      "cell_type": "code",
      "source": [
        "import pandas as pd\n",
        "import numpy as np\n",
        "import seaborn as sns\n",
        "import pandas_datareader as pdr\n",
        "from datetime import datetime\n",
        "from pandas import DataFrame\n",
        "from pandas import concat\n",
        "import matplotlib.pyplot as plt\n",
        "import tensorflow as tf"
      ],
      "metadata": {
        "id": "FSF2pdmuhSDL"
      },
      "execution_count": null,
      "outputs": []
    },
    {
      "cell_type": "code",
      "execution_count": null,
      "metadata": {
        "id": "C7wIJjyXbxbf",
        "colab": {
          "base_uri": "https://localhost:8080/"
        },
        "outputId": "cc11392c-553d-4ddf-eed4-24d27fbb921d"
      },
      "outputs": [
        {
          "output_type": "stream",
          "name": "stdout",
          "text": [
            "Looking in indexes: https://pypi.org/simple, https://us-python.pkg.dev/colab-wheels/public/simple/\n",
            "Requirement already satisfied: keras in /usr/local/lib/python3.10/dist-packages (2.12.0)\n"
          ]
        }
      ],
      "source": [
        "!sudo pip3 install keras\n",
        "\n",
        "from tensorflow.python.keras.engine.sequential import Sequential\n",
        "\n",
        "from tensorflow.python.keras.layers import Dense, Conv2D, Flatten, Dropout, MaxPooling2D\n",
        "\n",
        "from tensorflow.keras.layers import Dense, Activation, Dropout\n",
        "from tensorflow.keras.layers import LSTM ,Conv1D, MaxPooling1D, Flatten\n",
        "from tensorflow.keras.models import Sequential\n",
        "from sklearn.metrics import mean_squared_error\n",
        "from sklearn import metrics\n",
        "from keras.layers import Dense, LSTM, Dropout, GRU, Bidirectional\n",
        "from matplotlib import pyplot\n",
        "%matplotlib inline"
      ]
    },
    {
      "cell_type": "code",
      "execution_count": null,
      "metadata": {
        "id": "1ZCWS_jRcHo_"
      },
      "outputs": [],
      "source": [
        "#first we take columbus data set\n",
        "# data = pd.read_csv('/content/chattahoochee-columbus.csv')\n",
        "\n",
        "#first we take sweetwater creek data set\n",
        "data = pd.read_csv('/content/SWEETWATER CREEK.csv')"
      ]
    },
    {
      "cell_type": "code",
      "execution_count": null,
      "metadata": {
        "id": "yJHwm0fUcbz6",
        "colab": {
          "base_uri": "https://localhost:8080/",
          "height": 206
        },
        "outputId": "069e4c88-2bd4-4eb4-ed95-59953d6ed689"
      },
      "outputs": [
        {
          "output_type": "execute_result",
          "data": {
            "text/plain": [
              "            time  height\n",
              "0  1/1/2015 0:00    2.65\n",
              "1  1/1/2015 0:15    2.64\n",
              "2  1/1/2015 0:30    2.64\n",
              "3  1/1/2015 0:45    2.62\n",
              "4  1/1/2015 1:00    2.58"
            ],
            "text/html": [
              "\n",
              "  <div id=\"df-ba9b25c6-6c57-48f2-8a87-2cf0e43a36d2\">\n",
              "    <div class=\"colab-df-container\">\n",
              "      <div>\n",
              "<style scoped>\n",
              "    .dataframe tbody tr th:only-of-type {\n",
              "        vertical-align: middle;\n",
              "    }\n",
              "\n",
              "    .dataframe tbody tr th {\n",
              "        vertical-align: top;\n",
              "    }\n",
              "\n",
              "    .dataframe thead th {\n",
              "        text-align: right;\n",
              "    }\n",
              "</style>\n",
              "<table border=\"1\" class=\"dataframe\">\n",
              "  <thead>\n",
              "    <tr style=\"text-align: right;\">\n",
              "      <th></th>\n",
              "      <th>time</th>\n",
              "      <th>height</th>\n",
              "    </tr>\n",
              "  </thead>\n",
              "  <tbody>\n",
              "    <tr>\n",
              "      <th>0</th>\n",
              "      <td>1/1/2015 0:00</td>\n",
              "      <td>2.65</td>\n",
              "    </tr>\n",
              "    <tr>\n",
              "      <th>1</th>\n",
              "      <td>1/1/2015 0:15</td>\n",
              "      <td>2.64</td>\n",
              "    </tr>\n",
              "    <tr>\n",
              "      <th>2</th>\n",
              "      <td>1/1/2015 0:30</td>\n",
              "      <td>2.64</td>\n",
              "    </tr>\n",
              "    <tr>\n",
              "      <th>3</th>\n",
              "      <td>1/1/2015 0:45</td>\n",
              "      <td>2.62</td>\n",
              "    </tr>\n",
              "    <tr>\n",
              "      <th>4</th>\n",
              "      <td>1/1/2015 1:00</td>\n",
              "      <td>2.58</td>\n",
              "    </tr>\n",
              "  </tbody>\n",
              "</table>\n",
              "</div>\n",
              "      <button class=\"colab-df-convert\" onclick=\"convertToInteractive('df-ba9b25c6-6c57-48f2-8a87-2cf0e43a36d2')\"\n",
              "              title=\"Convert this dataframe to an interactive table.\"\n",
              "              style=\"display:none;\">\n",
              "        \n",
              "  <svg xmlns=\"http://www.w3.org/2000/svg\" height=\"24px\"viewBox=\"0 0 24 24\"\n",
              "       width=\"24px\">\n",
              "    <path d=\"M0 0h24v24H0V0z\" fill=\"none\"/>\n",
              "    <path d=\"M18.56 5.44l.94 2.06.94-2.06 2.06-.94-2.06-.94-.94-2.06-.94 2.06-2.06.94zm-11 1L8.5 8.5l.94-2.06 2.06-.94-2.06-.94L8.5 2.5l-.94 2.06-2.06.94zm10 10l.94 2.06.94-2.06 2.06-.94-2.06-.94-.94-2.06-.94 2.06-2.06.94z\"/><path d=\"M17.41 7.96l-1.37-1.37c-.4-.4-.92-.59-1.43-.59-.52 0-1.04.2-1.43.59L10.3 9.45l-7.72 7.72c-.78.78-.78 2.05 0 2.83L4 21.41c.39.39.9.59 1.41.59.51 0 1.02-.2 1.41-.59l7.78-7.78 2.81-2.81c.8-.78.8-2.07 0-2.86zM5.41 20L4 18.59l7.72-7.72 1.47 1.35L5.41 20z\"/>\n",
              "  </svg>\n",
              "      </button>\n",
              "      \n",
              "  <style>\n",
              "    .colab-df-container {\n",
              "      display:flex;\n",
              "      flex-wrap:wrap;\n",
              "      gap: 12px;\n",
              "    }\n",
              "\n",
              "    .colab-df-convert {\n",
              "      background-color: #E8F0FE;\n",
              "      border: none;\n",
              "      border-radius: 50%;\n",
              "      cursor: pointer;\n",
              "      display: none;\n",
              "      fill: #1967D2;\n",
              "      height: 32px;\n",
              "      padding: 0 0 0 0;\n",
              "      width: 32px;\n",
              "    }\n",
              "\n",
              "    .colab-df-convert:hover {\n",
              "      background-color: #E2EBFA;\n",
              "      box-shadow: 0px 1px 2px rgba(60, 64, 67, 0.3), 0px 1px 3px 1px rgba(60, 64, 67, 0.15);\n",
              "      fill: #174EA6;\n",
              "    }\n",
              "\n",
              "    [theme=dark] .colab-df-convert {\n",
              "      background-color: #3B4455;\n",
              "      fill: #D2E3FC;\n",
              "    }\n",
              "\n",
              "    [theme=dark] .colab-df-convert:hover {\n",
              "      background-color: #434B5C;\n",
              "      box-shadow: 0px 1px 3px 1px rgba(0, 0, 0, 0.15);\n",
              "      filter: drop-shadow(0px 1px 2px rgba(0, 0, 0, 0.3));\n",
              "      fill: #FFFFFF;\n",
              "    }\n",
              "  </style>\n",
              "\n",
              "      <script>\n",
              "        const buttonEl =\n",
              "          document.querySelector('#df-ba9b25c6-6c57-48f2-8a87-2cf0e43a36d2 button.colab-df-convert');\n",
              "        buttonEl.style.display =\n",
              "          google.colab.kernel.accessAllowed ? 'block' : 'none';\n",
              "\n",
              "        async function convertToInteractive(key) {\n",
              "          const element = document.querySelector('#df-ba9b25c6-6c57-48f2-8a87-2cf0e43a36d2');\n",
              "          const dataTable =\n",
              "            await google.colab.kernel.invokeFunction('convertToInteractive',\n",
              "                                                     [key], {});\n",
              "          if (!dataTable) return;\n",
              "\n",
              "          const docLinkHtml = 'Like what you see? Visit the ' +\n",
              "            '<a target=\"_blank\" href=https://colab.research.google.com/notebooks/data_table.ipynb>data table notebook</a>'\n",
              "            + ' to learn more about interactive tables.';\n",
              "          element.innerHTML = '';\n",
              "          dataTable['output_type'] = 'display_data';\n",
              "          await google.colab.output.renderOutput(dataTable, element);\n",
              "          const docLink = document.createElement('div');\n",
              "          docLink.innerHTML = docLinkHtml;\n",
              "          element.appendChild(docLink);\n",
              "        }\n",
              "      </script>\n",
              "    </div>\n",
              "  </div>\n",
              "  "
            ]
          },
          "metadata": {},
          "execution_count": 42
        }
      ],
      "source": [
        "data.head()"
      ]
    },
    {
      "cell_type": "code",
      "execution_count": null,
      "metadata": {
        "id": "vPhMwZnJceGS",
        "colab": {
          "base_uri": "https://localhost:8080/"
        },
        "outputId": "036f194e-d492-41a0-a3dc-dd9e52fa4937"
      },
      "outputs": [
        {
          "output_type": "execute_result",
          "data": {
            "text/plain": [
              "(245630, 2)"
            ]
          },
          "metadata": {},
          "execution_count": 43
        }
      ],
      "source": [
        "data.shape"
      ]
    },
    {
      "cell_type": "code",
      "execution_count": null,
      "metadata": {
        "id": "PaF8TwZ4ciLq",
        "colab": {
          "base_uri": "https://localhost:8080/"
        },
        "outputId": "97c45a2a-0354-4b0e-8833-a05eb129951a"
      },
      "outputs": [
        {
          "output_type": "stream",
          "name": "stdout",
          "text": [
            "Start:  1/1/2015 0:00\n",
            "End:  9/9/2021 9:45\n"
          ]
        }
      ],
      "source": [
        "print(\"Start: \", data['time'].min())\n",
        "print(\"End: \", data['time'].max())"
      ]
    },
    {
      "cell_type": "code",
      "execution_count": null,
      "metadata": {
        "id": "D2jSiadAcjvV",
        "colab": {
          "base_uri": "https://localhost:8080/"
        },
        "outputId": "a06c7d0a-06d4-4e61-9c3f-d794c13ae2c1"
      },
      "outputs": [
        {
          "output_type": "stream",
          "name": "stderr",
          "text": [
            "<ipython-input-45-8490a75142d0>:1: FutureWarning: In a future version of pandas all arguments of StringMethods.split except for the argument 'pat' will be keyword-only.\n",
            "  data[['date', 'Only_time']] = data['time'].str.split(' ', 1, expand=True)\n"
          ]
        }
      ],
      "source": [
        "data[['date', 'Only_time']] = data['time'].str.split(' ', 1, expand=True)"
      ]
    },
    {
      "cell_type": "code",
      "execution_count": null,
      "metadata": {
        "id": "ir-cAC3Xcmo8",
        "colab": {
          "base_uri": "https://localhost:8080/",
          "height": 206
        },
        "outputId": "be5bb2d6-7520-4191-e565-799c7671f817"
      },
      "outputs": [
        {
          "output_type": "execute_result",
          "data": {
            "text/plain": [
              "            time  height      date Only_time\n",
              "0  1/1/2015 0:00    2.65  1/1/2015      0:00\n",
              "1  1/1/2015 0:15    2.64  1/1/2015      0:15\n",
              "2  1/1/2015 0:30    2.64  1/1/2015      0:30\n",
              "3  1/1/2015 0:45    2.62  1/1/2015      0:45\n",
              "4  1/1/2015 1:00    2.58  1/1/2015      1:00"
            ],
            "text/html": [
              "\n",
              "  <div id=\"df-d3fc2595-8831-4228-b4f1-c42e35b87568\">\n",
              "    <div class=\"colab-df-container\">\n",
              "      <div>\n",
              "<style scoped>\n",
              "    .dataframe tbody tr th:only-of-type {\n",
              "        vertical-align: middle;\n",
              "    }\n",
              "\n",
              "    .dataframe tbody tr th {\n",
              "        vertical-align: top;\n",
              "    }\n",
              "\n",
              "    .dataframe thead th {\n",
              "        text-align: right;\n",
              "    }\n",
              "</style>\n",
              "<table border=\"1\" class=\"dataframe\">\n",
              "  <thead>\n",
              "    <tr style=\"text-align: right;\">\n",
              "      <th></th>\n",
              "      <th>time</th>\n",
              "      <th>height</th>\n",
              "      <th>date</th>\n",
              "      <th>Only_time</th>\n",
              "    </tr>\n",
              "  </thead>\n",
              "  <tbody>\n",
              "    <tr>\n",
              "      <th>0</th>\n",
              "      <td>1/1/2015 0:00</td>\n",
              "      <td>2.65</td>\n",
              "      <td>1/1/2015</td>\n",
              "      <td>0:00</td>\n",
              "    </tr>\n",
              "    <tr>\n",
              "      <th>1</th>\n",
              "      <td>1/1/2015 0:15</td>\n",
              "      <td>2.64</td>\n",
              "      <td>1/1/2015</td>\n",
              "      <td>0:15</td>\n",
              "    </tr>\n",
              "    <tr>\n",
              "      <th>2</th>\n",
              "      <td>1/1/2015 0:30</td>\n",
              "      <td>2.64</td>\n",
              "      <td>1/1/2015</td>\n",
              "      <td>0:30</td>\n",
              "    </tr>\n",
              "    <tr>\n",
              "      <th>3</th>\n",
              "      <td>1/1/2015 0:45</td>\n",
              "      <td>2.62</td>\n",
              "      <td>1/1/2015</td>\n",
              "      <td>0:45</td>\n",
              "    </tr>\n",
              "    <tr>\n",
              "      <th>4</th>\n",
              "      <td>1/1/2015 1:00</td>\n",
              "      <td>2.58</td>\n",
              "      <td>1/1/2015</td>\n",
              "      <td>1:00</td>\n",
              "    </tr>\n",
              "  </tbody>\n",
              "</table>\n",
              "</div>\n",
              "      <button class=\"colab-df-convert\" onclick=\"convertToInteractive('df-d3fc2595-8831-4228-b4f1-c42e35b87568')\"\n",
              "              title=\"Convert this dataframe to an interactive table.\"\n",
              "              style=\"display:none;\">\n",
              "        \n",
              "  <svg xmlns=\"http://www.w3.org/2000/svg\" height=\"24px\"viewBox=\"0 0 24 24\"\n",
              "       width=\"24px\">\n",
              "    <path d=\"M0 0h24v24H0V0z\" fill=\"none\"/>\n",
              "    <path d=\"M18.56 5.44l.94 2.06.94-2.06 2.06-.94-2.06-.94-.94-2.06-.94 2.06-2.06.94zm-11 1L8.5 8.5l.94-2.06 2.06-.94-2.06-.94L8.5 2.5l-.94 2.06-2.06.94zm10 10l.94 2.06.94-2.06 2.06-.94-2.06-.94-.94-2.06-.94 2.06-2.06.94z\"/><path d=\"M17.41 7.96l-1.37-1.37c-.4-.4-.92-.59-1.43-.59-.52 0-1.04.2-1.43.59L10.3 9.45l-7.72 7.72c-.78.78-.78 2.05 0 2.83L4 21.41c.39.39.9.59 1.41.59.51 0 1.02-.2 1.41-.59l7.78-7.78 2.81-2.81c.8-.78.8-2.07 0-2.86zM5.41 20L4 18.59l7.72-7.72 1.47 1.35L5.41 20z\"/>\n",
              "  </svg>\n",
              "      </button>\n",
              "      \n",
              "  <style>\n",
              "    .colab-df-container {\n",
              "      display:flex;\n",
              "      flex-wrap:wrap;\n",
              "      gap: 12px;\n",
              "    }\n",
              "\n",
              "    .colab-df-convert {\n",
              "      background-color: #E8F0FE;\n",
              "      border: none;\n",
              "      border-radius: 50%;\n",
              "      cursor: pointer;\n",
              "      display: none;\n",
              "      fill: #1967D2;\n",
              "      height: 32px;\n",
              "      padding: 0 0 0 0;\n",
              "      width: 32px;\n",
              "    }\n",
              "\n",
              "    .colab-df-convert:hover {\n",
              "      background-color: #E2EBFA;\n",
              "      box-shadow: 0px 1px 2px rgba(60, 64, 67, 0.3), 0px 1px 3px 1px rgba(60, 64, 67, 0.15);\n",
              "      fill: #174EA6;\n",
              "    }\n",
              "\n",
              "    [theme=dark] .colab-df-convert {\n",
              "      background-color: #3B4455;\n",
              "      fill: #D2E3FC;\n",
              "    }\n",
              "\n",
              "    [theme=dark] .colab-df-convert:hover {\n",
              "      background-color: #434B5C;\n",
              "      box-shadow: 0px 1px 3px 1px rgba(0, 0, 0, 0.15);\n",
              "      filter: drop-shadow(0px 1px 2px rgba(0, 0, 0, 0.3));\n",
              "      fill: #FFFFFF;\n",
              "    }\n",
              "  </style>\n",
              "\n",
              "      <script>\n",
              "        const buttonEl =\n",
              "          document.querySelector('#df-d3fc2595-8831-4228-b4f1-c42e35b87568 button.colab-df-convert');\n",
              "        buttonEl.style.display =\n",
              "          google.colab.kernel.accessAllowed ? 'block' : 'none';\n",
              "\n",
              "        async function convertToInteractive(key) {\n",
              "          const element = document.querySelector('#df-d3fc2595-8831-4228-b4f1-c42e35b87568');\n",
              "          const dataTable =\n",
              "            await google.colab.kernel.invokeFunction('convertToInteractive',\n",
              "                                                     [key], {});\n",
              "          if (!dataTable) return;\n",
              "\n",
              "          const docLinkHtml = 'Like what you see? Visit the ' +\n",
              "            '<a target=\"_blank\" href=https://colab.research.google.com/notebooks/data_table.ipynb>data table notebook</a>'\n",
              "            + ' to learn more about interactive tables.';\n",
              "          element.innerHTML = '';\n",
              "          dataTable['output_type'] = 'display_data';\n",
              "          await google.colab.output.renderOutput(dataTable, element);\n",
              "          const docLink = document.createElement('div');\n",
              "          docLink.innerHTML = docLinkHtml;\n",
              "          element.appendChild(docLink);\n",
              "        }\n",
              "      </script>\n",
              "    </div>\n",
              "  </div>\n",
              "  "
            ]
          },
          "metadata": {},
          "execution_count": 46
        }
      ],
      "source": [
        "data.head()"
      ]
    },
    {
      "cell_type": "code",
      "execution_count": null,
      "metadata": {
        "id": "Z_MFs8Rkcs73"
      },
      "outputs": [],
      "source": [
        "data = data.drop(labels=['time'],axis=1)"
      ]
    },
    {
      "cell_type": "code",
      "execution_count": null,
      "metadata": {
        "id": "pEOQv2qBcvEM",
        "colab": {
          "base_uri": "https://localhost:8080/",
          "height": 206
        },
        "outputId": "b40d3b76-8390-4116-b036-0eb33200ed7f"
      },
      "outputs": [
        {
          "output_type": "execute_result",
          "data": {
            "text/plain": [
              "   height      date Only_time\n",
              "0    2.65  1/1/2015      0:00\n",
              "1    2.64  1/1/2015      0:15\n",
              "2    2.64  1/1/2015      0:30\n",
              "3    2.62  1/1/2015      0:45\n",
              "4    2.58  1/1/2015      1:00"
            ],
            "text/html": [
              "\n",
              "  <div id=\"df-9e1c9917-c603-4b15-882a-4c7239405534\">\n",
              "    <div class=\"colab-df-container\">\n",
              "      <div>\n",
              "<style scoped>\n",
              "    .dataframe tbody tr th:only-of-type {\n",
              "        vertical-align: middle;\n",
              "    }\n",
              "\n",
              "    .dataframe tbody tr th {\n",
              "        vertical-align: top;\n",
              "    }\n",
              "\n",
              "    .dataframe thead th {\n",
              "        text-align: right;\n",
              "    }\n",
              "</style>\n",
              "<table border=\"1\" class=\"dataframe\">\n",
              "  <thead>\n",
              "    <tr style=\"text-align: right;\">\n",
              "      <th></th>\n",
              "      <th>height</th>\n",
              "      <th>date</th>\n",
              "      <th>Only_time</th>\n",
              "    </tr>\n",
              "  </thead>\n",
              "  <tbody>\n",
              "    <tr>\n",
              "      <th>0</th>\n",
              "      <td>2.65</td>\n",
              "      <td>1/1/2015</td>\n",
              "      <td>0:00</td>\n",
              "    </tr>\n",
              "    <tr>\n",
              "      <th>1</th>\n",
              "      <td>2.64</td>\n",
              "      <td>1/1/2015</td>\n",
              "      <td>0:15</td>\n",
              "    </tr>\n",
              "    <tr>\n",
              "      <th>2</th>\n",
              "      <td>2.64</td>\n",
              "      <td>1/1/2015</td>\n",
              "      <td>0:30</td>\n",
              "    </tr>\n",
              "    <tr>\n",
              "      <th>3</th>\n",
              "      <td>2.62</td>\n",
              "      <td>1/1/2015</td>\n",
              "      <td>0:45</td>\n",
              "    </tr>\n",
              "    <tr>\n",
              "      <th>4</th>\n",
              "      <td>2.58</td>\n",
              "      <td>1/1/2015</td>\n",
              "      <td>1:00</td>\n",
              "    </tr>\n",
              "  </tbody>\n",
              "</table>\n",
              "</div>\n",
              "      <button class=\"colab-df-convert\" onclick=\"convertToInteractive('df-9e1c9917-c603-4b15-882a-4c7239405534')\"\n",
              "              title=\"Convert this dataframe to an interactive table.\"\n",
              "              style=\"display:none;\">\n",
              "        \n",
              "  <svg xmlns=\"http://www.w3.org/2000/svg\" height=\"24px\"viewBox=\"0 0 24 24\"\n",
              "       width=\"24px\">\n",
              "    <path d=\"M0 0h24v24H0V0z\" fill=\"none\"/>\n",
              "    <path d=\"M18.56 5.44l.94 2.06.94-2.06 2.06-.94-2.06-.94-.94-2.06-.94 2.06-2.06.94zm-11 1L8.5 8.5l.94-2.06 2.06-.94-2.06-.94L8.5 2.5l-.94 2.06-2.06.94zm10 10l.94 2.06.94-2.06 2.06-.94-2.06-.94-.94-2.06-.94 2.06-2.06.94z\"/><path d=\"M17.41 7.96l-1.37-1.37c-.4-.4-.92-.59-1.43-.59-.52 0-1.04.2-1.43.59L10.3 9.45l-7.72 7.72c-.78.78-.78 2.05 0 2.83L4 21.41c.39.39.9.59 1.41.59.51 0 1.02-.2 1.41-.59l7.78-7.78 2.81-2.81c.8-.78.8-2.07 0-2.86zM5.41 20L4 18.59l7.72-7.72 1.47 1.35L5.41 20z\"/>\n",
              "  </svg>\n",
              "      </button>\n",
              "      \n",
              "  <style>\n",
              "    .colab-df-container {\n",
              "      display:flex;\n",
              "      flex-wrap:wrap;\n",
              "      gap: 12px;\n",
              "    }\n",
              "\n",
              "    .colab-df-convert {\n",
              "      background-color: #E8F0FE;\n",
              "      border: none;\n",
              "      border-radius: 50%;\n",
              "      cursor: pointer;\n",
              "      display: none;\n",
              "      fill: #1967D2;\n",
              "      height: 32px;\n",
              "      padding: 0 0 0 0;\n",
              "      width: 32px;\n",
              "    }\n",
              "\n",
              "    .colab-df-convert:hover {\n",
              "      background-color: #E2EBFA;\n",
              "      box-shadow: 0px 1px 2px rgba(60, 64, 67, 0.3), 0px 1px 3px 1px rgba(60, 64, 67, 0.15);\n",
              "      fill: #174EA6;\n",
              "    }\n",
              "\n",
              "    [theme=dark] .colab-df-convert {\n",
              "      background-color: #3B4455;\n",
              "      fill: #D2E3FC;\n",
              "    }\n",
              "\n",
              "    [theme=dark] .colab-df-convert:hover {\n",
              "      background-color: #434B5C;\n",
              "      box-shadow: 0px 1px 3px 1px rgba(0, 0, 0, 0.15);\n",
              "      filter: drop-shadow(0px 1px 2px rgba(0, 0, 0, 0.3));\n",
              "      fill: #FFFFFF;\n",
              "    }\n",
              "  </style>\n",
              "\n",
              "      <script>\n",
              "        const buttonEl =\n",
              "          document.querySelector('#df-9e1c9917-c603-4b15-882a-4c7239405534 button.colab-df-convert');\n",
              "        buttonEl.style.display =\n",
              "          google.colab.kernel.accessAllowed ? 'block' : 'none';\n",
              "\n",
              "        async function convertToInteractive(key) {\n",
              "          const element = document.querySelector('#df-9e1c9917-c603-4b15-882a-4c7239405534');\n",
              "          const dataTable =\n",
              "            await google.colab.kernel.invokeFunction('convertToInteractive',\n",
              "                                                     [key], {});\n",
              "          if (!dataTable) return;\n",
              "\n",
              "          const docLinkHtml = 'Like what you see? Visit the ' +\n",
              "            '<a target=\"_blank\" href=https://colab.research.google.com/notebooks/data_table.ipynb>data table notebook</a>'\n",
              "            + ' to learn more about interactive tables.';\n",
              "          element.innerHTML = '';\n",
              "          dataTable['output_type'] = 'display_data';\n",
              "          await google.colab.output.renderOutput(dataTable, element);\n",
              "          const docLink = document.createElement('div');\n",
              "          docLink.innerHTML = docLinkHtml;\n",
              "          element.appendChild(docLink);\n",
              "        }\n",
              "      </script>\n",
              "    </div>\n",
              "  </div>\n",
              "  "
            ]
          },
          "metadata": {},
          "execution_count": 48
        }
      ],
      "source": [
        "data.head()"
      ]
    },
    {
      "cell_type": "code",
      "execution_count": null,
      "metadata": {
        "id": "fpcduZRZcwkF",
        "colab": {
          "base_uri": "https://localhost:8080/"
        },
        "outputId": "a78fafd6-8113-4455-8ae4-f314818b4eb2"
      },
      "outputs": [
        {
          "output_type": "stream",
          "name": "stdout",
          "text": [
            "<class 'pandas.core.frame.DataFrame'>\n",
            "RangeIndex: 245630 entries, 0 to 245629\n",
            "Data columns (total 3 columns):\n",
            " #   Column     Non-Null Count   Dtype  \n",
            "---  ------     --------------   -----  \n",
            " 0   height     245630 non-null  float64\n",
            " 1   date       245630 non-null  object \n",
            " 2   Only_time  245630 non-null  object \n",
            "dtypes: float64(1), object(2)\n",
            "memory usage: 5.6+ MB\n"
          ]
        }
      ],
      "source": [
        "data.info()"
      ]
    },
    {
      "cell_type": "code",
      "execution_count": null,
      "metadata": {
        "id": "Fn0Zykkiczzk",
        "colab": {
          "base_uri": "https://localhost:8080/",
          "height": 300
        },
        "outputId": "ab61209c-19fb-474b-8b31-2f30c930a986"
      },
      "outputs": [
        {
          "output_type": "execute_result",
          "data": {
            "text/plain": [
              "              height\n",
              "count  245630.000000\n",
              "mean        2.190667\n",
              "std         1.605342\n",
              "min        -0.260000\n",
              "25%         1.350000\n",
              "50%         1.840000\n",
              "75%         2.450000\n",
              "max        12.600000"
            ],
            "text/html": [
              "\n",
              "  <div id=\"df-88dab019-a400-4cbd-8d9e-967aa254165b\">\n",
              "    <div class=\"colab-df-container\">\n",
              "      <div>\n",
              "<style scoped>\n",
              "    .dataframe tbody tr th:only-of-type {\n",
              "        vertical-align: middle;\n",
              "    }\n",
              "\n",
              "    .dataframe tbody tr th {\n",
              "        vertical-align: top;\n",
              "    }\n",
              "\n",
              "    .dataframe thead th {\n",
              "        text-align: right;\n",
              "    }\n",
              "</style>\n",
              "<table border=\"1\" class=\"dataframe\">\n",
              "  <thead>\n",
              "    <tr style=\"text-align: right;\">\n",
              "      <th></th>\n",
              "      <th>height</th>\n",
              "    </tr>\n",
              "  </thead>\n",
              "  <tbody>\n",
              "    <tr>\n",
              "      <th>count</th>\n",
              "      <td>245630.000000</td>\n",
              "    </tr>\n",
              "    <tr>\n",
              "      <th>mean</th>\n",
              "      <td>2.190667</td>\n",
              "    </tr>\n",
              "    <tr>\n",
              "      <th>std</th>\n",
              "      <td>1.605342</td>\n",
              "    </tr>\n",
              "    <tr>\n",
              "      <th>min</th>\n",
              "      <td>-0.260000</td>\n",
              "    </tr>\n",
              "    <tr>\n",
              "      <th>25%</th>\n",
              "      <td>1.350000</td>\n",
              "    </tr>\n",
              "    <tr>\n",
              "      <th>50%</th>\n",
              "      <td>1.840000</td>\n",
              "    </tr>\n",
              "    <tr>\n",
              "      <th>75%</th>\n",
              "      <td>2.450000</td>\n",
              "    </tr>\n",
              "    <tr>\n",
              "      <th>max</th>\n",
              "      <td>12.600000</td>\n",
              "    </tr>\n",
              "  </tbody>\n",
              "</table>\n",
              "</div>\n",
              "      <button class=\"colab-df-convert\" onclick=\"convertToInteractive('df-88dab019-a400-4cbd-8d9e-967aa254165b')\"\n",
              "              title=\"Convert this dataframe to an interactive table.\"\n",
              "              style=\"display:none;\">\n",
              "        \n",
              "  <svg xmlns=\"http://www.w3.org/2000/svg\" height=\"24px\"viewBox=\"0 0 24 24\"\n",
              "       width=\"24px\">\n",
              "    <path d=\"M0 0h24v24H0V0z\" fill=\"none\"/>\n",
              "    <path d=\"M18.56 5.44l.94 2.06.94-2.06 2.06-.94-2.06-.94-.94-2.06-.94 2.06-2.06.94zm-11 1L8.5 8.5l.94-2.06 2.06-.94-2.06-.94L8.5 2.5l-.94 2.06-2.06.94zm10 10l.94 2.06.94-2.06 2.06-.94-2.06-.94-.94-2.06-.94 2.06-2.06.94z\"/><path d=\"M17.41 7.96l-1.37-1.37c-.4-.4-.92-.59-1.43-.59-.52 0-1.04.2-1.43.59L10.3 9.45l-7.72 7.72c-.78.78-.78 2.05 0 2.83L4 21.41c.39.39.9.59 1.41.59.51 0 1.02-.2 1.41-.59l7.78-7.78 2.81-2.81c.8-.78.8-2.07 0-2.86zM5.41 20L4 18.59l7.72-7.72 1.47 1.35L5.41 20z\"/>\n",
              "  </svg>\n",
              "      </button>\n",
              "      \n",
              "  <style>\n",
              "    .colab-df-container {\n",
              "      display:flex;\n",
              "      flex-wrap:wrap;\n",
              "      gap: 12px;\n",
              "    }\n",
              "\n",
              "    .colab-df-convert {\n",
              "      background-color: #E8F0FE;\n",
              "      border: none;\n",
              "      border-radius: 50%;\n",
              "      cursor: pointer;\n",
              "      display: none;\n",
              "      fill: #1967D2;\n",
              "      height: 32px;\n",
              "      padding: 0 0 0 0;\n",
              "      width: 32px;\n",
              "    }\n",
              "\n",
              "    .colab-df-convert:hover {\n",
              "      background-color: #E2EBFA;\n",
              "      box-shadow: 0px 1px 2px rgba(60, 64, 67, 0.3), 0px 1px 3px 1px rgba(60, 64, 67, 0.15);\n",
              "      fill: #174EA6;\n",
              "    }\n",
              "\n",
              "    [theme=dark] .colab-df-convert {\n",
              "      background-color: #3B4455;\n",
              "      fill: #D2E3FC;\n",
              "    }\n",
              "\n",
              "    [theme=dark] .colab-df-convert:hover {\n",
              "      background-color: #434B5C;\n",
              "      box-shadow: 0px 1px 3px 1px rgba(0, 0, 0, 0.15);\n",
              "      filter: drop-shadow(0px 1px 2px rgba(0, 0, 0, 0.3));\n",
              "      fill: #FFFFFF;\n",
              "    }\n",
              "  </style>\n",
              "\n",
              "      <script>\n",
              "        const buttonEl =\n",
              "          document.querySelector('#df-88dab019-a400-4cbd-8d9e-967aa254165b button.colab-df-convert');\n",
              "        buttonEl.style.display =\n",
              "          google.colab.kernel.accessAllowed ? 'block' : 'none';\n",
              "\n",
              "        async function convertToInteractive(key) {\n",
              "          const element = document.querySelector('#df-88dab019-a400-4cbd-8d9e-967aa254165b');\n",
              "          const dataTable =\n",
              "            await google.colab.kernel.invokeFunction('convertToInteractive',\n",
              "                                                     [key], {});\n",
              "          if (!dataTable) return;\n",
              "\n",
              "          const docLinkHtml = 'Like what you see? Visit the ' +\n",
              "            '<a target=\"_blank\" href=https://colab.research.google.com/notebooks/data_table.ipynb>data table notebook</a>'\n",
              "            + ' to learn more about interactive tables.';\n",
              "          element.innerHTML = '';\n",
              "          dataTable['output_type'] = 'display_data';\n",
              "          await google.colab.output.renderOutput(dataTable, element);\n",
              "          const docLink = document.createElement('div');\n",
              "          docLink.innerHTML = docLinkHtml;\n",
              "          element.appendChild(docLink);\n",
              "        }\n",
              "      </script>\n",
              "    </div>\n",
              "  </div>\n",
              "  "
            ]
          },
          "metadata": {},
          "execution_count": 50
        }
      ],
      "source": [
        "data.describe()"
      ]
    },
    {
      "cell_type": "code",
      "execution_count": null,
      "metadata": {
        "id": "bw3Cw8e5c25M",
        "colab": {
          "base_uri": "https://localhost:8080/"
        },
        "outputId": "b8958cb5-d32b-4947-9173-487f08c08e83"
      },
      "outputs": [
        {
          "output_type": "execute_result",
          "data": {
            "text/plain": [
              "height       0\n",
              "date         0\n",
              "Only_time    0\n",
              "dtype: int64"
            ]
          },
          "metadata": {},
          "execution_count": 51
        }
      ],
      "source": [
        "data.isnull().sum()"
      ]
    },
    {
      "cell_type": "code",
      "execution_count": null,
      "metadata": {
        "id": "mseW2QqFc8hb"
      },
      "outputs": [],
      "source": [
        "data['date'] = pd.to_datetime(data['date'])"
      ]
    },
    {
      "cell_type": "code",
      "execution_count": null,
      "metadata": {
        "id": "LduY6Hh_dBj2"
      },
      "outputs": [],
      "source": [
        "data['Only_time'] = pd.to_datetime(data['Only_time'])"
      ]
    },
    {
      "cell_type": "code",
      "execution_count": null,
      "metadata": {
        "id": "ELBv07-udC5q",
        "colab": {
          "base_uri": "https://localhost:8080/"
        },
        "outputId": "6c724986-d09a-42b9-84c9-80af85efeced"
      },
      "outputs": [
        {
          "output_type": "stream",
          "name": "stdout",
          "text": [
            "<class 'pandas.core.frame.DataFrame'>\n",
            "RangeIndex: 245630 entries, 0 to 245629\n",
            "Data columns (total 3 columns):\n",
            " #   Column     Non-Null Count   Dtype         \n",
            "---  ------     --------------   -----         \n",
            " 0   height     245630 non-null  float64       \n",
            " 1   date       245630 non-null  datetime64[ns]\n",
            " 2   Only_time  245630 non-null  datetime64[ns]\n",
            "dtypes: datetime64[ns](2), float64(1)\n",
            "memory usage: 5.6 MB\n"
          ]
        }
      ],
      "source": [
        "data.info()"
      ]
    },
    {
      "cell_type": "code",
      "execution_count": null,
      "metadata": {
        "id": "khMnZFy4dF4_",
        "colab": {
          "base_uri": "https://localhost:8080/",
          "height": 206
        },
        "outputId": "bc0a5e11-2ec6-4e4e-d187-6ae5d02d8047"
      },
      "outputs": [
        {
          "output_type": "execute_result",
          "data": {
            "text/plain": [
              "   height       date           Only_time\n",
              "0    2.65 2015-01-01 2023-06-22 00:00:00\n",
              "1    2.64 2015-01-01 2023-06-22 00:15:00\n",
              "2    2.64 2015-01-01 2023-06-22 00:30:00\n",
              "3    2.62 2015-01-01 2023-06-22 00:45:00\n",
              "4    2.58 2015-01-01 2023-06-22 01:00:00"
            ],
            "text/html": [
              "\n",
              "  <div id=\"df-5af1a901-c26e-42cc-b676-423d63c226ad\">\n",
              "    <div class=\"colab-df-container\">\n",
              "      <div>\n",
              "<style scoped>\n",
              "    .dataframe tbody tr th:only-of-type {\n",
              "        vertical-align: middle;\n",
              "    }\n",
              "\n",
              "    .dataframe tbody tr th {\n",
              "        vertical-align: top;\n",
              "    }\n",
              "\n",
              "    .dataframe thead th {\n",
              "        text-align: right;\n",
              "    }\n",
              "</style>\n",
              "<table border=\"1\" class=\"dataframe\">\n",
              "  <thead>\n",
              "    <tr style=\"text-align: right;\">\n",
              "      <th></th>\n",
              "      <th>height</th>\n",
              "      <th>date</th>\n",
              "      <th>Only_time</th>\n",
              "    </tr>\n",
              "  </thead>\n",
              "  <tbody>\n",
              "    <tr>\n",
              "      <th>0</th>\n",
              "      <td>2.65</td>\n",
              "      <td>2015-01-01</td>\n",
              "      <td>2023-06-22 00:00:00</td>\n",
              "    </tr>\n",
              "    <tr>\n",
              "      <th>1</th>\n",
              "      <td>2.64</td>\n",
              "      <td>2015-01-01</td>\n",
              "      <td>2023-06-22 00:15:00</td>\n",
              "    </tr>\n",
              "    <tr>\n",
              "      <th>2</th>\n",
              "      <td>2.64</td>\n",
              "      <td>2015-01-01</td>\n",
              "      <td>2023-06-22 00:30:00</td>\n",
              "    </tr>\n",
              "    <tr>\n",
              "      <th>3</th>\n",
              "      <td>2.62</td>\n",
              "      <td>2015-01-01</td>\n",
              "      <td>2023-06-22 00:45:00</td>\n",
              "    </tr>\n",
              "    <tr>\n",
              "      <th>4</th>\n",
              "      <td>2.58</td>\n",
              "      <td>2015-01-01</td>\n",
              "      <td>2023-06-22 01:00:00</td>\n",
              "    </tr>\n",
              "  </tbody>\n",
              "</table>\n",
              "</div>\n",
              "      <button class=\"colab-df-convert\" onclick=\"convertToInteractive('df-5af1a901-c26e-42cc-b676-423d63c226ad')\"\n",
              "              title=\"Convert this dataframe to an interactive table.\"\n",
              "              style=\"display:none;\">\n",
              "        \n",
              "  <svg xmlns=\"http://www.w3.org/2000/svg\" height=\"24px\"viewBox=\"0 0 24 24\"\n",
              "       width=\"24px\">\n",
              "    <path d=\"M0 0h24v24H0V0z\" fill=\"none\"/>\n",
              "    <path d=\"M18.56 5.44l.94 2.06.94-2.06 2.06-.94-2.06-.94-.94-2.06-.94 2.06-2.06.94zm-11 1L8.5 8.5l.94-2.06 2.06-.94-2.06-.94L8.5 2.5l-.94 2.06-2.06.94zm10 10l.94 2.06.94-2.06 2.06-.94-2.06-.94-.94-2.06-.94 2.06-2.06.94z\"/><path d=\"M17.41 7.96l-1.37-1.37c-.4-.4-.92-.59-1.43-.59-.52 0-1.04.2-1.43.59L10.3 9.45l-7.72 7.72c-.78.78-.78 2.05 0 2.83L4 21.41c.39.39.9.59 1.41.59.51 0 1.02-.2 1.41-.59l7.78-7.78 2.81-2.81c.8-.78.8-2.07 0-2.86zM5.41 20L4 18.59l7.72-7.72 1.47 1.35L5.41 20z\"/>\n",
              "  </svg>\n",
              "      </button>\n",
              "      \n",
              "  <style>\n",
              "    .colab-df-container {\n",
              "      display:flex;\n",
              "      flex-wrap:wrap;\n",
              "      gap: 12px;\n",
              "    }\n",
              "\n",
              "    .colab-df-convert {\n",
              "      background-color: #E8F0FE;\n",
              "      border: none;\n",
              "      border-radius: 50%;\n",
              "      cursor: pointer;\n",
              "      display: none;\n",
              "      fill: #1967D2;\n",
              "      height: 32px;\n",
              "      padding: 0 0 0 0;\n",
              "      width: 32px;\n",
              "    }\n",
              "\n",
              "    .colab-df-convert:hover {\n",
              "      background-color: #E2EBFA;\n",
              "      box-shadow: 0px 1px 2px rgba(60, 64, 67, 0.3), 0px 1px 3px 1px rgba(60, 64, 67, 0.15);\n",
              "      fill: #174EA6;\n",
              "    }\n",
              "\n",
              "    [theme=dark] .colab-df-convert {\n",
              "      background-color: #3B4455;\n",
              "      fill: #D2E3FC;\n",
              "    }\n",
              "\n",
              "    [theme=dark] .colab-df-convert:hover {\n",
              "      background-color: #434B5C;\n",
              "      box-shadow: 0px 1px 3px 1px rgba(0, 0, 0, 0.15);\n",
              "      filter: drop-shadow(0px 1px 2px rgba(0, 0, 0, 0.3));\n",
              "      fill: #FFFFFF;\n",
              "    }\n",
              "  </style>\n",
              "\n",
              "      <script>\n",
              "        const buttonEl =\n",
              "          document.querySelector('#df-5af1a901-c26e-42cc-b676-423d63c226ad button.colab-df-convert');\n",
              "        buttonEl.style.display =\n",
              "          google.colab.kernel.accessAllowed ? 'block' : 'none';\n",
              "\n",
              "        async function convertToInteractive(key) {\n",
              "          const element = document.querySelector('#df-5af1a901-c26e-42cc-b676-423d63c226ad');\n",
              "          const dataTable =\n",
              "            await google.colab.kernel.invokeFunction('convertToInteractive',\n",
              "                                                     [key], {});\n",
              "          if (!dataTable) return;\n",
              "\n",
              "          const docLinkHtml = 'Like what you see? Visit the ' +\n",
              "            '<a target=\"_blank\" href=https://colab.research.google.com/notebooks/data_table.ipynb>data table notebook</a>'\n",
              "            + ' to learn more about interactive tables.';\n",
              "          element.innerHTML = '';\n",
              "          dataTable['output_type'] = 'display_data';\n",
              "          await google.colab.output.renderOutput(dataTable, element);\n",
              "          const docLink = document.createElement('div');\n",
              "          docLink.innerHTML = docLinkHtml;\n",
              "          element.appendChild(docLink);\n",
              "        }\n",
              "      </script>\n",
              "    </div>\n",
              "  </div>\n",
              "  "
            ]
          },
          "metadata": {},
          "execution_count": 55
        }
      ],
      "source": [
        "data.head()"
      ]
    },
    {
      "cell_type": "code",
      "execution_count": null,
      "metadata": {
        "id": "-K-Q5IGFdHvP"
      },
      "outputs": [],
      "source": [
        "# Not converting into seperate columns\n",
        "df = pd.read_csv('/content/SWEETWATER CREEK.csv')"
      ]
    },
    {
      "cell_type": "code",
      "execution_count": null,
      "metadata": {
        "id": "-OJ453n7dNI-"
      },
      "outputs": [],
      "source": [
        "df['time'] = pd.to_datetime(df['time'])"
      ]
    },
    {
      "cell_type": "code",
      "execution_count": null,
      "metadata": {
        "id": "NatY0fF3dPCF",
        "colab": {
          "base_uri": "https://localhost:8080/",
          "height": 206
        },
        "outputId": "4a1cdfa2-61b7-48a3-8030-f08b0c17d728"
      },
      "outputs": [
        {
          "output_type": "execute_result",
          "data": {
            "text/plain": [
              "                 time  height\n",
              "0 2015-01-01 00:00:00    2.65\n",
              "1 2015-01-01 00:15:00    2.64\n",
              "2 2015-01-01 00:30:00    2.64\n",
              "3 2015-01-01 00:45:00    2.62\n",
              "4 2015-01-01 01:00:00    2.58"
            ],
            "text/html": [
              "\n",
              "  <div id=\"df-f844421b-68f3-4dc1-a048-540043751e21\">\n",
              "    <div class=\"colab-df-container\">\n",
              "      <div>\n",
              "<style scoped>\n",
              "    .dataframe tbody tr th:only-of-type {\n",
              "        vertical-align: middle;\n",
              "    }\n",
              "\n",
              "    .dataframe tbody tr th {\n",
              "        vertical-align: top;\n",
              "    }\n",
              "\n",
              "    .dataframe thead th {\n",
              "        text-align: right;\n",
              "    }\n",
              "</style>\n",
              "<table border=\"1\" class=\"dataframe\">\n",
              "  <thead>\n",
              "    <tr style=\"text-align: right;\">\n",
              "      <th></th>\n",
              "      <th>time</th>\n",
              "      <th>height</th>\n",
              "    </tr>\n",
              "  </thead>\n",
              "  <tbody>\n",
              "    <tr>\n",
              "      <th>0</th>\n",
              "      <td>2015-01-01 00:00:00</td>\n",
              "      <td>2.65</td>\n",
              "    </tr>\n",
              "    <tr>\n",
              "      <th>1</th>\n",
              "      <td>2015-01-01 00:15:00</td>\n",
              "      <td>2.64</td>\n",
              "    </tr>\n",
              "    <tr>\n",
              "      <th>2</th>\n",
              "      <td>2015-01-01 00:30:00</td>\n",
              "      <td>2.64</td>\n",
              "    </tr>\n",
              "    <tr>\n",
              "      <th>3</th>\n",
              "      <td>2015-01-01 00:45:00</td>\n",
              "      <td>2.62</td>\n",
              "    </tr>\n",
              "    <tr>\n",
              "      <th>4</th>\n",
              "      <td>2015-01-01 01:00:00</td>\n",
              "      <td>2.58</td>\n",
              "    </tr>\n",
              "  </tbody>\n",
              "</table>\n",
              "</div>\n",
              "      <button class=\"colab-df-convert\" onclick=\"convertToInteractive('df-f844421b-68f3-4dc1-a048-540043751e21')\"\n",
              "              title=\"Convert this dataframe to an interactive table.\"\n",
              "              style=\"display:none;\">\n",
              "        \n",
              "  <svg xmlns=\"http://www.w3.org/2000/svg\" height=\"24px\"viewBox=\"0 0 24 24\"\n",
              "       width=\"24px\">\n",
              "    <path d=\"M0 0h24v24H0V0z\" fill=\"none\"/>\n",
              "    <path d=\"M18.56 5.44l.94 2.06.94-2.06 2.06-.94-2.06-.94-.94-2.06-.94 2.06-2.06.94zm-11 1L8.5 8.5l.94-2.06 2.06-.94-2.06-.94L8.5 2.5l-.94 2.06-2.06.94zm10 10l.94 2.06.94-2.06 2.06-.94-2.06-.94-.94-2.06-.94 2.06-2.06.94z\"/><path d=\"M17.41 7.96l-1.37-1.37c-.4-.4-.92-.59-1.43-.59-.52 0-1.04.2-1.43.59L10.3 9.45l-7.72 7.72c-.78.78-.78 2.05 0 2.83L4 21.41c.39.39.9.59 1.41.59.51 0 1.02-.2 1.41-.59l7.78-7.78 2.81-2.81c.8-.78.8-2.07 0-2.86zM5.41 20L4 18.59l7.72-7.72 1.47 1.35L5.41 20z\"/>\n",
              "  </svg>\n",
              "      </button>\n",
              "      \n",
              "  <style>\n",
              "    .colab-df-container {\n",
              "      display:flex;\n",
              "      flex-wrap:wrap;\n",
              "      gap: 12px;\n",
              "    }\n",
              "\n",
              "    .colab-df-convert {\n",
              "      background-color: #E8F0FE;\n",
              "      border: none;\n",
              "      border-radius: 50%;\n",
              "      cursor: pointer;\n",
              "      display: none;\n",
              "      fill: #1967D2;\n",
              "      height: 32px;\n",
              "      padding: 0 0 0 0;\n",
              "      width: 32px;\n",
              "    }\n",
              "\n",
              "    .colab-df-convert:hover {\n",
              "      background-color: #E2EBFA;\n",
              "      box-shadow: 0px 1px 2px rgba(60, 64, 67, 0.3), 0px 1px 3px 1px rgba(60, 64, 67, 0.15);\n",
              "      fill: #174EA6;\n",
              "    }\n",
              "\n",
              "    [theme=dark] .colab-df-convert {\n",
              "      background-color: #3B4455;\n",
              "      fill: #D2E3FC;\n",
              "    }\n",
              "\n",
              "    [theme=dark] .colab-df-convert:hover {\n",
              "      background-color: #434B5C;\n",
              "      box-shadow: 0px 1px 3px 1px rgba(0, 0, 0, 0.15);\n",
              "      filter: drop-shadow(0px 1px 2px rgba(0, 0, 0, 0.3));\n",
              "      fill: #FFFFFF;\n",
              "    }\n",
              "  </style>\n",
              "\n",
              "      <script>\n",
              "        const buttonEl =\n",
              "          document.querySelector('#df-f844421b-68f3-4dc1-a048-540043751e21 button.colab-df-convert');\n",
              "        buttonEl.style.display =\n",
              "          google.colab.kernel.accessAllowed ? 'block' : 'none';\n",
              "\n",
              "        async function convertToInteractive(key) {\n",
              "          const element = document.querySelector('#df-f844421b-68f3-4dc1-a048-540043751e21');\n",
              "          const dataTable =\n",
              "            await google.colab.kernel.invokeFunction('convertToInteractive',\n",
              "                                                     [key], {});\n",
              "          if (!dataTable) return;\n",
              "\n",
              "          const docLinkHtml = 'Like what you see? Visit the ' +\n",
              "            '<a target=\"_blank\" href=https://colab.research.google.com/notebooks/data_table.ipynb>data table notebook</a>'\n",
              "            + ' to learn more about interactive tables.';\n",
              "          element.innerHTML = '';\n",
              "          dataTable['output_type'] = 'display_data';\n",
              "          await google.colab.output.renderOutput(dataTable, element);\n",
              "          const docLink = document.createElement('div');\n",
              "          docLink.innerHTML = docLinkHtml;\n",
              "          element.appendChild(docLink);\n",
              "        }\n",
              "      </script>\n",
              "    </div>\n",
              "  </div>\n",
              "  "
            ]
          },
          "metadata": {},
          "execution_count": 58
        }
      ],
      "source": [
        "df.head()"
      ]
    },
    {
      "cell_type": "code",
      "execution_count": null,
      "metadata": {
        "id": "_qQxUJoydRXN",
        "colab": {
          "base_uri": "https://localhost:8080/",
          "height": 410
        },
        "outputId": "cc3b5e09-fe48-424a-f23f-fdc1177f65c8"
      },
      "outputs": [
        {
          "output_type": "display_data",
          "data": {
            "text/plain": [
              "<Figure size 1500x400 with 1 Axes>"
            ],
            "image/png": "[encoded data removed]"
          },
          "metadata": {}
        }
      ],
      "source": [
        "plt.figure(figsize=(15,4))\n",
        "plt.plot(df['time'],df['height'])\n",
        "plt.gca().set(title='Water height in Chattahoochee River from 2015-01-01 to 2019-09-09', xlabel='year', ylabel='Water height')\n",
        "plt.show()"
      ]
    },
    {
      "cell_type": "code",
      "execution_count": null,
      "metadata": {
        "id": "NBWn3oWZdb08",
        "colab": {
          "base_uri": "https://localhost:8080/",
          "height": 447
        },
        "outputId": "82c3d475-12ee-4b44-e9ea-11c9b9a06851"
      },
      "outputs": [
        {
          "output_type": "execute_result",
          "data": {
            "text/plain": [
              "<Axes: >"
            ]
          },
          "metadata": {},
          "execution_count": 60
        },
        {
          "output_type": "display_data",
          "data": {
            "text/plain": [
              "<Figure size 640x480 with 1 Axes>"
            ],
            "image/png": "[encoded data removed]"
          },
          "metadata": {}
        }
      ],
      "source": [
        "df['height'].plot(xlim=['2015-09-09','2019-09-09'],ls='--',c='green')"
      ]
    },
    {
      "cell_type": "code",
      "execution_count": null,
      "metadata": {
        "id": "BcPhG1cmdeYo",
        "colab": {
          "base_uri": "https://localhost:8080/"
        },
        "outputId": "783aeb80-8f06-4ac8-ab43-a644ae317e86"
      },
      "outputs": [
        {
          "output_type": "execute_result",
          "data": {
            "text/plain": [
              "RangeIndex(start=0, stop=245630, step=1)"
            ]
          },
          "metadata": {},
          "execution_count": 61
        }
      ],
      "source": [
        "df.index"
      ]
    },
    {
      "cell_type": "code",
      "execution_count": null,
      "metadata": {
        "id": "z1YrYDaHeCGs"
      },
      "outputs": [],
      "source": [
        "# df.head()"
      ]
    },
    {
      "cell_type": "code",
      "execution_count": null,
      "metadata": {
        "id": "VYigxqakeEjc"
      },
      "outputs": [],
      "source": [
        "df = df.set_index('time',drop=True)"
      ]
    },
    {
      "cell_type": "code",
      "execution_count": null,
      "metadata": {
        "id": "W6PUqyODeemD",
        "colab": {
          "base_uri": "https://localhost:8080/",
          "height": 614
        },
        "outputId": "f513b8aa-c5a0-485b-ea66-8f7fd083c8c3"
      },
      "outputs": [
        {
          "output_type": "execute_result",
          "data": {
            "text/plain": [
              "<Axes: xlabel='time'>"
            ]
          },
          "metadata": {},
          "execution_count": 64
        },
        {
          "output_type": "display_data",
          "data": {
            "text/plain": [
              "<Figure size 1200x500 with 1 Axes>"
            ],
            "image/png": "[encoded data removed]"
          },
          "metadata": {}
        }
      ],
      "source": [
        "df.resample(rule='A').mean().plot(kind='bar',figsize=(12,5))"
      ]
    },
    {
      "cell_type": "code",
      "execution_count": null,
      "metadata": {
        "id": "L4kud0ETegmJ",
        "colab": {
          "base_uri": "https://localhost:8080/",
          "height": 423
        },
        "outputId": "19085003-cbe5-43e4-9916-7ec56c45d12a"
      },
      "outputs": [
        {
          "output_type": "execute_result",
          "data": {
            "text/plain": [
              "        Year  Month  day  Hour  height\n",
              "0       2015      1    1     0    2.65\n",
              "1       2015      1    1     0    2.64\n",
              "2       2015      1    1     0    2.64\n",
              "3       2015      1    1     0    2.62\n",
              "4       2015      1    1     1    2.58\n",
              "...      ...    ...  ...   ...     ...\n",
              "245625  2022      2    9    15    2.39\n",
              "245626  2022      2    9    16    2.36\n",
              "245627  2022      2    9    16    2.37\n",
              "245628  2022      2    9    16    2.40\n",
              "245629  2022      2    9    16    2.41\n",
              "\n",
              "[245630 rows x 5 columns]"
            ],
            "text/html": [
              "\n",
              "  <div id=\"df-6a892af6-7683-4561-a737-ce79d4764fc4\">\n",
              "    <div class=\"colab-df-container\">\n",
              "      <div>\n",
              "<style scoped>\n",
              "    .dataframe tbody tr th:only-of-type {\n",
              "        vertical-align: middle;\n",
              "    }\n",
              "\n",
              "    .dataframe tbody tr th {\n",
              "        vertical-align: top;\n",
              "    }\n",
              "\n",
              "    .dataframe thead th {\n",
              "        text-align: right;\n",
              "    }\n",
              "</style>\n",
              "<table border=\"1\" class=\"dataframe\">\n",
              "  <thead>\n",
              "    <tr style=\"text-align: right;\">\n",
              "      <th></th>\n",
              "      <th>Year</th>\n",
              "      <th>Month</th>\n",
              "      <th>day</th>\n",
              "      <th>Hour</th>\n",
              "      <th>height</th>\n",
              "    </tr>\n",
              "  </thead>\n",
              "  <tbody>\n",
              "    <tr>\n",
              "      <th>0</th>\n",
              "      <td>2015</td>\n",
              "      <td>1</td>\n",
              "      <td>1</td>\n",
              "      <td>0</td>\n",
              "      <td>2.65</td>\n",
              "    </tr>\n",
              "    <tr>\n",
              "      <th>1</th>\n",
              "      <td>2015</td>\n",
              "      <td>1</td>\n",
              "      <td>1</td>\n",
              "      <td>0</td>\n",
              "      <td>2.64</td>\n",
              "    </tr>\n",
              "    <tr>\n",
              "      <th>2</th>\n",
              "      <td>2015</td>\n",
              "      <td>1</td>\n",
              "      <td>1</td>\n",
              "      <td>0</td>\n",
              "      <td>2.64</td>\n",
              "    </tr>\n",
              "    <tr>\n",
              "      <th>3</th>\n",
              "      <td>2015</td>\n",
              "      <td>1</td>\n",
              "      <td>1</td>\n",
              "      <td>0</td>\n",
              "      <td>2.62</td>\n",
              "    </tr>\n",
              "    <tr>\n",
              "      <th>4</th>\n",
              "      <td>2015</td>\n",
              "      <td>1</td>\n",
              "      <td>1</td>\n",
              "      <td>1</td>\n",
              "      <td>2.58</td>\n",
              "    </tr>\n",
              "    <tr>\n",
              "      <th>...</th>\n",
              "      <td>...</td>\n",
              "      <td>...</td>\n",
              "      <td>...</td>\n",
              "      <td>...</td>\n",
              "      <td>...</td>\n",
              "    </tr>\n",
              "    <tr>\n",
              "      <th>245625</th>\n",
              "      <td>2022</td>\n",
              "      <td>2</td>\n",
              "      <td>9</td>\n",
              "      <td>15</td>\n",
              "      <td>2.39</td>\n",
              "    </tr>\n",
              "    <tr>\n",
              "      <th>245626</th>\n",
              "      <td>2022</td>\n",
              "      <td>2</td>\n",
              "      <td>9</td>\n",
              "      <td>16</td>\n",
              "      <td>2.36</td>\n",
              "    </tr>\n",
              "    <tr>\n",
              "      <th>245627</th>\n",
              "      <td>2022</td>\n",
              "      <td>2</td>\n",
              "      <td>9</td>\n",
              "      <td>16</td>\n",
              "      <td>2.37</td>\n",
              "    </tr>\n",
              "    <tr>\n",
              "      <th>245628</th>\n",
              "      <td>2022</td>\n",
              "      <td>2</td>\n",
              "      <td>9</td>\n",
              "      <td>16</td>\n",
              "      <td>2.40</td>\n",
              "    </tr>\n",
              "    <tr>\n",
              "      <th>245629</th>\n",
              "      <td>2022</td>\n",
              "      <td>2</td>\n",
              "      <td>9</td>\n",
              "      <td>16</td>\n",
              "      <td>2.41</td>\n",
              "    </tr>\n",
              "  </tbody>\n",
              "</table>\n",
              "<p>245630 rows × 5 columns</p>\n",
              "</div>\n",
              "      <button class=\"colab-df-convert\" onclick=\"convertToInteractive('df-6a892af6-7683-4561-a737-ce79d4764fc4')\"\n",
              "              title=\"Convert this dataframe to an interactive table.\"\n",
              "              style=\"display:none;\">\n",
              "        \n",
              "  <svg xmlns=\"http://www.w3.org/2000/svg\" height=\"24px\"viewBox=\"0 0 24 24\"\n",
              "       width=\"24px\">\n",
              "    <path d=\"M0 0h24v24H0V0z\" fill=\"none\"/>\n",
              "    <path d=\"M18.56 5.44l.94 2.06.94-2.06 2.06-.94-2.06-.94-.94-2.06-.94 2.06-2.06.94zm-11 1L8.5 8.5l.94-2.06 2.06-.94-2.06-.94L8.5 2.5l-.94 2.06-2.06.94zm10 10l.94 2.06.94-2.06 2.06-.94-2.06-.94-.94-2.06-.94 2.06-2.06.94z\"/><path d=\"M17.41 7.96l-1.37-1.37c-.4-.4-.92-.59-1.43-.59-.52 0-1.04.2-1.43.59L10.3 9.45l-7.72 7.72c-.78.78-.78 2.05 0 2.83L4 21.41c.39.39.9.59 1.41.59.51 0 1.02-.2 1.41-.59l7.78-7.78 2.81-2.81c.8-.78.8-2.07 0-2.86zM5.41 20L4 18.59l7.72-7.72 1.47 1.35L5.41 20z\"/>\n",
              "  </svg>\n",
              "      </button>\n",
              "      \n",
              "  <style>\n",
              "    .colab-df-container {\n",
              "      display:flex;\n",
              "      flex-wrap:wrap;\n",
              "      gap: 12px;\n",
              "    }\n",
              "\n",
              "    .colab-df-convert {\n",
              "      background-color: #E8F0FE;\n",
              "      border: none;\n",
              "      border-radius: 50%;\n",
              "      cursor: pointer;\n",
              "      display: none;\n",
              "      fill: #1967D2;\n",
              "      height: 32px;\n",
              "      padding: 0 0 0 0;\n",
              "      width: 32px;\n",
              "    }\n",
              "\n",
              "    .colab-df-convert:hover {\n",
              "      background-color: #E2EBFA;\n",
              "      box-shadow: 0px 1px 2px rgba(60, 64, 67, 0.3), 0px 1px 3px 1px rgba(60, 64, 67, 0.15);\n",
              "      fill: #174EA6;\n",
              "    }\n",
              "\n",
              "    [theme=dark] .colab-df-convert {\n",
              "      background-color: #3B4455;\n",
              "      fill: #D2E3FC;\n",
              "    }\n",
              "\n",
              "    [theme=dark] .colab-df-convert:hover {\n",
              "      background-color: #434B5C;\n",
              "      box-shadow: 0px 1px 3px 1px rgba(0, 0, 0, 0.15);\n",
              "      filter: drop-shadow(0px 1px 2px rgba(0, 0, 0, 0.3));\n",
              "      fill: #FFFFFF;\n",
              "    }\n",
              "  </style>\n",
              "\n",
              "      <script>\n",
              "        const buttonEl =\n",
              "          document.querySelector('#df-6a892af6-7683-4561-a737-ce79d4764fc4 button.colab-df-convert');\n",
              "        buttonEl.style.display =\n",
              "          google.colab.kernel.accessAllowed ? 'block' : 'none';\n",
              "\n",
              "        async function convertToInteractive(key) {\n",
              "          const element = document.querySelector('#df-6a892af6-7683-4561-a737-ce79d4764fc4');\n",
              "          const dataTable =\n",
              "            await google.colab.kernel.invokeFunction('convertToInteractive',\n",
              "                                                     [key], {});\n",
              "          if (!dataTable) return;\n",
              "\n",
              "          const docLinkHtml = 'Like what you see? Visit the ' +\n",
              "            '<a target=\"_blank\" href=https://colab.research.google.com/notebooks/data_table.ipynb>data table notebook</a>'\n",
              "            + ' to learn more about interactive tables.';\n",
              "          element.innerHTML = '';\n",
              "          dataTable['output_type'] = 'display_data';\n",
              "          await google.colab.output.renderOutput(dataTable, element);\n",
              "          const docLink = document.createElement('div');\n",
              "          docLink.innerHTML = docLinkHtml;\n",
              "          element.appendChild(docLink);\n",
              "        }\n",
              "      </script>\n",
              "    </div>\n",
              "  </div>\n",
              "  "
            ]
          },
          "metadata": {},
          "execution_count": 65
        }
      ],
      "source": [
        " #Extracting features from date and time this way creating  new features.\n",
        "data['Month'] = [i.month for i in data['date']]\n",
        "data['Year'] = [i.year for i in data['date']]\n",
        "data['day'] = [i.day for i in data['date']]\n",
        "data['Hour'] = [i.hour for i in data['Only_time']]\n",
        "data['Minute'] = [i.minute for i in data['Only_time']]\n",
        "data['Second'] = [i.second for i in data['Only_time']]\n",
        "#drop unnecessary  columns and re-arrange\n",
        "data.drop('Minute',axis=1, inplace=True)\n",
        "data.drop('Second',axis=1, inplace=True)\n",
        "data = data[['Year', 'Month', 'day', 'Hour', 'height']]\n",
        "data"
      ]
    },
    {
      "cell_type": "code",
      "execution_count": null,
      "metadata": {
        "id": "Yg24Ya_8ewXn",
        "colab": {
          "base_uri": "https://localhost:8080/",
          "height": 423
        },
        "outputId": "56e53138-08af-4c0b-f996-182581d784e9"
      },
      "outputs": [
        {
          "output_type": "execute_result",
          "data": {
            "text/plain": [
              "        Year  Month  day  Hour     t   t+1\n",
              "1       2015      1    1     0  2.65  2.64\n",
              "2       2015      1    1     0  2.64  2.64\n",
              "3       2015      1    1     0  2.64  2.62\n",
              "4       2015      1    1     1  2.62  2.58\n",
              "5       2015      1    1     1  2.58  2.62\n",
              "...      ...    ...  ...   ...   ...   ...\n",
              "245625  2022      2    9    15  2.41  2.39\n",
              "245626  2022      2    9    16  2.39  2.36\n",
              "245627  2022      2    9    16  2.36  2.37\n",
              "245628  2022      2    9    16  2.37  2.40\n",
              "245629  2022      2    9    16  2.40  2.41\n",
              "\n",
              "[245629 rows x 6 columns]"
            ],
            "text/html": [
              "\n",
              "  <div id=\"df-7e3e994b-49c0-4b59-8049-7e677541da4f\">\n",
              "    <div class=\"colab-df-container\">\n",
              "      <div>\n",
              "<style scoped>\n",
              "    .dataframe tbody tr th:only-of-type {\n",
              "        vertical-align: middle;\n",
              "    }\n",
              "\n",
              "    .dataframe tbody tr th {\n",
              "        vertical-align: top;\n",
              "    }\n",
              "\n",
              "    .dataframe thead th {\n",
              "        text-align: right;\n",
              "    }\n",
              "</style>\n",
              "<table border=\"1\" class=\"dataframe\">\n",
              "  <thead>\n",
              "    <tr style=\"text-align: right;\">\n",
              "      <th></th>\n",
              "      <th>Year</th>\n",
              "      <th>Month</th>\n",
              "      <th>day</th>\n",
              "      <th>Hour</th>\n",
              "      <th>t</th>\n",
              "      <th>t+1</th>\n",
              "    </tr>\n",
              "  </thead>\n",
              "  <tbody>\n",
              "    <tr>\n",
              "      <th>1</th>\n",
              "      <td>2015</td>\n",
              "      <td>1</td>\n",
              "      <td>1</td>\n",
              "      <td>0</td>\n",
              "      <td>2.65</td>\n",
              "      <td>2.64</td>\n",
              "    </tr>\n",
              "    <tr>\n",
              "      <th>2</th>\n",
              "      <td>2015</td>\n",
              "      <td>1</td>\n",
              "      <td>1</td>\n",
              "      <td>0</td>\n",
              "      <td>2.64</td>\n",
              "      <td>2.64</td>\n",
              "    </tr>\n",
              "    <tr>\n",
              "      <th>3</th>\n",
              "      <td>2015</td>\n",
              "      <td>1</td>\n",
              "      <td>1</td>\n",
              "      <td>0</td>\n",
              "      <td>2.64</td>\n",
              "      <td>2.62</td>\n",
              "    </tr>\n",
              "    <tr>\n",
              "      <th>4</th>\n",
              "      <td>2015</td>\n",
              "      <td>1</td>\n",
              "      <td>1</td>\n",
              "      <td>1</td>\n",
              "      <td>2.62</td>\n",
              "      <td>2.58</td>\n",
              "    </tr>\n",
              "    <tr>\n",
              "      <th>5</th>\n",
              "      <td>2015</td>\n",
              "      <td>1</td>\n",
              "      <td>1</td>\n",
              "      <td>1</td>\n",
              "      <td>2.58</td>\n",
              "      <td>2.62</td>\n",
              "    </tr>\n",
              "    <tr>\n",
              "      <th>...</th>\n",
              "      <td>...</td>\n",
              "      <td>...</td>\n",
              "      <td>...</td>\n",
              "      <td>...</td>\n",
              "      <td>...</td>\n",
              "      <td>...</td>\n",
              "    </tr>\n",
              "    <tr>\n",
              "      <th>245625</th>\n",
              "      <td>2022</td>\n",
              "      <td>2</td>\n",
              "      <td>9</td>\n",
              "      <td>15</td>\n",
              "      <td>2.41</td>\n",
              "      <td>2.39</td>\n",
              "    </tr>\n",
              "    <tr>\n",
              "      <th>245626</th>\n",
              "      <td>2022</td>\n",
              "      <td>2</td>\n",
              "      <td>9</td>\n",
              "      <td>16</td>\n",
              "      <td>2.39</td>\n",
              "      <td>2.36</td>\n",
              "    </tr>\n",
              "    <tr>\n",
              "      <th>245627</th>\n",
              "      <td>2022</td>\n",
              "      <td>2</td>\n",
              "      <td>9</td>\n",
              "      <td>16</td>\n",
              "      <td>2.36</td>\n",
              "      <td>2.37</td>\n",
              "    </tr>\n",
              "    <tr>\n",
              "      <th>245628</th>\n",
              "      <td>2022</td>\n",
              "      <td>2</td>\n",
              "      <td>9</td>\n",
              "      <td>16</td>\n",
              "      <td>2.37</td>\n",
              "      <td>2.40</td>\n",
              "    </tr>\n",
              "    <tr>\n",
              "      <th>245629</th>\n",
              "      <td>2022</td>\n",
              "      <td>2</td>\n",
              "      <td>9</td>\n",
              "      <td>16</td>\n",
              "      <td>2.40</td>\n",
              "      <td>2.41</td>\n",
              "    </tr>\n",
              "  </tbody>\n",
              "</table>\n",
              "<p>245629 rows × 6 columns</p>\n",
              "</div>\n",
              "      <button class=\"colab-df-convert\" onclick=\"convertToInteractive('df-7e3e994b-49c0-4b59-8049-7e677541da4f')\"\n",
              "              title=\"Convert this dataframe to an interactive table.\"\n",
              "              style=\"display:none;\">\n",
              "        \n",
              "  <svg xmlns=\"http://www.w3.org/2000/svg\" height=\"24px\"viewBox=\"0 0 24 24\"\n",
              "       width=\"24px\">\n",
              "    <path d=\"M0 0h24v24H0V0z\" fill=\"none\"/>\n",
              "    <path d=\"M18.56 5.44l.94 2.06.94-2.06 2.06-.94-2.06-.94-.94-2.06-.94 2.06-2.06.94zm-11 1L8.5 8.5l.94-2.06 2.06-.94-2.06-.94L8.5 2.5l-.94 2.06-2.06.94zm10 10l.94 2.06.94-2.06 2.06-.94-2.06-.94-.94-2.06-.94 2.06-2.06.94z\"/><path d=\"M17.41 7.96l-1.37-1.37c-.4-.4-.92-.59-1.43-.59-.52 0-1.04.2-1.43.59L10.3 9.45l-7.72 7.72c-.78.78-.78 2.05 0 2.83L4 21.41c.39.39.9.59 1.41.59.51 0 1.02-.2 1.41-.59l7.78-7.78 2.81-2.81c.8-.78.8-2.07 0-2.86zM5.41 20L4 18.59l7.72-7.72 1.47 1.35L5.41 20z\"/>\n",
              "  </svg>\n",
              "      </button>\n",
              "      \n",
              "  <style>\n",
              "    .colab-df-container {\n",
              "      display:flex;\n",
              "      flex-wrap:wrap;\n",
              "      gap: 12px;\n",
              "    }\n",
              "\n",
              "    .colab-df-convert {\n",
              "      background-color: #E8F0FE;\n",
              "      border: none;\n",
              "      border-radius: 50%;\n",
              "      cursor: pointer;\n",
              "      display: none;\n",
              "      fill: #1967D2;\n",
              "      height: 32px;\n",
              "      padding: 0 0 0 0;\n",
              "      width: 32px;\n",
              "    }\n",
              "\n",
              "    .colab-df-convert:hover {\n",
              "      background-color: #E2EBFA;\n",
              "      box-shadow: 0px 1px 2px rgba(60, 64, 67, 0.3), 0px 1px 3px 1px rgba(60, 64, 67, 0.15);\n",
              "      fill: #174EA6;\n",
              "    }\n",
              "\n",
              "    [theme=dark] .colab-df-convert {\n",
              "      background-color: #3B4455;\n",
              "      fill: #D2E3FC;\n",
              "    }\n",
              "\n",
              "    [theme=dark] .colab-df-convert:hover {\n",
              "      background-color: #434B5C;\n",
              "      box-shadow: 0px 1px 3px 1px rgba(0, 0, 0, 0.15);\n",
              "      filter: drop-shadow(0px 1px 2px rgba(0, 0, 0, 0.3));\n",
              "      fill: #FFFFFF;\n",
              "    }\n",
              "  </style>\n",
              "\n",
              "      <script>\n",
              "        const buttonEl =\n",
              "          document.querySelector('#df-7e3e994b-49c0-4b59-8049-7e677541da4f button.colab-df-convert');\n",
              "        buttonEl.style.display =\n",
              "          google.colab.kernel.accessAllowed ? 'block' : 'none';\n",
              "\n",
              "        async function convertToInteractive(key) {\n",
              "          const element = document.querySelector('#df-7e3e994b-49c0-4b59-8049-7e677541da4f');\n",
              "          const dataTable =\n",
              "            await google.colab.kernel.invokeFunction('convertToInteractive',\n",
              "                                                     [key], {});\n",
              "          if (!dataTable) return;\n",
              "\n",
              "          const docLinkHtml = 'Like what you see? Visit the ' +\n",
              "            '<a target=\"_blank\" href=https://colab.research.google.com/notebooks/data_table.ipynb>data table notebook</a>'\n",
              "            + ' to learn more about interactive tables.';\n",
              "          element.innerHTML = '';\n",
              "          dataTable['output_type'] = 'display_data';\n",
              "          await google.colab.output.renderOutput(dataTable, element);\n",
              "          const docLink = document.createElement('div');\n",
              "          docLink.innerHTML = docLinkHtml;\n",
              "          element.appendChild(docLink);\n",
              "        }\n",
              "      </script>\n",
              "    </div>\n",
              "  </div>\n",
              "  "
            ]
          },
          "metadata": {},
          "execution_count": 66
        }
      ],
      "source": [
        "#create a dataframe that contains water level/height values at 't'\n",
        "temps = DataFrame(data['height'].values)\n",
        "# shift forward and concatenate with data\n",
        "temps_shift = concat([temps.shift(1, axis = 0),temps], axis=1)\n",
        "data = concat([data, temps_shift], axis=1)\n",
        "#drop repeated column\n",
        "data.drop('height',axis=1, inplace=True)\n",
        "#re-arrange\n",
        "data.columns = ['Year', 'Month', 'day', 'Hour','t', 't+1']\n",
        "#drop the first row with NaN value\n",
        "data.dropna(axis=0, inplace=True)\n",
        "data"
      ]
    },
    {
      "cell_type": "code",
      "execution_count": null,
      "metadata": {
        "id": "Z5tWEUPHezd8"
      },
      "outputs": [],
      "source": [
        "train = data[data['Year'] <= 2018]\n",
        "valid = data[(data['Year'] > 2018) & (data['Year'] < 2020)]\n",
        "test = data[data['Year'] >= 2020]"
      ]
    },
    {
      "cell_type": "code",
      "execution_count": null,
      "metadata": {
        "id": "N1blCawMe1v4"
      },
      "outputs": [],
      "source": [
        "#Separating the input and output variables\n",
        "train_X = train.iloc[:,:-1]\n",
        "train_y = train.iloc[:,-1]\n",
        "valid_X = valid.iloc[:,:-1]\n",
        "valid_y = valid.iloc[:,-1]\n",
        "test_X = test.iloc[:,:-1]\n",
        "test_y = test.iloc[:,-1]"
      ]
    },
    {
      "cell_type": "code",
      "execution_count": null,
      "metadata": {
        "id": "kuQVr4Bfe4ln",
        "colab": {
          "base_uri": "https://localhost:8080/"
        },
        "outputId": "bc0d796d-3c80-448d-8f24-e64c3c08feaa"
      },
      "outputs": [
        {
          "output_type": "stream",
          "name": "stdout",
          "text": [
            "train_X shape: (137549, 5)\n",
            "train_y shape: (137549,)\n",
            "valid_X shape: (34789, 5)\n",
            "valid_y shape: (34789,)\n",
            "test_X shape: (73291, 5)\n",
            "test_y shape: (73291,)\n"
          ]
        }
      ],
      "source": [
        "train_X = train_X.values\n",
        "print('train_X shape:', train_X.shape)\n",
        "train_y = train_y.values\n",
        "print('train_y shape:', train_y.shape)\n",
        "valid_X = valid_X.values\n",
        "print('valid_X shape:', valid_X.shape)\n",
        "valid_y = valid_y.values\n",
        "print('valid_y shape:', valid_y.shape)\n",
        "test_X = test_X.values\n",
        "print('test_X shape:', test_X.shape)\n",
        "test_y = test_y.values\n",
        "print('test_y shape:', test_y.shape)"
      ]
    },
    {
      "cell_type": "code",
      "execution_count": null,
      "metadata": {
        "id": "5ZN3b5qwe6AC",
        "colab": {
          "base_uri": "https://localhost:8080/",
          "height": 385
        },
        "outputId": "eb5ce970-12eb-4c62-ab9e-a7f8017cd71e"
      },
      "outputs": [
        {
          "output_type": "execute_result",
          "data": {
            "text/plain": [
              "<matplotlib.legend.Legend at 0x7f0f3f055cc0>"
            ]
          },
          "metadata": {},
          "execution_count": 70
        },
        {
          "output_type": "display_data",
          "data": {
            "text/plain": [
              "<Figure size 1500x400 with 1 Axes>"
            ],
            "image/png": "[encoded data removed]"
          },
          "metadata": {}
        }
      ],
      "source": [
        "#plot the distribution of train /valid/ test samples\n",
        "x1=np.arange(0,137549)\n",
        "x2 = np.arange(137549,172338)\n",
        "x3 = np.arange(172338,245629)\n",
        "plt.figure(figsize=(15,4), dpi=100)\n",
        "plt.plot(x1,train_y,'b',label='train')\n",
        "plt.plot(x2, valid_y, 'r', label='valid')\n",
        "plt.plot(x3,test_y,'g',label='test')\n",
        "plt.legend(loc='best')"
      ]
    },
    {
      "cell_type": "code",
      "execution_count": null,
      "metadata": {
        "id": "lZ9JglXQe8DM",
        "colab": {
          "base_uri": "https://localhost:8080/"
        },
        "outputId": "324e17ad-09cf-4380-89f1-4fc05986585b"
      },
      "outputs": [
        {
          "output_type": "stream",
          "name": "stdout",
          "text": [
            "Train set shape (137549, 5, 1)\n",
            "Validation set shape (34789, 5, 1)\n",
            "Validation set shape (73291, 5, 1)\n"
          ]
        }
      ],
      "source": [
        "#reshape the train/valid/test datasets as it matche the CNN input\n",
        "train_Xcnn = train_X.reshape((train_X.shape[0], train_X.shape[1], 1))\n",
        "valid_Xcnn = valid_X.reshape((valid_X.shape[0], valid_X.shape[1], 1))\n",
        "test_Xcnn = test_X.reshape((test_X.shape[0], test_X.shape[1], 1))\n",
        "print('Train set shape', train_Xcnn.shape)\n",
        "print('Validation set shape', valid_Xcnn.shape)\n",
        "print('Validation set shape', test_Xcnn.shape)\n"
      ]
    },
    {
      "cell_type": "code",
      "source": [
        "!pip install keras-tuner\n"
      ],
      "metadata": {
        "colab": {
          "base_uri": "https://localhost:8080/"
        },
        "id": "YfV3hm3Vsn9o",
        "outputId": "3198d67e-dff8-4a06-90e0-76b798b0e4ff"
      },
      "execution_count": null,
      "outputs": [
        {
          "output_type": "stream",
          "name": "stdout",
          "text": [
            "Looking in indexes: https://pypi.org/simple, https://us-python.pkg.dev/colab-wheels/public/simple/\n",
            "Collecting keras-tuner\n",
            "  Downloading keras_tuner-1.3.5-py3-none-any.whl (176 kB)\n",
            "\u001b[2K     \u001b[90m━━━━━━━━━━━━━━━━━━━━━━━━━━━━━━━━━━━━━━━\u001b[0m \u001b[32m176.1/176.1 kB\u001b[0m \u001b[31m5.3 MB/s\u001b[0m eta \u001b[36m0:00:00\u001b[0m\n",
            "\u001b[?25hRequirement already satisfied: packaging in /usr/local/lib/python3.10/dist-packages (from keras-tuner) (23.1)\n",
            "Requirement already satisfied: requests in /usr/local/lib/python3.10/dist-packages (from keras-tuner) (2.27.1)\n",
            "Collecting kt-legacy (from keras-tuner)\n",
            "  Downloading kt_legacy-1.0.5-py3-none-any.whl (9.6 kB)\n",
            "Requirement already satisfied: urllib3<1.27,>=1.21.1 in /usr/local/lib/python3.10/dist-packages (from requests->keras-tuner) (1.26.15)\n",
            "Requirement already satisfied: certifi>=2017.4.17 in /usr/local/lib/python3.10/dist-packages (from requests->keras-tuner) (2022.12.7)\n",
            "Requirement already satisfied: charset-normalizer~=2.0.0 in /usr/local/lib/python3.10/dist-packages (from requests->keras-tuner) (2.0.12)\n",
            "Requirement already satisfied: idna<4,>=2.5 in /usr/local/lib/python3.10/dist-packages (from requests->keras-tuner) (3.4)\n",
            "Installing collected packages: kt-legacy, keras-tuner\n",
            "Successfully installed keras-tuner-1.3.5 kt-legacy-1.0.5\n"
          ]
        }
      ]
    },
    {
      "cell_type": "code",
      "source": [
        "import numpy as np\n",
        "from tensorflow import keras\n",
        "from tensorflow.keras.models import Sequential\n",
        "from tensorflow.keras.layers import Conv1D, MaxPooling1D, LSTM, Dropout, Dense\n",
        "from kerastuner.tuners import RandomSearch\n",
        "from sklearn.metrics import mean_squared_error, mean_absolute_error"
      ],
      "metadata": {
        "id": "pJDfpyYUtLUA",
        "colab": {
          "base_uri": "https://localhost:8080/"
        },
        "outputId": "fb2fdbb9-6a42-4e15-a30f-fc366d55188e"
      },
      "execution_count": null,
      "outputs": [
        {
          "output_type": "stream",
          "name": "stderr",
          "text": [
            "<ipython-input-73-d471313bbc5c>:5: DeprecationWarning: `import kerastuner` is deprecated, please use `import keras_tuner`.\n",
            "  from kerastuner.tuners import RandomSearch\n"
          ]
        }
      ]
    },
    {
      "cell_type": "code",
      "source": [
        "!pip install tensorflow-addons==0.16.1\n",
        "import tensorflow_addons as tfa"
      ],
      "metadata": {
        "colab": {
          "base_uri": "https://localhost:8080/"
        },
        "id": "rFk7uMShrrH5",
        "outputId": "eddc5b21-4ba4-4930-f260-955bf598263e"
      },
      "execution_count": null,
      "outputs": [
        {
          "output_type": "stream",
          "name": "stdout",
          "text": [
            "Looking in indexes: https://pypi.org/simple, https://us-python.pkg.dev/colab-wheels/public/simple/\n",
            "\u001b[33mWARNING: Retrying (Retry(total=4, connect=None, read=None, redirect=None, status=None)) after connection broken by 'ConnectTimeoutError(<pip._vendor.urllib3.connection.HTTPSConnection object at 0x7f8675fef520>, 'Connection to us-python.pkg.dev timed out. (connect timeout=15)')': /colab-wheels/public/simple/tensorflow-addons/\u001b[0m\u001b[33m\n",
            "\u001b[0mCollecting tensorflow-addons==0.16.1\n",
            "  Downloading tensorflow_addons-0.16.1-cp310-cp310-manylinux_2_12_x86_64.manylinux2010_x86_64.whl (1.1 MB)\n",
            "\u001b[2K     \u001b[90m━━━━━━━━━━━━━━━━━━━━━━━━━━━━━━━━━━━━━━━━\u001b[0m \u001b[32m1.1/1.1 MB\u001b[0m \u001b[31m18.1 MB/s\u001b[0m eta \u001b[36m0:00:00\u001b[0m\n",
            "\u001b[?25hCollecting typeguard>=2.7 (from tensorflow-addons==0.16.1)\n",
            "  Downloading typeguard-4.0.0-py3-none-any.whl (33 kB)\n",
            "Requirement already satisfied: typing-extensions>=4.4.0 in /usr/local/lib/python3.10/dist-packages (from typeguard>=2.7->tensorflow-addons==0.16.1) (4.5.0)\n",
            "Installing collected packages: typeguard, tensorflow-addons\n",
            "Successfully installed tensorflow-addons-0.16.1 typeguard-4.0.0\n"
          ]
        },
        {
          "output_type": "stream",
          "name": "stderr",
          "text": [
            "/usr/local/lib/python3.10/dist-packages/tensorflow_addons/utils/ensure_tf_install.py:53: UserWarning: Tensorflow Addons supports using Python ops for all Tensorflow versions above or equal to 2.6.0 and strictly below 2.9.0 (nightly versions are not supported). \n",
            " The versions of TensorFlow you are currently using is 2.12.0 and is not supported. \n",
            "Some things might work, some things might not.\n",
            "If you were to encounter a bug, do not file an issue.\n",
            "If you want to make sure you're using a tested and supported configuration, either change the TensorFlow version or the TensorFlow Addons's version. \n",
            "You can find the compatibility matrix in TensorFlow Addon's readme:\n",
            "https://github.com/tensorflow/addons\n",
            "  warnings.warn(\n"
          ]
        }
      ]
    },
    {
      "cell_type": "code",
      "source": [
        "pip install keras_tuner"
      ],
      "metadata": {
        "colab": {
          "base_uri": "https://localhost:8080/"
        },
        "id": "QNtFdbwrjplN",
        "outputId": "f416c4df-c530-4f17-a4f0-0c52bb207eb8"
      },
      "execution_count": null,
      "outputs": [
        {
          "output_type": "stream",
          "name": "stdout",
          "text": [
            "Looking in indexes: https://pypi.org/simple, https://us-python.pkg.dev/colab-wheels/public/simple/\n",
            "Requirement already satisfied: keras_tuner in /usr/local/lib/python3.10/dist-packages (1.3.5)\n",
            "Requirement already satisfied: packaging in /usr/local/lib/python3.10/dist-packages (from keras_tuner) (23.1)\n",
            "Requirement already satisfied: requests in /usr/local/lib/python3.10/dist-packages (from keras_tuner) (2.27.1)\n",
            "Requirement already satisfied: kt-legacy in /usr/local/lib/python3.10/dist-packages (from keras_tuner) (1.0.5)\n",
            "Requirement already satisfied: urllib3<1.27,>=1.21.1 in /usr/local/lib/python3.10/dist-packages (from requests->keras_tuner) (1.26.15)\n",
            "Requirement already satisfied: certifi>=2017.4.17 in /usr/local/lib/python3.10/dist-packages (from requests->keras_tuner) (2022.12.7)\n",
            "Requirement already satisfied: charset-normalizer~=2.0.0 in /usr/local/lib/python3.10/dist-packages (from requests->keras_tuner) (2.0.12)\n",
            "Requirement already satisfied: idna<4,>=2.5 in /usr/local/lib/python3.10/dist-packages (from requests->keras_tuner) (3.4)\n"
          ]
        }
      ]
    },
    {
      "cell_type": "code",
      "source": [
        "import tensorflow as tf\n",
        "from tensorflow.keras import layers\n",
        "\n",
        "class AttentionLayer(layers.Layer):\n",
        "    def __init__(self):\n",
        "        super(AttentionLayer, self).__init__()\n",
        "\n",
        "    def build(self, input_shape):\n",
        "        self.W = self.add_weight(name='att_weights', shape=(input_shape[-1], 1), initializer='random_normal', trainable=True)\n",
        "        self.b = self.add_weight(name='att_bias', shape=(input_shape[1], 1), initializer='zeros', trainable=True)\n",
        "        super(AttentionLayer, self).build(input_shape)\n",
        "\n",
        "    def call(self, inputs):\n",
        "        e = tf.keras.backend.dot(inputs, self.W) + self.b\n",
        "        a = tf.keras.activations.softmax(e, axis=1)\n",
        "        output = inputs * a\n",
        "        return tf.reduce_sum(output, axis=1)\n",
        "\n",
        "from tensorflow.keras.models import Sequential\n",
        "from tensorflow.keras.layers import LSTM, GRU, Dropout, Dense\n",
        "from kerastuner.tuners import RandomSearch\n",
        "from sklearn.metrics import mean_squared_error, mean_absolute_error\n",
        "\n",
        "model_gru_lstm = Sequential()\n",
        "model_gru_lstm.add(GRU(units=64, return_sequences=True, input_shape=(train_Xcnn.shape[1], train_Xcnn.shape[2]), activation='tanh'))\n",
        "model_gru_lstm.add(Dropout(0.2))\n",
        "model_gru_lstm.add(LSTM(units=64, return_sequences=True, activation='tanh'))\n",
        "model_gru_lstm.add(Dropout(0.2))\n",
        "model_gru_lstm.add(LSTM(units=32, return_sequences=True, activation='tanh'))\n",
        "model_gru_lstm.add(Dropout(0.2))\n",
        "model_gru_lstm.add(GRU(units=16, activation='tanh'))\n",
        "model_gru_lstm.add(Dropout(0.2))\n",
        "model_gru_lstm.add(Dense(units=1))\n",
        "\n",
        "# Add Attention layer\n",
        "model_gru_lstm.add(AttentionLayer())\n",
        "\n",
        "model_gru_lstm.compile(loss='mse', optimizer='adam', metrics=['mse', 'mae'])\n",
        "model_gru_lstm.summary()\n",
        "\n",
        "cnn_lstm_attention_history = model_gru_lstm.fit(train_Xcnn, train_y, epochs=5, verbose=2, batch_size=64)\n"
      ],
      "metadata": {
        "colab": {
          "base_uri": "https://localhost:8080/"
        },
        "id": "YU3ber2NgdL5",
        "outputId": "ae4b093d-de11-41d5-e18f-75ba91cfce5e"
      },
      "execution_count": null,
      "outputs": [
        {
          "output_type": "stream",
          "name": "stdout",
          "text": [
            "Model: \"sequential_16\"\n",
            "_________________________________________________________________\n",
            " Layer (type)                Output Shape              Param #   \n",
            "=================================================================\n",
            " gru_32 (GRU)                (None, 5, 64)             12864     \n",
            "                                                                 \n",
            " dropout_64 (Dropout)        (None, 5, 64)             0         \n",
            "                                                                 \n",
            " lstm_32 (LSTM)              (None, 5, 64)             33024     \n",
            "                                                                 \n",
            " dropout_65 (Dropout)        (None, 5, 64)             0         \n",
            "                                                                 \n",
            " lstm_33 (LSTM)              (None, 5, 32)             12416     \n",
            "                                                                 \n",
            " dropout_66 (Dropout)        (None, 5, 32)             0         \n",
            "                                                                 \n",
            " gru_33 (GRU)                (None, 16)                2400      \n",
            "                                                                 \n",
            " dropout_67 (Dropout)        (None, 16)                0         \n",
            "                                                                 \n",
            " dense_6 (Dense)             (None, 1)                 17        \n",
            "                                                                 \n",
            " attention_layer_7 (Attentio  (None,)                  2         \n",
            " nLayer)                                                         \n",
            "                                                                 \n",
            "=================================================================\n",
            "Total params: 60,723\n",
            "Trainable params: 60,723\n",
            "Non-trainable params: 0\n",
            "_________________________________________________________________\n",
            "Epoch 1/5\n",
            "2150/2150 - 27s - loss: 0.4409 - mse: 0.4408 - mae: 0.3604 - 27s/epoch - 13ms/step\n",
            "Epoch 2/5\n",
            "2150/2150 - 17s - loss: 0.1218 - mse: 0.1218 - mae: 0.2211 - 17s/epoch - 8ms/step\n",
            "Epoch 3/5\n",
            "2150/2150 - 18s - loss: 0.0932 - mse: 0.0931 - mae: 0.1850 - 18s/epoch - 8ms/step\n",
            "Epoch 4/5\n",
            "2150/2150 - 17s - loss: 0.0821 - mse: 0.0821 - mae: 0.1704 - 17s/epoch - 8ms/step\n",
            "Epoch 5/5\n",
            "2150/2150 - 17s - loss: 0.0744 - mse: 0.0744 - mae: 0.1609 - 17s/epoch - 8ms/step\n"
          ]
        }
      ]
    },
    {
      "cell_type": "code",
      "source": [
        "# cnn_lstm_attention_history = model_gru_lstm.fit(train_Xcnn, train_y, epochs=5, verbose=2, batch_size=64)"
      ],
      "metadata": {
        "id": "qQSuWG_Xs-Yl"
      },
      "execution_count": null,
      "outputs": []
    },
    {
      "cell_type": "code",
      "source": [
        "cnn_lstm_attention_history.history.keys()"
      ],
      "metadata": {
        "id": "ztYA255z1IRk",
        "colab": {
          "base_uri": "https://localhost:8080/"
        },
        "outputId": "dea93411-0774-4ab5-c4c4-fc7fa1645c60"
      },
      "execution_count": null,
      "outputs": [
        {
          "output_type": "execute_result",
          "data": {
            "text/plain": [
              "dict_keys(['loss', 'mse', 'mae'])"
            ]
          },
          "metadata": {},
          "execution_count": 97
        }
      ]
    },
    {
      "cell_type": "code",
      "execution_count": null,
      "metadata": {
        "id": "dTZmjglAgVcB",
        "colab": {
          "base_uri": "https://localhost:8080/",
          "height": 472
        },
        "outputId": "258b53d6-07eb-417e-91c8-b155be938de4"
      },
      "outputs": [
        {
          "output_type": "display_data",
          "data": {
            "text/plain": [
              "<Figure size 640x480 with 1 Axes>"
            ],
            "image/png": "[encoded data removed]"
          },
          "metadata": {}
        }
      ],
      "source": [
        "# summarize history for loss\n",
        "plt.plot(cnn_lstm_attention_history.history['mse'])\n",
        "plt.plot(cnn_lstm_attention_history.history['mse'])\n",
        "plt.title('CNN-LSTM mse')\n",
        "plt.ylabel('loss')\n",
        "plt.xlabel('epoch')\n",
        "plt.legend(['train', 'valid'], loc='upper right')\n",
        "plt.show()"
      ]
    },
    {
      "cell_type": "code",
      "execution_count": null,
      "metadata": {
        "id": "BGF7UGmVgW_K",
        "colab": {
          "base_uri": "https://localhost:8080/",
          "height": 472
        },
        "outputId": "d68e7eae-81e1-425b-c5f6-216f0f2b86b8"
      },
      "outputs": [
        {
          "output_type": "display_data",
          "data": {
            "text/plain": [
              "<Figure size 640x480 with 1 Axes>"
            ],
            "image/png": "[encoded data removed]"
          },
          "metadata": {}
        }
      ],
      "source": [
        "# summarize history for loss\n",
        "plt.plot(cnn_lstm_attention_history.history['mae'])\n",
        "plt.plot(cnn_lstm_attention_history.history['mae'])\n",
        "plt.title('CNN-LSTM mae')\n",
        "plt.ylabel('loss')\n",
        "plt.xlabel('epoch')\n",
        "plt.legend(['train', 'valid'], loc='upper right')\n",
        "plt.show()"
      ]
    },
    {
      "cell_type": "code",
      "execution_count": null,
      "metadata": {
        "id": "jx9brSEIgYWk",
        "colab": {
          "base_uri": "https://localhost:8080/"
        },
        "outputId": "2f918de2-d7f8-4e72-fd40-13e531ca0748"
      },
      "outputs": [
        {
          "output_type": "stream",
          "name": "stdout",
          "text": [
            "4299/4299 [==============================] - 17s 4ms/step\n",
            "1088/1088 [==============================] - 5s 4ms/step\n",
            "2291/2291 [==============================] - 8s 3ms/step\n",
            "Error in Next 6-hour prediction of water level using CNN\n",
            "Train rmse: 0.0824098051191887\n",
            "Validation rmse: 0.1773985026525283\n",
            "Test rmse: 0.047677881360755354\n",
            "Test mae : 0.045963864326477144\n",
            "Test mse : 0.0022731803710502626\n",
            "**********************************************************************\n"
          ]
        }
      ],
      "source": [
        "cnn_lstm_train_pred = model_gru_lstm.predict(train_Xcnn)\n",
        "cnn_lstm_valid_pred = model_gru_lstm.predict(valid_Xcnn)\n",
        "cnn_lstm_test_pred = model_gru_lstm.predict(test_Xcnn)\n",
        "print('Error in Next 6-hour prediction of water level using CNN')\n",
        "print('Train rmse:', np.sqrt(mean_squared_error(train_y[50:56],cnn_lstm_train_pred[50:56])))\n",
        "print('Validation rmse:', np.sqrt(mean_squared_error(valid_y[50:56], cnn_lstm_valid_pred[50:56])))\n",
        "print('Test rmse:', np.sqrt(mean_squared_error(test_y[50:56], cnn_lstm_test_pred[50:56])))\n",
        "print('Test mae :', metrics.mean_absolute_error(test_y[50:56], cnn_lstm_test_pred[50:56]))\n",
        "print('Test mse :', metrics.mean_squared_error(test_y[50:56], cnn_lstm_test_pred[50:56]))\n",
        "print('**********************************************************************')\n",
        "# def wape(actual, forecast):\n",
        "#     return np.sum(np.abs(actual - forecast)) / np.sum(actual) * 100\n",
        "\n",
        "# def nse(actual, forecast):\n",
        "#     return 1 - np.sum((forecast - actual) ** 2) / np.sum((actual - np.mean(actual)) ** 2)\n",
        "# wape_score = wape(test_y, cnn_lstm_test_pred)\n",
        "# nse_score = nse(test_y, cnn_lstm_test_pred)\n",
        "\n",
        "# print(f\"Test WAPE: {wape_score:.2f}%\")\n",
        "# print(f\"Test NSE: {nse_score:.4f}\")"
      ]
    },
    {
      "cell_type": "code",
      "execution_count": null,
      "metadata": {
        "id": "UcgfI6BJgaB4",
        "colab": {
          "base_uri": "https://localhost:8080/",
          "height": 489
        },
        "outputId": "fbcdc2f9-0e58-4ce9-e5f5-8f4e39edb235"
      },
      "outputs": [
        {
          "output_type": "stream",
          "name": "stdout",
          "text": [
            "2291/2291 [==============================] - 9s 4ms/step\n"
          ]
        },
        {
          "output_type": "display_data",
          "data": {
            "text/plain": [
              "<Figure size 640x480 with 1 Axes>"
            ],
            "image/png": "[encoded data removed]"
          },
          "metadata": {}
        }
      ],
      "source": [
        "# Plot the graph between actual vs predicted values\n",
        "y_pred = model_gru_lstm.predict(test_Xcnn)\n",
        "plt.plot(y_pred[50:56], color='green')\n",
        "plt.plot(test_y[50:56].flatten(), color='red')\n",
        "plt.title(\"Next 6-hour prediction of water level using CNN\")\n",
        "plt.xlabel(\"Time\")\n",
        "plt.ylabel(\"Water height\")\n",
        "plt.show()"
      ]
    },
    {
      "cell_type": "code",
      "source": [
        "from keras import backend as K\n",
        "from sklearn.metrics import r2_score\n",
        "\n",
        "y_pred = model_gru_lstm.predict(test_Xcnn)\n",
        "\n",
        "r2 = r2_score(cnn_lstm_test_pred[50:56], test_y[50:56])\n",
        "print('r2 score for 6 Hour Prediction of this perfect model is', r2)"
      ],
      "metadata": {
        "id": "LxxJZ4lXmEzF",
        "colab": {
          "base_uri": "https://localhost:8080/"
        },
        "outputId": "fecb5c94-a786-469b-dd8c-06a4a8668d73"
      },
      "execution_count": null,
      "outputs": [
        {
          "output_type": "stream",
          "name": "stdout",
          "text": [
            "2291/2291 [==============================] - 9s 4ms/step\n",
            "r2 score for 6 Hour Prediction of this perfect model is -39.91179613835711\n"
          ]
        }
      ]
    },
    {
      "cell_type": "code",
      "source": [
        "cnn_lstm_train_pred = model_gru_lstm.predict(train_Xcnn)\n",
        "cnn_lstm_valid_pred = model_gru_lstm.predict(valid_Xcnn)\n",
        "cnn_lstm_test_pred = model_gru_lstm.predict(test_Xcnn)\n",
        "print('Error in Next 12-hour prediction of water level using CNN')\n",
        "print('Train rmse:', np.sqrt(mean_squared_error(train_y[50:62],cnn_lstm_train_pred[50:62])))\n",
        "print('Validation rmse:', np.sqrt(mean_squared_error(valid_y[50:62], cnn_lstm_valid_pred[50:62])))\n",
        "print('Test rmse:', np.sqrt(mean_squared_error(test_y[50:62], cnn_lstm_test_pred[50:62])))\n",
        "print('Test mae :', metrics.mean_absolute_error(test_y[50:62], cnn_lstm_test_pred[50:62]))\n",
        "print('Test mse :', metrics.mean_squared_error(test_y[50:62], cnn_lstm_test_pred[50:62]))\n",
        "print('**********************************************************************')\n",
        "# def wape(actual, forecast):\n",
        "#     return np.sum(np.abs(actual - forecast)) / np.sum(actual) * 100\n",
        "\n",
        "# def nse(actual, forecast):\n",
        "#     return 1 - np.sum((forecast - actual) ** 2) / np.sum((actual - np.mean(actual)) ** 2)\n",
        "# wape_score = wape(test_y, cnn_lstm_test_pred)\n",
        "# nse_score = nse(test_y, cnn_lstm_test_pred)\n",
        "\n",
        "# print(f\"Test WAPE: {wape_score:.2f}%\")\n",
        "# print(f\"Test NSE: {nse_score:.4f}\")"
      ],
      "metadata": {
        "id": "OgeCMnw0nQx6",
        "colab": {
          "base_uri": "https://localhost:8080/"
        },
        "outputId": "5f211322-155d-4a3e-9598-560a5d010eed"
      },
      "execution_count": null,
      "outputs": [
        {
          "output_type": "stream",
          "name": "stdout",
          "text": [
            "4299/4299 [==============================] - 16s 4ms/step\n",
            "1088/1088 [==============================] - 4s 3ms/step\n",
            "2291/2291 [==============================] - 9s 4ms/step\n",
            "Error in Next 12-hour prediction of water level using CNN\n",
            "Train rmse: 0.08335736130171054\n",
            "Validation rmse: 0.17161005774152704\n",
            "Test rmse: 0.04792816949429378\n",
            "Test mae : 0.046730862061182744\n",
            "Test mse : 0.002297109431073753\n",
            "**********************************************************************\n"
          ]
        }
      ]
    },
    {
      "cell_type": "code",
      "source": [
        "# Plot the graph between actual vs predicted values\n",
        "y_pred = model_gru_lstm.predict(test_Xcnn)\n",
        "plt.plot(y_pred[50:62], color='green')\n",
        "plt.plot(test_y[50:62].flatten(), color='red')\n",
        "plt.title(\"Next 12-hour prediction of water level using CNN\")\n",
        "plt.xlabel(\"Time\")\n",
        "plt.ylabel(\"Water height\")\n",
        "plt.show()"
      ],
      "metadata": {
        "id": "YVT2HvTGnx5R",
        "colab": {
          "base_uri": "https://localhost:8080/",
          "height": 489
        },
        "outputId": "0fac8915-e2d4-46a7-fc96-f93718d01b3b"
      },
      "execution_count": null,
      "outputs": [
        {
          "output_type": "stream",
          "name": "stdout",
          "text": [
            "2291/2291 [==============================] - 9s 4ms/step\n"
          ]
        },
        {
          "output_type": "display_data",
          "data": {
            "text/plain": [
              "<Figure size 640x480 with 1 Axes>"
            ],
            "image/png": "[encoded data removed]"
          },
          "metadata": {}
        }
      ]
    },
    {
      "cell_type": "code",
      "source": [
        "from keras import backend as K\n",
        "from sklearn.metrics import r2_score\n",
        "\n",
        "y_pred = model_gru_lstm.predict(test_Xcnn)\n",
        "\n",
        "r2 = r2_score(cnn_lstm_test_pred[50:62], test_y[50:62])\n",
        "print('r2 score for 12 Hour Prediction of this perfect model is', r2)"
      ],
      "metadata": {
        "id": "A4nt25nxnyqC",
        "colab": {
          "base_uri": "https://localhost:8080/"
        },
        "outputId": "8c6782d9-06a5-456f-b36b-cef5df06052c"
      },
      "execution_count": null,
      "outputs": [
        {
          "output_type": "stream",
          "name": "stdout",
          "text": [
            "2291/2291 [==============================] - 8s 3ms/step\n",
            "r2 score for 12 Hour Prediction of this perfect model is -30.126589050497888\n"
          ]
        }
      ]
    },
    {
      "cell_type": "code",
      "source": [
        "cnn_lstm_train_pred = model_gru_lstm.predict(train_Xcnn)\n",
        "cnn_lstm_valid_pred = model_gru_lstm.predict(valid_Xcnn)\n",
        "cnn_lstm_test_pred = model_gru_lstm.predict(test_Xcnn)\n",
        "print('Error in Next 24-hour prediction of water level using CNN')\n",
        "print('Train rmse:', np.sqrt(mean_squared_error(train_y[50:74],cnn_lstm_train_pred[50:74])))\n",
        "print('Validation rmse:', np.sqrt(mean_squared_error(valid_y[50:74], cnn_lstm_valid_pred[50:74])))\n",
        "print('Test rmse:', np.sqrt(mean_squared_error(test_y[50:74], cnn_lstm_test_pred[50:74])))\n",
        "print('Test mae :', metrics.mean_absolute_error(test_y[50:74], cnn_lstm_test_pred[50:74]))\n",
        "print('Test mse :', metrics.mean_squared_error(test_y[50:74], cnn_lstm_test_pred[50:74]))\n",
        "print('**********************************************************************')\n"
      ],
      "metadata": {
        "id": "0hv72m5Rn7T5",
        "colab": {
          "base_uri": "https://localhost:8080/"
        },
        "outputId": "8fd47c50-3fba-4a43-ad13-5b85d96b93a2"
      },
      "execution_count": null,
      "outputs": [
        {
          "output_type": "stream",
          "name": "stdout",
          "text": [
            "4299/4299 [==============================] - 15s 4ms/step\n",
            "1088/1088 [==============================] - 4s 4ms/step\n",
            "2291/2291 [==============================] - 9s 4ms/step\n",
            "Error in Next 24-hour prediction of water level using CNN\n",
            "Train rmse: 0.08341420353117787\n",
            "Validation rmse: 0.16385622551081389\n",
            "Test rmse: 0.04825748667587212\n",
            "Test mae : 0.04735261082649239\n",
            "Test mse : 0.002328785020271975\n",
            "**********************************************************************\n"
          ]
        }
      ]
    },
    {
      "cell_type": "code",
      "source": [
        "# Plot the graph between actual vs predicted values\n",
        "y_pred = model_gru_lstm.predict(test_Xcnn)\n",
        "plt.plot(y_pred[50:74], color='green')\n",
        "plt.plot(test_y[50:74].flatten(), color='red')\n",
        "plt.title(\"Next 24-hour prediction of water level using CNN\")\n",
        "plt.xlabel(\"Time\")\n",
        "plt.ylabel(\"Water height\")\n",
        "plt.show()"
      ],
      "metadata": {
        "id": "mDOs4Qy1n9UG",
        "colab": {
          "base_uri": "https://localhost:8080/",
          "height": 489
        },
        "outputId": "2873c7a9-8181-4c82-961f-a973dcbf7696"
      },
      "execution_count": null,
      "outputs": [
        {
          "output_type": "stream",
          "name": "stdout",
          "text": [
            "2291/2291 [==============================] - 9s 4ms/step\n"
          ]
        },
        {
          "output_type": "display_data",
          "data": {
            "text/plain": [
              "<Figure size 640x480 with 1 Axes>"
            ],
            "image/png": "[encoded data removed]"
          },
          "metadata": {}
        }
      ]
    },
    {
      "cell_type": "code",
      "source": [
        "from keras import backend as K\n",
        "from sklearn.metrics import r2_score\n",
        "\n",
        "y_pred = model_gru_lstm.predict(test_Xcnn)\n",
        "\n",
        "r2 = r2_score(cnn_lstm_test_pred[50:74], test_y[50:74])\n",
        "print('r2 score for 24 Hour Prediction of this perfect model is', r2)"
      ],
      "metadata": {
        "id": "i2zD8aeen_Ji",
        "colab": {
          "base_uri": "https://localhost:8080/"
        },
        "outputId": "77f2b837-4eb1-4f41-98fc-100140dc7530"
      },
      "execution_count": null,
      "outputs": [
        {
          "output_type": "stream",
          "name": "stdout",
          "text": [
            "2291/2291 [==============================] - 8s 4ms/step\n",
            "r2 score for 24 Hour Prediction of this perfect model is -19.0005058897041\n"
          ]
        }
      ]
    },
    {
      "cell_type": "code",
      "source": [
        "cnn_lstm_train_pred = model_gru_lstm.predict(train_Xcnn)\n",
        "cnn_lstm_valid_pred = model_gru_lstm.predict(valid_Xcnn)\n",
        "cnn_lstm_test_pred = model_gru_lstm.predict(test_Xcnn)\n",
        "print('Error in Next 48-hour prediction of water level using CNN')\n",
        "print('Train rmse:', np.sqrt(mean_squared_error(train_y[50:98],cnn_lstm_train_pred[50:98])))\n",
        "print('Validation rmse:', np.sqrt(mean_squared_error(valid_y[50:98], cnn_lstm_valid_pred[50:98])))\n",
        "print('Test rmse:', np.sqrt(mean_squared_error(test_y[50:98], cnn_lstm_test_pred[50:98])))\n",
        "print('Test mae :', metrics.mean_absolute_error(test_y[50:98], cnn_lstm_test_pred[50:98]))\n",
        "print('Test mse :', metrics.mean_squared_error(test_y[50:98], cnn_lstm_test_pred[50:98]))\n",
        "print('**********************************************************************')\n"
      ],
      "metadata": {
        "id": "cISK7Rp5rPaH",
        "colab": {
          "base_uri": "https://localhost:8080/"
        },
        "outputId": "57984730-85d6-4ba0-8f43-6e78bd77d515"
      },
      "execution_count": null,
      "outputs": [
        {
          "output_type": "stream",
          "name": "stdout",
          "text": [
            "4299/4299 [==============================] - 17s 4ms/step\n",
            "1088/1088 [==============================] - 4s 3ms/step\n",
            "2291/2291 [==============================] - 9s 4ms/step\n",
            "Error in Next 48-hour prediction of water level using CNN\n",
            "Train rmse: 0.0807653508415958\n",
            "Validation rmse: 0.14627270852020358\n",
            "Test rmse: 0.04801175018127241\n",
            "Test mae : 0.04645508577426282\n",
            "Test mse : 0.0023051281554689117\n",
            "**********************************************************************\n"
          ]
        }
      ]
    },
    {
      "cell_type": "code",
      "source": [
        "# Plot the graph between actual vs predicted values\n",
        "y_pred = model_gru_lstm.predict(test_Xcnn)\n",
        "plt.plot(y_pred[50:98], color='green')\n",
        "plt.plot(test_y[50:98].flatten(), color='red')\n",
        "plt.title(\"Next 48-hour prediction of water level using CNN\")\n",
        "plt.xlabel(\"Time\")\n",
        "plt.ylabel(\"Water height\")\n",
        "plt.show()"
      ],
      "metadata": {
        "id": "mzb-25rvruy3",
        "colab": {
          "base_uri": "https://localhost:8080/",
          "height": 489
        },
        "outputId": "635c6816-d76f-408f-f018-eeb0bebb1be8"
      },
      "execution_count": null,
      "outputs": [
        {
          "output_type": "stream",
          "name": "stdout",
          "text": [
            "2291/2291 [==============================] - 8s 4ms/step\n"
          ]
        },
        {
          "output_type": "display_data",
          "data": {
            "text/plain": [
              "<Figure size 640x480 with 1 Axes>"
            ],
            "image/png": "[encoded data removed]"
          },
          "metadata": {}
        }
      ]
    },
    {
      "cell_type": "code",
      "source": [
        "from keras import backend as K\n",
        "from sklearn.metrics import r2_score\n",
        "\n",
        "y_pred = model_gru_lstm.predict(test_Xcnn)\n",
        "\n",
        "r2 = r2_score(cnn_lstm_test_pred[50:98], test_y[50:98])\n",
        "print('r2 score for 48 Hour Prediction of this perfect model is', r2)"
      ],
      "metadata": {
        "id": "GvLFsJn0r3cW",
        "colab": {
          "base_uri": "https://localhost:8080/"
        },
        "outputId": "09ddcabb-da57-4b17-f8e3-ed72630ee50a"
      },
      "execution_count": null,
      "outputs": [
        {
          "output_type": "stream",
          "name": "stdout",
          "text": [
            "2291/2291 [==============================] - 9s 4ms/step\n",
            "r2 score for 48 Hour Prediction of this perfect model is -8.298489060619836\n"
          ]
        }
      ]
    },
    {
      "cell_type": "code",
      "source": [],
      "metadata": {
        "id": "avhgwjuWr8cr"
      },
      "execution_count": null,
      "outputs": []
    }
  ],
  "metadata": {
    "colab": {
      "provenance": [],
      "gpuType": "T4",
      "include_colab_link": true
    },
    "kernelspec": {
      "display_name": "Python 3",
      "name": "python3"
    },
    "language_info": {
      "name": "python"
    },
    "accelerator": "GPU"
  },
  "nbformat": 4,
  "nbformat_minor": 0
}