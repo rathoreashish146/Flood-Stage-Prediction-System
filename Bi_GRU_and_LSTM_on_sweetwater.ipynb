{
  "cells": [
    {
      "cell_type": "markdown",
      "metadata": {
        "id": "view-in-github",
        "colab_type": "text"
      },
      "source": [
        "<a href=\"https://colab.research.google.com/github/rathoreashish146/Flood-Stage-Prediction-System/blob/main/Bi_GRU_and_LSTM_on_sweetwater.ipynb\" target=\"_parent\"><img src=\"https://colab.research.google.com/assets/colab-badge.svg\" alt=\"Open In Colab\"/></a>"
      ]
    },
    {
      "cell_type": "code",
      "source": [
        "import pandas as pd\n",
        "import numpy as np\n",
        "import seaborn as sns\n",
        "import pandas_datareader as pdr\n",
        "from datetime import datetime\n",
        "from pandas import DataFrame\n",
        "from pandas import concat\n",
        "import matplotlib.pyplot as plt\n",
        "import tensorflow as tf"
      ],
      "metadata": {
        "id": "FSF2pdmuhSDL"
      },
      "execution_count": null,
      "outputs": []
    },
    {
      "cell_type": "code",
      "execution_count": null,
      "metadata": {
        "id": "C7wIJjyXbxbf",
        "colab": {
          "base_uri": "https://localhost:8080/"
        },
        "outputId": "4aaa84bd-3bfa-42d7-db5d-2b8cd6426322"
      },
      "outputs": [
        {
          "output_type": "stream",
          "name": "stdout",
          "text": [
            "Looking in indexes: https://pypi.org/simple, https://us-python.pkg.dev/colab-wheels/public/simple/\n",
            "Requirement already satisfied: keras in /usr/local/lib/python3.10/dist-packages (2.12.0)\n"
          ]
        }
      ],
      "source": [
        "!sudo pip3 install keras\n",
        "\n",
        "from tensorflow.python.keras.engine.sequential import Sequential\n",
        "\n",
        "from tensorflow.python.keras.layers import Dense, Conv2D, Flatten, Dropout, MaxPooling2D\n",
        "\n",
        "from tensorflow.keras.layers import Dense, Activation, Dropout\n",
        "from tensorflow.keras.layers import LSTM ,Conv1D, MaxPooling1D, Flatten\n",
        "from tensorflow.keras.models import Sequential\n",
        "from sklearn.metrics import mean_squared_error\n",
        "from sklearn import metrics\n",
        "from keras.layers import Dense, LSTM, Dropout, GRU, Bidirectional\n",
        "from matplotlib import pyplot\n",
        "%matplotlib inline"
      ]
    },
    {
      "cell_type": "code",
      "execution_count": null,
      "metadata": {
        "id": "1ZCWS_jRcHo_"
      },
      "outputs": [],
      "source": [
        "#first we take columbus data set\n",
        "# data = pd.read_csv('/content/chattahoochee-columbus.csv')\n",
        "\n",
        "#first we take sweetwater creek data set\n",
        "data = pd.read_csv('/content/SWEETWATER CREEK.csv')"
      ]
    },
    {
      "cell_type": "code",
      "execution_count": null,
      "metadata": {
        "id": "yJHwm0fUcbz6",
        "colab": {
          "base_uri": "https://localhost:8080/",
          "height": 206
        },
        "outputId": "9abacc1c-81c8-40ca-d8f7-eb89d334d2c3"
      },
      "outputs": [
        {
          "output_type": "execute_result",
          "data": {
            "text/plain": [
              "            time  height\n",
              "0  1/1/2015 0:00    2.65\n",
              "1  1/1/2015 0:15    2.64\n",
              "2  1/1/2015 0:30    2.64\n",
              "3  1/1/2015 0:45    2.62\n",
              "4  1/1/2015 1:00    2.58"
            ],
            "text/html": [
              "\n",
              "  <div id=\"df-ef5c3cb0-7be8-47d4-8edf-822faf19c06c\">\n",
              "    <div class=\"colab-df-container\">\n",
              "      <div>\n",
              "<style scoped>\n",
              "    .dataframe tbody tr th:only-of-type {\n",
              "        vertical-align: middle;\n",
              "    }\n",
              "\n",
              "    .dataframe tbody tr th {\n",
              "        vertical-align: top;\n",
              "    }\n",
              "\n",
              "    .dataframe thead th {\n",
              "        text-align: right;\n",
              "    }\n",
              "</style>\n",
              "<table border=\"1\" class=\"dataframe\">\n",
              "  <thead>\n",
              "    <tr style=\"text-align: right;\">\n",
              "      <th></th>\n",
              "      <th>time</th>\n",
              "      <th>height</th>\n",
              "    </tr>\n",
              "  </thead>\n",
              "  <tbody>\n",
              "    <tr>\n",
              "      <th>0</th>\n",
              "      <td>1/1/2015 0:00</td>\n",
              "      <td>2.65</td>\n",
              "    </tr>\n",
              "    <tr>\n",
              "      <th>1</th>\n",
              "      <td>1/1/2015 0:15</td>\n",
              "      <td>2.64</td>\n",
              "    </tr>\n",
              "    <tr>\n",
              "      <th>2</th>\n",
              "      <td>1/1/2015 0:30</td>\n",
              "      <td>2.64</td>\n",
              "    </tr>\n",
              "    <tr>\n",
              "      <th>3</th>\n",
              "      <td>1/1/2015 0:45</td>\n",
              "      <td>2.62</td>\n",
              "    </tr>\n",
              "    <tr>\n",
              "      <th>4</th>\n",
              "      <td>1/1/2015 1:00</td>\n",
              "      <td>2.58</td>\n",
              "    </tr>\n",
              "  </tbody>\n",
              "</table>\n",
              "</div>\n",
              "      <button class=\"colab-df-convert\" onclick=\"convertToInteractive('df-ef5c3cb0-7be8-47d4-8edf-822faf19c06c')\"\n",
              "              title=\"Convert this dataframe to an interactive table.\"\n",
              "              style=\"display:none;\">\n",
              "        \n",
              "  <svg xmlns=\"http://www.w3.org/2000/svg\" height=\"24px\"viewBox=\"0 0 24 24\"\n",
              "       width=\"24px\">\n",
              "    <path d=\"M0 0h24v24H0V0z\" fill=\"none\"/>\n",
              "    <path d=\"M18.56 5.44l.94 2.06.94-2.06 2.06-.94-2.06-.94-.94-2.06-.94 2.06-2.06.94zm-11 1L8.5 8.5l.94-2.06 2.06-.94-2.06-.94L8.5 2.5l-.94 2.06-2.06.94zm10 10l.94 2.06.94-2.06 2.06-.94-2.06-.94-.94-2.06-.94 2.06-2.06.94z\"/><path d=\"M17.41 7.96l-1.37-1.37c-.4-.4-.92-.59-1.43-.59-.52 0-1.04.2-1.43.59L10.3 9.45l-7.72 7.72c-.78.78-.78 2.05 0 2.83L4 21.41c.39.39.9.59 1.41.59.51 0 1.02-.2 1.41-.59l7.78-7.78 2.81-2.81c.8-.78.8-2.07 0-2.86zM5.41 20L4 18.59l7.72-7.72 1.47 1.35L5.41 20z\"/>\n",
              "  </svg>\n",
              "      </button>\n",
              "      \n",
              "  <style>\n",
              "    .colab-df-container {\n",
              "      display:flex;\n",
              "      flex-wrap:wrap;\n",
              "      gap: 12px;\n",
              "    }\n",
              "\n",
              "    .colab-df-convert {\n",
              "      background-color: #E8F0FE;\n",
              "      border: none;\n",
              "      border-radius: 50%;\n",
              "      cursor: pointer;\n",
              "      display: none;\n",
              "      fill: #1967D2;\n",
              "      height: 32px;\n",
              "      padding: 0 0 0 0;\n",
              "      width: 32px;\n",
              "    }\n",
              "\n",
              "    .colab-df-convert:hover {\n",
              "      background-color: #E2EBFA;\n",
              "      box-shadow: 0px 1px 2px rgba(60, 64, 67, 0.3), 0px 1px 3px 1px rgba(60, 64, 67, 0.15);\n",
              "      fill: #174EA6;\n",
              "    }\n",
              "\n",
              "    [theme=dark] .colab-df-convert {\n",
              "      background-color: #3B4455;\n",
              "      fill: #D2E3FC;\n",
              "    }\n",
              "\n",
              "    [theme=dark] .colab-df-convert:hover {\n",
              "      background-color: #434B5C;\n",
              "      box-shadow: 0px 1px 3px 1px rgba(0, 0, 0, 0.15);\n",
              "      filter: drop-shadow(0px 1px 2px rgba(0, 0, 0, 0.3));\n",
              "      fill: #FFFFFF;\n",
              "    }\n",
              "  </style>\n",
              "\n",
              "      <script>\n",
              "        const buttonEl =\n",
              "          document.querySelector('#df-ef5c3cb0-7be8-47d4-8edf-822faf19c06c button.colab-df-convert');\n",
              "        buttonEl.style.display =\n",
              "          google.colab.kernel.accessAllowed ? 'block' : 'none';\n",
              "\n",
              "        async function convertToInteractive(key) {\n",
              "          const element = document.querySelector('#df-ef5c3cb0-7be8-47d4-8edf-822faf19c06c');\n",
              "          const dataTable =\n",
              "            await google.colab.kernel.invokeFunction('convertToInteractive',\n",
              "                                                     [key], {});\n",
              "          if (!dataTable) return;\n",
              "\n",
              "          const docLinkHtml = 'Like what you see? Visit the ' +\n",
              "            '<a target=\"_blank\" href=https://colab.research.google.com/notebooks/data_table.ipynb>data table notebook</a>'\n",
              "            + ' to learn more about interactive tables.';\n",
              "          element.innerHTML = '';\n",
              "          dataTable['output_type'] = 'display_data';\n",
              "          await google.colab.output.renderOutput(dataTable, element);\n",
              "          const docLink = document.createElement('div');\n",
              "          docLink.innerHTML = docLinkHtml;\n",
              "          element.appendChild(docLink);\n",
              "        }\n",
              "      </script>\n",
              "    </div>\n",
              "  </div>\n",
              "  "
            ]
          },
          "metadata": {},
          "execution_count": 36
        }
      ],
      "source": [
        "data.head()"
      ]
    },
    {
      "cell_type": "code",
      "execution_count": null,
      "metadata": {
        "id": "vPhMwZnJceGS",
        "colab": {
          "base_uri": "https://localhost:8080/"
        },
        "outputId": "927d9ce6-7fac-49fb-f35c-a3f9fde2f352"
      },
      "outputs": [
        {
          "output_type": "execute_result",
          "data": {
            "text/plain": [
              "(245630, 2)"
            ]
          },
          "metadata": {},
          "execution_count": 37
        }
      ],
      "source": [
        "data.shape"
      ]
    },
    {
      "cell_type": "code",
      "execution_count": null,
      "metadata": {
        "id": "PaF8TwZ4ciLq",
        "colab": {
          "base_uri": "https://localhost:8080/"
        },
        "outputId": "b915cac0-3814-453b-e225-b2f552d547ca"
      },
      "outputs": [
        {
          "output_type": "stream",
          "name": "stdout",
          "text": [
            "Start:  1/1/2015 0:00\n",
            "End:  9/9/2021 9:45\n"
          ]
        }
      ],
      "source": [
        "print(\"Start: \", data['time'].min())\n",
        "print(\"End: \", data['time'].max())"
      ]
    },
    {
      "cell_type": "code",
      "execution_count": null,
      "metadata": {
        "id": "D2jSiadAcjvV",
        "colab": {
          "base_uri": "https://localhost:8080/"
        },
        "outputId": "68fbd3ff-3ab6-40ac-86ac-9375da45f111"
      },
      "outputs": [
        {
          "output_type": "stream",
          "name": "stderr",
          "text": [
            "<ipython-input-39-8490a75142d0>:1: FutureWarning: In a future version of pandas all arguments of StringMethods.split except for the argument 'pat' will be keyword-only.\n",
            "  data[['date', 'Only_time']] = data['time'].str.split(' ', 1, expand=True)\n"
          ]
        }
      ],
      "source": [
        "data[['date', 'Only_time']] = data['time'].str.split(' ', 1, expand=True)"
      ]
    },
    {
      "cell_type": "code",
      "execution_count": null,
      "metadata": {
        "id": "ir-cAC3Xcmo8",
        "colab": {
          "base_uri": "https://localhost:8080/",
          "height": 206
        },
        "outputId": "f92d8df7-6c34-4848-ab78-29d28887aeda"
      },
      "outputs": [
        {
          "output_type": "execute_result",
          "data": {
            "text/plain": [
              "            time  height      date Only_time\n",
              "0  1/1/2015 0:00    2.65  1/1/2015      0:00\n",
              "1  1/1/2015 0:15    2.64  1/1/2015      0:15\n",
              "2  1/1/2015 0:30    2.64  1/1/2015      0:30\n",
              "3  1/1/2015 0:45    2.62  1/1/2015      0:45\n",
              "4  1/1/2015 1:00    2.58  1/1/2015      1:00"
            ],
            "text/html": [
              "\n",
              "  <div id=\"df-0aa0b315-d2ac-48e3-a59b-71916973230e\">\n",
              "    <div class=\"colab-df-container\">\n",
              "      <div>\n",
              "<style scoped>\n",
              "    .dataframe tbody tr th:only-of-type {\n",
              "        vertical-align: middle;\n",
              "    }\n",
              "\n",
              "    .dataframe tbody tr th {\n",
              "        vertical-align: top;\n",
              "    }\n",
              "\n",
              "    .dataframe thead th {\n",
              "        text-align: right;\n",
              "    }\n",
              "</style>\n",
              "<table border=\"1\" class=\"dataframe\">\n",
              "  <thead>\n",
              "    <tr style=\"text-align: right;\">\n",
              "      <th></th>\n",
              "      <th>time</th>\n",
              "      <th>height</th>\n",
              "      <th>date</th>\n",
              "      <th>Only_time</th>\n",
              "    </tr>\n",
              "  </thead>\n",
              "  <tbody>\n",
              "    <tr>\n",
              "      <th>0</th>\n",
              "      <td>1/1/2015 0:00</td>\n",
              "      <td>2.65</td>\n",
              "      <td>1/1/2015</td>\n",
              "      <td>0:00</td>\n",
              "    </tr>\n",
              "    <tr>\n",
              "      <th>1</th>\n",
              "      <td>1/1/2015 0:15</td>\n",
              "      <td>2.64</td>\n",
              "      <td>1/1/2015</td>\n",
              "      <td>0:15</td>\n",
              "    </tr>\n",
              "    <tr>\n",
              "      <th>2</th>\n",
              "      <td>1/1/2015 0:30</td>\n",
              "      <td>2.64</td>\n",
              "      <td>1/1/2015</td>\n",
              "      <td>0:30</td>\n",
              "    </tr>\n",
              "    <tr>\n",
              "      <th>3</th>\n",
              "      <td>1/1/2015 0:45</td>\n",
              "      <td>2.62</td>\n",
              "      <td>1/1/2015</td>\n",
              "      <td>0:45</td>\n",
              "    </tr>\n",
              "    <tr>\n",
              "      <th>4</th>\n",
              "      <td>1/1/2015 1:00</td>\n",
              "      <td>2.58</td>\n",
              "      <td>1/1/2015</td>\n",
              "      <td>1:00</td>\n",
              "    </tr>\n",
              "  </tbody>\n",
              "</table>\n",
              "</div>\n",
              "      <button class=\"colab-df-convert\" onclick=\"convertToInteractive('df-0aa0b315-d2ac-48e3-a59b-71916973230e')\"\n",
              "              title=\"Convert this dataframe to an interactive table.\"\n",
              "              style=\"display:none;\">\n",
              "        \n",
              "  <svg xmlns=\"http://www.w3.org/2000/svg\" height=\"24px\"viewBox=\"0 0 24 24\"\n",
              "       width=\"24px\">\n",
              "    <path d=\"M0 0h24v24H0V0z\" fill=\"none\"/>\n",
              "    <path d=\"M18.56 5.44l.94 2.06.94-2.06 2.06-.94-2.06-.94-.94-2.06-.94 2.06-2.06.94zm-11 1L8.5 8.5l.94-2.06 2.06-.94-2.06-.94L8.5 2.5l-.94 2.06-2.06.94zm10 10l.94 2.06.94-2.06 2.06-.94-2.06-.94-.94-2.06-.94 2.06-2.06.94z\"/><path d=\"M17.41 7.96l-1.37-1.37c-.4-.4-.92-.59-1.43-.59-.52 0-1.04.2-1.43.59L10.3 9.45l-7.72 7.72c-.78.78-.78 2.05 0 2.83L4 21.41c.39.39.9.59 1.41.59.51 0 1.02-.2 1.41-.59l7.78-7.78 2.81-2.81c.8-.78.8-2.07 0-2.86zM5.41 20L4 18.59l7.72-7.72 1.47 1.35L5.41 20z\"/>\n",
              "  </svg>\n",
              "      </button>\n",
              "      \n",
              "  <style>\n",
              "    .colab-df-container {\n",
              "      display:flex;\n",
              "      flex-wrap:wrap;\n",
              "      gap: 12px;\n",
              "    }\n",
              "\n",
              "    .colab-df-convert {\n",
              "      background-color: #E8F0FE;\n",
              "      border: none;\n",
              "      border-radius: 50%;\n",
              "      cursor: pointer;\n",
              "      display: none;\n",
              "      fill: #1967D2;\n",
              "      height: 32px;\n",
              "      padding: 0 0 0 0;\n",
              "      width: 32px;\n",
              "    }\n",
              "\n",
              "    .colab-df-convert:hover {\n",
              "      background-color: #E2EBFA;\n",
              "      box-shadow: 0px 1px 2px rgba(60, 64, 67, 0.3), 0px 1px 3px 1px rgba(60, 64, 67, 0.15);\n",
              "      fill: #174EA6;\n",
              "    }\n",
              "\n",
              "    [theme=dark] .colab-df-convert {\n",
              "      background-color: #3B4455;\n",
              "      fill: #D2E3FC;\n",
              "    }\n",
              "\n",
              "    [theme=dark] .colab-df-convert:hover {\n",
              "      background-color: #434B5C;\n",
              "      box-shadow: 0px 1px 3px 1px rgba(0, 0, 0, 0.15);\n",
              "      filter: drop-shadow(0px 1px 2px rgba(0, 0, 0, 0.3));\n",
              "      fill: #FFFFFF;\n",
              "    }\n",
              "  </style>\n",
              "\n",
              "      <script>\n",
              "        const buttonEl =\n",
              "          document.querySelector('#df-0aa0b315-d2ac-48e3-a59b-71916973230e button.colab-df-convert');\n",
              "        buttonEl.style.display =\n",
              "          google.colab.kernel.accessAllowed ? 'block' : 'none';\n",
              "\n",
              "        async function convertToInteractive(key) {\n",
              "          const element = document.querySelector('#df-0aa0b315-d2ac-48e3-a59b-71916973230e');\n",
              "          const dataTable =\n",
              "            await google.colab.kernel.invokeFunction('convertToInteractive',\n",
              "                                                     [key], {});\n",
              "          if (!dataTable) return;\n",
              "\n",
              "          const docLinkHtml = 'Like what you see? Visit the ' +\n",
              "            '<a target=\"_blank\" href=https://colab.research.google.com/notebooks/data_table.ipynb>data table notebook</a>'\n",
              "            + ' to learn more about interactive tables.';\n",
              "          element.innerHTML = '';\n",
              "          dataTable['output_type'] = 'display_data';\n",
              "          await google.colab.output.renderOutput(dataTable, element);\n",
              "          const docLink = document.createElement('div');\n",
              "          docLink.innerHTML = docLinkHtml;\n",
              "          element.appendChild(docLink);\n",
              "        }\n",
              "      </script>\n",
              "    </div>\n",
              "  </div>\n",
              "  "
            ]
          },
          "metadata": {},
          "execution_count": 40
        }
      ],
      "source": [
        "data.head()"
      ]
    },
    {
      "cell_type": "code",
      "execution_count": null,
      "metadata": {
        "id": "Z_MFs8Rkcs73"
      },
      "outputs": [],
      "source": [
        "data = data.drop(labels=['time'],axis=1)"
      ]
    },
    {
      "cell_type": "code",
      "execution_count": null,
      "metadata": {
        "id": "pEOQv2qBcvEM",
        "colab": {
          "base_uri": "https://localhost:8080/",
          "height": 206
        },
        "outputId": "8eb8dea8-3b92-4794-e17c-f4eb01eaf460"
      },
      "outputs": [
        {
          "output_type": "execute_result",
          "data": {
            "text/plain": [
              "   height      date Only_time\n",
              "0    2.65  1/1/2015      0:00\n",
              "1    2.64  1/1/2015      0:15\n",
              "2    2.64  1/1/2015      0:30\n",
              "3    2.62  1/1/2015      0:45\n",
              "4    2.58  1/1/2015      1:00"
            ],
            "text/html": [
              "\n",
              "  <div id=\"df-7b784530-dedf-4477-beb8-94c27b43f7b4\">\n",
              "    <div class=\"colab-df-container\">\n",
              "      <div>\n",
              "<style scoped>\n",
              "    .dataframe tbody tr th:only-of-type {\n",
              "        vertical-align: middle;\n",
              "    }\n",
              "\n",
              "    .dataframe tbody tr th {\n",
              "        vertical-align: top;\n",
              "    }\n",
              "\n",
              "    .dataframe thead th {\n",
              "        text-align: right;\n",
              "    }\n",
              "</style>\n",
              "<table border=\"1\" class=\"dataframe\">\n",
              "  <thead>\n",
              "    <tr style=\"text-align: right;\">\n",
              "      <th></th>\n",
              "      <th>height</th>\n",
              "      <th>date</th>\n",
              "      <th>Only_time</th>\n",
              "    </tr>\n",
              "  </thead>\n",
              "  <tbody>\n",
              "    <tr>\n",
              "      <th>0</th>\n",
              "      <td>2.65</td>\n",
              "      <td>1/1/2015</td>\n",
              "      <td>0:00</td>\n",
              "    </tr>\n",
              "    <tr>\n",
              "      <th>1</th>\n",
              "      <td>2.64</td>\n",
              "      <td>1/1/2015</td>\n",
              "      <td>0:15</td>\n",
              "    </tr>\n",
              "    <tr>\n",
              "      <th>2</th>\n",
              "      <td>2.64</td>\n",
              "      <td>1/1/2015</td>\n",
              "      <td>0:30</td>\n",
              "    </tr>\n",
              "    <tr>\n",
              "      <th>3</th>\n",
              "      <td>2.62</td>\n",
              "      <td>1/1/2015</td>\n",
              "      <td>0:45</td>\n",
              "    </tr>\n",
              "    <tr>\n",
              "      <th>4</th>\n",
              "      <td>2.58</td>\n",
              "      <td>1/1/2015</td>\n",
              "      <td>1:00</td>\n",
              "    </tr>\n",
              "  </tbody>\n",
              "</table>\n",
              "</div>\n",
              "      <button class=\"colab-df-convert\" onclick=\"convertToInteractive('df-7b784530-dedf-4477-beb8-94c27b43f7b4')\"\n",
              "              title=\"Convert this dataframe to an interactive table.\"\n",
              "              style=\"display:none;\">\n",
              "        \n",
              "  <svg xmlns=\"http://www.w3.org/2000/svg\" height=\"24px\"viewBox=\"0 0 24 24\"\n",
              "       width=\"24px\">\n",
              "    <path d=\"M0 0h24v24H0V0z\" fill=\"none\"/>\n",
              "    <path d=\"M18.56 5.44l.94 2.06.94-2.06 2.06-.94-2.06-.94-.94-2.06-.94 2.06-2.06.94zm-11 1L8.5 8.5l.94-2.06 2.06-.94-2.06-.94L8.5 2.5l-.94 2.06-2.06.94zm10 10l.94 2.06.94-2.06 2.06-.94-2.06-.94-.94-2.06-.94 2.06-2.06.94z\"/><path d=\"M17.41 7.96l-1.37-1.37c-.4-.4-.92-.59-1.43-.59-.52 0-1.04.2-1.43.59L10.3 9.45l-7.72 7.72c-.78.78-.78 2.05 0 2.83L4 21.41c.39.39.9.59 1.41.59.51 0 1.02-.2 1.41-.59l7.78-7.78 2.81-2.81c.8-.78.8-2.07 0-2.86zM5.41 20L4 18.59l7.72-7.72 1.47 1.35L5.41 20z\"/>\n",
              "  </svg>\n",
              "      </button>\n",
              "      \n",
              "  <style>\n",
              "    .colab-df-container {\n",
              "      display:flex;\n",
              "      flex-wrap:wrap;\n",
              "      gap: 12px;\n",
              "    }\n",
              "\n",
              "    .colab-df-convert {\n",
              "      background-color: #E8F0FE;\n",
              "      border: none;\n",
              "      border-radius: 50%;\n",
              "      cursor: pointer;\n",
              "      display: none;\n",
              "      fill: #1967D2;\n",
              "      height: 32px;\n",
              "      padding: 0 0 0 0;\n",
              "      width: 32px;\n",
              "    }\n",
              "\n",
              "    .colab-df-convert:hover {\n",
              "      background-color: #E2EBFA;\n",
              "      box-shadow: 0px 1px 2px rgba(60, 64, 67, 0.3), 0px 1px 3px 1px rgba(60, 64, 67, 0.15);\n",
              "      fill: #174EA6;\n",
              "    }\n",
              "\n",
              "    [theme=dark] .colab-df-convert {\n",
              "      background-color: #3B4455;\n",
              "      fill: #D2E3FC;\n",
              "    }\n",
              "\n",
              "    [theme=dark] .colab-df-convert:hover {\n",
              "      background-color: #434B5C;\n",
              "      box-shadow: 0px 1px 3px 1px rgba(0, 0, 0, 0.15);\n",
              "      filter: drop-shadow(0px 1px 2px rgba(0, 0, 0, 0.3));\n",
              "      fill: #FFFFFF;\n",
              "    }\n",
              "  </style>\n",
              "\n",
              "      <script>\n",
              "        const buttonEl =\n",
              "          document.querySelector('#df-7b784530-dedf-4477-beb8-94c27b43f7b4 button.colab-df-convert');\n",
              "        buttonEl.style.display =\n",
              "          google.colab.kernel.accessAllowed ? 'block' : 'none';\n",
              "\n",
              "        async function convertToInteractive(key) {\n",
              "          const element = document.querySelector('#df-7b784530-dedf-4477-beb8-94c27b43f7b4');\n",
              "          const dataTable =\n",
              "            await google.colab.kernel.invokeFunction('convertToInteractive',\n",
              "                                                     [key], {});\n",
              "          if (!dataTable) return;\n",
              "\n",
              "          const docLinkHtml = 'Like what you see? Visit the ' +\n",
              "            '<a target=\"_blank\" href=https://colab.research.google.com/notebooks/data_table.ipynb>data table notebook</a>'\n",
              "            + ' to learn more about interactive tables.';\n",
              "          element.innerHTML = '';\n",
              "          dataTable['output_type'] = 'display_data';\n",
              "          await google.colab.output.renderOutput(dataTable, element);\n",
              "          const docLink = document.createElement('div');\n",
              "          docLink.innerHTML = docLinkHtml;\n",
              "          element.appendChild(docLink);\n",
              "        }\n",
              "      </script>\n",
              "    </div>\n",
              "  </div>\n",
              "  "
            ]
          },
          "metadata": {},
          "execution_count": 42
        }
      ],
      "source": [
        "data.head()"
      ]
    },
    {
      "cell_type": "code",
      "execution_count": null,
      "metadata": {
        "id": "fpcduZRZcwkF",
        "colab": {
          "base_uri": "https://localhost:8080/"
        },
        "outputId": "dfe2d252-15e0-450c-f1d5-63ea8b57a84c"
      },
      "outputs": [
        {
          "output_type": "stream",
          "name": "stdout",
          "text": [
            "<class 'pandas.core.frame.DataFrame'>\n",
            "RangeIndex: 245630 entries, 0 to 245629\n",
            "Data columns (total 3 columns):\n",
            " #   Column     Non-Null Count   Dtype  \n",
            "---  ------     --------------   -----  \n",
            " 0   height     245630 non-null  float64\n",
            " 1   date       245630 non-null  object \n",
            " 2   Only_time  245630 non-null  object \n",
            "dtypes: float64(1), object(2)\n",
            "memory usage: 5.6+ MB\n"
          ]
        }
      ],
      "source": [
        "data.info()"
      ]
    },
    {
      "cell_type": "code",
      "execution_count": null,
      "metadata": {
        "id": "Fn0Zykkiczzk",
        "colab": {
          "base_uri": "https://localhost:8080/",
          "height": 300
        },
        "outputId": "92ef3021-adeb-492c-f0e6-c58e0a2be4ac"
      },
      "outputs": [
        {
          "output_type": "execute_result",
          "data": {
            "text/plain": [
              "              height\n",
              "count  245630.000000\n",
              "mean        2.190667\n",
              "std         1.605342\n",
              "min        -0.260000\n",
              "25%         1.350000\n",
              "50%         1.840000\n",
              "75%         2.450000\n",
              "max        12.600000"
            ],
            "text/html": [
              "\n",
              "  <div id=\"df-2d807820-0bf5-44d3-a4a1-781b670b9836\">\n",
              "    <div class=\"colab-df-container\">\n",
              "      <div>\n",
              "<style scoped>\n",
              "    .dataframe tbody tr th:only-of-type {\n",
              "        vertical-align: middle;\n",
              "    }\n",
              "\n",
              "    .dataframe tbody tr th {\n",
              "        vertical-align: top;\n",
              "    }\n",
              "\n",
              "    .dataframe thead th {\n",
              "        text-align: right;\n",
              "    }\n",
              "</style>\n",
              "<table border=\"1\" class=\"dataframe\">\n",
              "  <thead>\n",
              "    <tr style=\"text-align: right;\">\n",
              "      <th></th>\n",
              "      <th>height</th>\n",
              "    </tr>\n",
              "  </thead>\n",
              "  <tbody>\n",
              "    <tr>\n",
              "      <th>count</th>\n",
              "      <td>245630.000000</td>\n",
              "    </tr>\n",
              "    <tr>\n",
              "      <th>mean</th>\n",
              "      <td>2.190667</td>\n",
              "    </tr>\n",
              "    <tr>\n",
              "      <th>std</th>\n",
              "      <td>1.605342</td>\n",
              "    </tr>\n",
              "    <tr>\n",
              "      <th>min</th>\n",
              "      <td>-0.260000</td>\n",
              "    </tr>\n",
              "    <tr>\n",
              "      <th>25%</th>\n",
              "      <td>1.350000</td>\n",
              "    </tr>\n",
              "    <tr>\n",
              "      <th>50%</th>\n",
              "      <td>1.840000</td>\n",
              "    </tr>\n",
              "    <tr>\n",
              "      <th>75%</th>\n",
              "      <td>2.450000</td>\n",
              "    </tr>\n",
              "    <tr>\n",
              "      <th>max</th>\n",
              "      <td>12.600000</td>\n",
              "    </tr>\n",
              "  </tbody>\n",
              "</table>\n",
              "</div>\n",
              "      <button class=\"colab-df-convert\" onclick=\"convertToInteractive('df-2d807820-0bf5-44d3-a4a1-781b670b9836')\"\n",
              "              title=\"Convert this dataframe to an interactive table.\"\n",
              "              style=\"display:none;\">\n",
              "        \n",
              "  <svg xmlns=\"http://www.w3.org/2000/svg\" height=\"24px\"viewBox=\"0 0 24 24\"\n",
              "       width=\"24px\">\n",
              "    <path d=\"M0 0h24v24H0V0z\" fill=\"none\"/>\n",
              "    <path d=\"M18.56 5.44l.94 2.06.94-2.06 2.06-.94-2.06-.94-.94-2.06-.94 2.06-2.06.94zm-11 1L8.5 8.5l.94-2.06 2.06-.94-2.06-.94L8.5 2.5l-.94 2.06-2.06.94zm10 10l.94 2.06.94-2.06 2.06-.94-2.06-.94-.94-2.06-.94 2.06-2.06.94z\"/><path d=\"M17.41 7.96l-1.37-1.37c-.4-.4-.92-.59-1.43-.59-.52 0-1.04.2-1.43.59L10.3 9.45l-7.72 7.72c-.78.78-.78 2.05 0 2.83L4 21.41c.39.39.9.59 1.41.59.51 0 1.02-.2 1.41-.59l7.78-7.78 2.81-2.81c.8-.78.8-2.07 0-2.86zM5.41 20L4 18.59l7.72-7.72 1.47 1.35L5.41 20z\"/>\n",
              "  </svg>\n",
              "      </button>\n",
              "      \n",
              "  <style>\n",
              "    .colab-df-container {\n",
              "      display:flex;\n",
              "      flex-wrap:wrap;\n",
              "      gap: 12px;\n",
              "    }\n",
              "\n",
              "    .colab-df-convert {\n",
              "      background-color: #E8F0FE;\n",
              "      border: none;\n",
              "      border-radius: 50%;\n",
              "      cursor: pointer;\n",
              "      display: none;\n",
              "      fill: #1967D2;\n",
              "      height: 32px;\n",
              "      padding: 0 0 0 0;\n",
              "      width: 32px;\n",
              "    }\n",
              "\n",
              "    .colab-df-convert:hover {\n",
              "      background-color: #E2EBFA;\n",
              "      box-shadow: 0px 1px 2px rgba(60, 64, 67, 0.3), 0px 1px 3px 1px rgba(60, 64, 67, 0.15);\n",
              "      fill: #174EA6;\n",
              "    }\n",
              "\n",
              "    [theme=dark] .colab-df-convert {\n",
              "      background-color: #3B4455;\n",
              "      fill: #D2E3FC;\n",
              "    }\n",
              "\n",
              "    [theme=dark] .colab-df-convert:hover {\n",
              "      background-color: #434B5C;\n",
              "      box-shadow: 0px 1px 3px 1px rgba(0, 0, 0, 0.15);\n",
              "      filter: drop-shadow(0px 1px 2px rgba(0, 0, 0, 0.3));\n",
              "      fill: #FFFFFF;\n",
              "    }\n",
              "  </style>\n",
              "\n",
              "      <script>\n",
              "        const buttonEl =\n",
              "          document.querySelector('#df-2d807820-0bf5-44d3-a4a1-781b670b9836 button.colab-df-convert');\n",
              "        buttonEl.style.display =\n",
              "          google.colab.kernel.accessAllowed ? 'block' : 'none';\n",
              "\n",
              "        async function convertToInteractive(key) {\n",
              "          const element = document.querySelector('#df-2d807820-0bf5-44d3-a4a1-781b670b9836');\n",
              "          const dataTable =\n",
              "            await google.colab.kernel.invokeFunction('convertToInteractive',\n",
              "                                                     [key], {});\n",
              "          if (!dataTable) return;\n",
              "\n",
              "          const docLinkHtml = 'Like what you see? Visit the ' +\n",
              "            '<a target=\"_blank\" href=https://colab.research.google.com/notebooks/data_table.ipynb>data table notebook</a>'\n",
              "            + ' to learn more about interactive tables.';\n",
              "          element.innerHTML = '';\n",
              "          dataTable['output_type'] = 'display_data';\n",
              "          await google.colab.output.renderOutput(dataTable, element);\n",
              "          const docLink = document.createElement('div');\n",
              "          docLink.innerHTML = docLinkHtml;\n",
              "          element.appendChild(docLink);\n",
              "        }\n",
              "      </script>\n",
              "    </div>\n",
              "  </div>\n",
              "  "
            ]
          },
          "metadata": {},
          "execution_count": 44
        }
      ],
      "source": [
        "data.describe()"
      ]
    },
    {
      "cell_type": "code",
      "execution_count": null,
      "metadata": {
        "id": "bw3Cw8e5c25M",
        "colab": {
          "base_uri": "https://localhost:8080/"
        },
        "outputId": "d9a6c4dc-1901-4176-ff55-f8decf77620d"
      },
      "outputs": [
        {
          "output_type": "execute_result",
          "data": {
            "text/plain": [
              "height       0\n",
              "date         0\n",
              "Only_time    0\n",
              "dtype: int64"
            ]
          },
          "metadata": {},
          "execution_count": 45
        }
      ],
      "source": [
        "data.isnull().sum()"
      ]
    },
    {
      "cell_type": "code",
      "execution_count": null,
      "metadata": {
        "id": "mseW2QqFc8hb"
      },
      "outputs": [],
      "source": [
        "data['date'] = pd.to_datetime(data['date'])"
      ]
    },
    {
      "cell_type": "code",
      "execution_count": null,
      "metadata": {
        "id": "LduY6Hh_dBj2"
      },
      "outputs": [],
      "source": [
        "data['Only_time'] = pd.to_datetime(data['Only_time'])"
      ]
    },
    {
      "cell_type": "code",
      "execution_count": null,
      "metadata": {
        "id": "ELBv07-udC5q",
        "colab": {
          "base_uri": "https://localhost:8080/"
        },
        "outputId": "aadf3418-e24c-487f-9b7c-ecc2bd955ba1"
      },
      "outputs": [
        {
          "output_type": "stream",
          "name": "stdout",
          "text": [
            "<class 'pandas.core.frame.DataFrame'>\n",
            "RangeIndex: 245630 entries, 0 to 245629\n",
            "Data columns (total 3 columns):\n",
            " #   Column     Non-Null Count   Dtype         \n",
            "---  ------     --------------   -----         \n",
            " 0   height     245630 non-null  float64       \n",
            " 1   date       245630 non-null  datetime64[ns]\n",
            " 2   Only_time  245630 non-null  datetime64[ns]\n",
            "dtypes: datetime64[ns](2), float64(1)\n",
            "memory usage: 5.6 MB\n"
          ]
        }
      ],
      "source": [
        "data.info()"
      ]
    },
    {
      "cell_type": "code",
      "execution_count": null,
      "metadata": {
        "id": "khMnZFy4dF4_",
        "colab": {
          "base_uri": "https://localhost:8080/",
          "height": 206
        },
        "outputId": "251f9da5-96cf-4d9f-dc6b-b8e08ec0e46d"
      },
      "outputs": [
        {
          "output_type": "execute_result",
          "data": {
            "text/plain": [
              "   height       date           Only_time\n",
              "0    2.65 2015-01-01 2023-06-22 00:00:00\n",
              "1    2.64 2015-01-01 2023-06-22 00:15:00\n",
              "2    2.64 2015-01-01 2023-06-22 00:30:00\n",
              "3    2.62 2015-01-01 2023-06-22 00:45:00\n",
              "4    2.58 2015-01-01 2023-06-22 01:00:00"
            ],
            "text/html": [
              "\n",
              "  <div id=\"df-355159fa-b5bb-4260-b9da-9e1b4a89254a\">\n",
              "    <div class=\"colab-df-container\">\n",
              "      <div>\n",
              "<style scoped>\n",
              "    .dataframe tbody tr th:only-of-type {\n",
              "        vertical-align: middle;\n",
              "    }\n",
              "\n",
              "    .dataframe tbody tr th {\n",
              "        vertical-align: top;\n",
              "    }\n",
              "\n",
              "    .dataframe thead th {\n",
              "        text-align: right;\n",
              "    }\n",
              "</style>\n",
              "<table border=\"1\" class=\"dataframe\">\n",
              "  <thead>\n",
              "    <tr style=\"text-align: right;\">\n",
              "      <th></th>\n",
              "      <th>height</th>\n",
              "      <th>date</th>\n",
              "      <th>Only_time</th>\n",
              "    </tr>\n",
              "  </thead>\n",
              "  <tbody>\n",
              "    <tr>\n",
              "      <th>0</th>\n",
              "      <td>2.65</td>\n",
              "      <td>2015-01-01</td>\n",
              "      <td>2023-06-22 00:00:00</td>\n",
              "    </tr>\n",
              "    <tr>\n",
              "      <th>1</th>\n",
              "      <td>2.64</td>\n",
              "      <td>2015-01-01</td>\n",
              "      <td>2023-06-22 00:15:00</td>\n",
              "    </tr>\n",
              "    <tr>\n",
              "      <th>2</th>\n",
              "      <td>2.64</td>\n",
              "      <td>2015-01-01</td>\n",
              "      <td>2023-06-22 00:30:00</td>\n",
              "    </tr>\n",
              "    <tr>\n",
              "      <th>3</th>\n",
              "      <td>2.62</td>\n",
              "      <td>2015-01-01</td>\n",
              "      <td>2023-06-22 00:45:00</td>\n",
              "    </tr>\n",
              "    <tr>\n",
              "      <th>4</th>\n",
              "      <td>2.58</td>\n",
              "      <td>2015-01-01</td>\n",
              "      <td>2023-06-22 01:00:00</td>\n",
              "    </tr>\n",
              "  </tbody>\n",
              "</table>\n",
              "</div>\n",
              "      <button class=\"colab-df-convert\" onclick=\"convertToInteractive('df-355159fa-b5bb-4260-b9da-9e1b4a89254a')\"\n",
              "              title=\"Convert this dataframe to an interactive table.\"\n",
              "              style=\"display:none;\">\n",
              "        \n",
              "  <svg xmlns=\"http://www.w3.org/2000/svg\" height=\"24px\"viewBox=\"0 0 24 24\"\n",
              "       width=\"24px\">\n",
              "    <path d=\"M0 0h24v24H0V0z\" fill=\"none\"/>\n",
              "    <path d=\"M18.56 5.44l.94 2.06.94-2.06 2.06-.94-2.06-.94-.94-2.06-.94 2.06-2.06.94zm-11 1L8.5 8.5l.94-2.06 2.06-.94-2.06-.94L8.5 2.5l-.94 2.06-2.06.94zm10 10l.94 2.06.94-2.06 2.06-.94-2.06-.94-.94-2.06-.94 2.06-2.06.94z\"/><path d=\"M17.41 7.96l-1.37-1.37c-.4-.4-.92-.59-1.43-.59-.52 0-1.04.2-1.43.59L10.3 9.45l-7.72 7.72c-.78.78-.78 2.05 0 2.83L4 21.41c.39.39.9.59 1.41.59.51 0 1.02-.2 1.41-.59l7.78-7.78 2.81-2.81c.8-.78.8-2.07 0-2.86zM5.41 20L4 18.59l7.72-7.72 1.47 1.35L5.41 20z\"/>\n",
              "  </svg>\n",
              "      </button>\n",
              "      \n",
              "  <style>\n",
              "    .colab-df-container {\n",
              "      display:flex;\n",
              "      flex-wrap:wrap;\n",
              "      gap: 12px;\n",
              "    }\n",
              "\n",
              "    .colab-df-convert {\n",
              "      background-color: #E8F0FE;\n",
              "      border: none;\n",
              "      border-radius: 50%;\n",
              "      cursor: pointer;\n",
              "      display: none;\n",
              "      fill: #1967D2;\n",
              "      height: 32px;\n",
              "      padding: 0 0 0 0;\n",
              "      width: 32px;\n",
              "    }\n",
              "\n",
              "    .colab-df-convert:hover {\n",
              "      background-color: #E2EBFA;\n",
              "      box-shadow: 0px 1px 2px rgba(60, 64, 67, 0.3), 0px 1px 3px 1px rgba(60, 64, 67, 0.15);\n",
              "      fill: #174EA6;\n",
              "    }\n",
              "\n",
              "    [theme=dark] .colab-df-convert {\n",
              "      background-color: #3B4455;\n",
              "      fill: #D2E3FC;\n",
              "    }\n",
              "\n",
              "    [theme=dark] .colab-df-convert:hover {\n",
              "      background-color: #434B5C;\n",
              "      box-shadow: 0px 1px 3px 1px rgba(0, 0, 0, 0.15);\n",
              "      filter: drop-shadow(0px 1px 2px rgba(0, 0, 0, 0.3));\n",
              "      fill: #FFFFFF;\n",
              "    }\n",
              "  </style>\n",
              "\n",
              "      <script>\n",
              "        const buttonEl =\n",
              "          document.querySelector('#df-355159fa-b5bb-4260-b9da-9e1b4a89254a button.colab-df-convert');\n",
              "        buttonEl.style.display =\n",
              "          google.colab.kernel.accessAllowed ? 'block' : 'none';\n",
              "\n",
              "        async function convertToInteractive(key) {\n",
              "          const element = document.querySelector('#df-355159fa-b5bb-4260-b9da-9e1b4a89254a');\n",
              "          const dataTable =\n",
              "            await google.colab.kernel.invokeFunction('convertToInteractive',\n",
              "                                                     [key], {});\n",
              "          if (!dataTable) return;\n",
              "\n",
              "          const docLinkHtml = 'Like what you see? Visit the ' +\n",
              "            '<a target=\"_blank\" href=https://colab.research.google.com/notebooks/data_table.ipynb>data table notebook</a>'\n",
              "            + ' to learn more about interactive tables.';\n",
              "          element.innerHTML = '';\n",
              "          dataTable['output_type'] = 'display_data';\n",
              "          await google.colab.output.renderOutput(dataTable, element);\n",
              "          const docLink = document.createElement('div');\n",
              "          docLink.innerHTML = docLinkHtml;\n",
              "          element.appendChild(docLink);\n",
              "        }\n",
              "      </script>\n",
              "    </div>\n",
              "  </div>\n",
              "  "
            ]
          },
          "metadata": {},
          "execution_count": 49
        }
      ],
      "source": [
        "data.head()"
      ]
    },
    {
      "cell_type": "code",
      "execution_count": null,
      "metadata": {
        "id": "-K-Q5IGFdHvP"
      },
      "outputs": [],
      "source": [
        "# Not converting into seperate columns\n",
        "df = pd.read_csv('/content/SWEETWATER CREEK.csv')"
      ]
    },
    {
      "cell_type": "code",
      "execution_count": null,
      "metadata": {
        "id": "-OJ453n7dNI-"
      },
      "outputs": [],
      "source": [
        "df['time'] = pd.to_datetime(df['time'])"
      ]
    },
    {
      "cell_type": "code",
      "execution_count": null,
      "metadata": {
        "id": "NatY0fF3dPCF",
        "colab": {
          "base_uri": "https://localhost:8080/",
          "height": 206
        },
        "outputId": "e379e207-91db-4f9c-c49f-04d4286bee70"
      },
      "outputs": [
        {
          "output_type": "execute_result",
          "data": {
            "text/plain": [
              "                 time  height\n",
              "0 2015-01-01 00:00:00    2.65\n",
              "1 2015-01-01 00:15:00    2.64\n",
              "2 2015-01-01 00:30:00    2.64\n",
              "3 2015-01-01 00:45:00    2.62\n",
              "4 2015-01-01 01:00:00    2.58"
            ],
            "text/html": [
              "\n",
              "  <div id=\"df-2caa87ee-5068-4729-a30e-7b17f4607322\">\n",
              "    <div class=\"colab-df-container\">\n",
              "      <div>\n",
              "<style scoped>\n",
              "    .dataframe tbody tr th:only-of-type {\n",
              "        vertical-align: middle;\n",
              "    }\n",
              "\n",
              "    .dataframe tbody tr th {\n",
              "        vertical-align: top;\n",
              "    }\n",
              "\n",
              "    .dataframe thead th {\n",
              "        text-align: right;\n",
              "    }\n",
              "</style>\n",
              "<table border=\"1\" class=\"dataframe\">\n",
              "  <thead>\n",
              "    <tr style=\"text-align: right;\">\n",
              "      <th></th>\n",
              "      <th>time</th>\n",
              "      <th>height</th>\n",
              "    </tr>\n",
              "  </thead>\n",
              "  <tbody>\n",
              "    <tr>\n",
              "      <th>0</th>\n",
              "      <td>2015-01-01 00:00:00</td>\n",
              "      <td>2.65</td>\n",
              "    </tr>\n",
              "    <tr>\n",
              "      <th>1</th>\n",
              "      <td>2015-01-01 00:15:00</td>\n",
              "      <td>2.64</td>\n",
              "    </tr>\n",
              "    <tr>\n",
              "      <th>2</th>\n",
              "      <td>2015-01-01 00:30:00</td>\n",
              "      <td>2.64</td>\n",
              "    </tr>\n",
              "    <tr>\n",
              "      <th>3</th>\n",
              "      <td>2015-01-01 00:45:00</td>\n",
              "      <td>2.62</td>\n",
              "    </tr>\n",
              "    <tr>\n",
              "      <th>4</th>\n",
              "      <td>2015-01-01 01:00:00</td>\n",
              "      <td>2.58</td>\n",
              "    </tr>\n",
              "  </tbody>\n",
              "</table>\n",
              "</div>\n",
              "      <button class=\"colab-df-convert\" onclick=\"convertToInteractive('df-2caa87ee-5068-4729-a30e-7b17f4607322')\"\n",
              "              title=\"Convert this dataframe to an interactive table.\"\n",
              "              style=\"display:none;\">\n",
              "        \n",
              "  <svg xmlns=\"http://www.w3.org/2000/svg\" height=\"24px\"viewBox=\"0 0 24 24\"\n",
              "       width=\"24px\">\n",
              "    <path d=\"M0 0h24v24H0V0z\" fill=\"none\"/>\n",
              "    <path d=\"M18.56 5.44l.94 2.06.94-2.06 2.06-.94-2.06-.94-.94-2.06-.94 2.06-2.06.94zm-11 1L8.5 8.5l.94-2.06 2.06-.94-2.06-.94L8.5 2.5l-.94 2.06-2.06.94zm10 10l.94 2.06.94-2.06 2.06-.94-2.06-.94-.94-2.06-.94 2.06-2.06.94z\"/><path d=\"M17.41 7.96l-1.37-1.37c-.4-.4-.92-.59-1.43-.59-.52 0-1.04.2-1.43.59L10.3 9.45l-7.72 7.72c-.78.78-.78 2.05 0 2.83L4 21.41c.39.39.9.59 1.41.59.51 0 1.02-.2 1.41-.59l7.78-7.78 2.81-2.81c.8-.78.8-2.07 0-2.86zM5.41 20L4 18.59l7.72-7.72 1.47 1.35L5.41 20z\"/>\n",
              "  </svg>\n",
              "      </button>\n",
              "      \n",
              "  <style>\n",
              "    .colab-df-container {\n",
              "      display:flex;\n",
              "      flex-wrap:wrap;\n",
              "      gap: 12px;\n",
              "    }\n",
              "\n",
              "    .colab-df-convert {\n",
              "      background-color: #E8F0FE;\n",
              "      border: none;\n",
              "      border-radius: 50%;\n",
              "      cursor: pointer;\n",
              "      display: none;\n",
              "      fill: #1967D2;\n",
              "      height: 32px;\n",
              "      padding: 0 0 0 0;\n",
              "      width: 32px;\n",
              "    }\n",
              "\n",
              "    .colab-df-convert:hover {\n",
              "      background-color: #E2EBFA;\n",
              "      box-shadow: 0px 1px 2px rgba(60, 64, 67, 0.3), 0px 1px 3px 1px rgba(60, 64, 67, 0.15);\n",
              "      fill: #174EA6;\n",
              "    }\n",
              "\n",
              "    [theme=dark] .colab-df-convert {\n",
              "      background-color: #3B4455;\n",
              "      fill: #D2E3FC;\n",
              "    }\n",
              "\n",
              "    [theme=dark] .colab-df-convert:hover {\n",
              "      background-color: #434B5C;\n",
              "      box-shadow: 0px 1px 3px 1px rgba(0, 0, 0, 0.15);\n",
              "      filter: drop-shadow(0px 1px 2px rgba(0, 0, 0, 0.3));\n",
              "      fill: #FFFFFF;\n",
              "    }\n",
              "  </style>\n",
              "\n",
              "      <script>\n",
              "        const buttonEl =\n",
              "          document.querySelector('#df-2caa87ee-5068-4729-a30e-7b17f4607322 button.colab-df-convert');\n",
              "        buttonEl.style.display =\n",
              "          google.colab.kernel.accessAllowed ? 'block' : 'none';\n",
              "\n",
              "        async function convertToInteractive(key) {\n",
              "          const element = document.querySelector('#df-2caa87ee-5068-4729-a30e-7b17f4607322');\n",
              "          const dataTable =\n",
              "            await google.colab.kernel.invokeFunction('convertToInteractive',\n",
              "                                                     [key], {});\n",
              "          if (!dataTable) return;\n",
              "\n",
              "          const docLinkHtml = 'Like what you see? Visit the ' +\n",
              "            '<a target=\"_blank\" href=https://colab.research.google.com/notebooks/data_table.ipynb>data table notebook</a>'\n",
              "            + ' to learn more about interactive tables.';\n",
              "          element.innerHTML = '';\n",
              "          dataTable['output_type'] = 'display_data';\n",
              "          await google.colab.output.renderOutput(dataTable, element);\n",
              "          const docLink = document.createElement('div');\n",
              "          docLink.innerHTML = docLinkHtml;\n",
              "          element.appendChild(docLink);\n",
              "        }\n",
              "      </script>\n",
              "    </div>\n",
              "  </div>\n",
              "  "
            ]
          },
          "metadata": {},
          "execution_count": 52
        }
      ],
      "source": [
        "df.head()"
      ]
    },
    {
      "cell_type": "code",
      "execution_count": null,
      "metadata": {
        "id": "_qQxUJoydRXN",
        "colab": {
          "base_uri": "https://localhost:8080/",
          "height": 410
        },
        "outputId": "071a9048-d93a-42c6-eb66-34f11448cf08"
      },
      "outputs": [
        {
          "output_type": "display_data",
          "data": {
            "text/plain": [
              "<Figure size 1500x400 with 1 Axes>"
            ],
            "image/png": "[encoded data removed]"
          },
          "metadata": {}
        }
      ],
      "source": [
        "plt.figure(figsize=(15,4))\n",
        "plt.plot(df['time'],df['height'])\n",
        "plt.gca().set(title='Water height in Chattahoochee River from 2015-01-01 to 2019-09-09', xlabel='year', ylabel='Water height')\n",
        "plt.show()"
      ]
    },
    {
      "cell_type": "code",
      "execution_count": null,
      "metadata": {
        "id": "NBWn3oWZdb08",
        "colab": {
          "base_uri": "https://localhost:8080/",
          "height": 447
        },
        "outputId": "b045ed16-c79a-472f-ef44-5f1d191359fb"
      },
      "outputs": [
        {
          "output_type": "execute_result",
          "data": {
            "text/plain": [
              "<Axes: >"
            ]
          },
          "metadata": {},
          "execution_count": 54
        },
        {
          "output_type": "display_data",
          "data": {
            "text/plain": [
              "<Figure size 640x480 with 1 Axes>"
            ],
            "image/png": "[encoded data removed]"
          },
          "metadata": {}
        }
      ],
      "source": [
        "df['height'].plot(xlim=['2015-09-09','2019-09-09'],ls='--',c='green')"
      ]
    },
    {
      "cell_type": "code",
      "execution_count": null,
      "metadata": {
        "id": "BcPhG1cmdeYo",
        "colab": {
          "base_uri": "https://localhost:8080/"
        },
        "outputId": "fbad7d6b-c8b4-46f5-aacd-74ec8eea5ec8"
      },
      "outputs": [
        {
          "output_type": "execute_result",
          "data": {
            "text/plain": [
              "RangeIndex(start=0, stop=245630, step=1)"
            ]
          },
          "metadata": {},
          "execution_count": 55
        }
      ],
      "source": [
        "df.index"
      ]
    },
    {
      "cell_type": "code",
      "execution_count": null,
      "metadata": {
        "id": "z1YrYDaHeCGs"
      },
      "outputs": [],
      "source": [
        "# df.head()"
      ]
    },
    {
      "cell_type": "code",
      "execution_count": null,
      "metadata": {
        "id": "VYigxqakeEjc"
      },
      "outputs": [],
      "source": [
        "df = df.set_index('time',drop=True)"
      ]
    },
    {
      "cell_type": "code",
      "execution_count": null,
      "metadata": {
        "id": "W6PUqyODeemD",
        "colab": {
          "base_uri": "https://localhost:8080/",
          "height": 614
        },
        "outputId": "59c3c8b9-a546-4700-9869-7f2c8dea28d5"
      },
      "outputs": [
        {
          "output_type": "execute_result",
          "data": {
            "text/plain": [
              "<Axes: xlabel='time'>"
            ]
          },
          "metadata": {},
          "execution_count": 58
        },
        {
          "output_type": "display_data",
          "data": {
            "text/plain": [
              "<Figure size 1200x500 with 1 Axes>"
            ],
            "image/png": "[encoded data removed]"
          },
          "metadata": {}
        }
      ],
      "source": [
        "df.resample(rule='A').mean().plot(kind='bar',figsize=(12,5))"
      ]
    },
    {
      "cell_type": "code",
      "execution_count": null,
      "metadata": {
        "id": "L4kud0ETegmJ",
        "colab": {
          "base_uri": "https://localhost:8080/",
          "height": 423
        },
        "outputId": "9c65eebc-894e-41d1-e7b1-26b7c31c7bdc"
      },
      "outputs": [
        {
          "output_type": "execute_result",
          "data": {
            "text/plain": [
              "        Year  Month  day  Hour  height\n",
              "0       2015      1    1     0    2.65\n",
              "1       2015      1    1     0    2.64\n",
              "2       2015      1    1     0    2.64\n",
              "3       2015      1    1     0    2.62\n",
              "4       2015      1    1     1    2.58\n",
              "...      ...    ...  ...   ...     ...\n",
              "245625  2022      2    9    15    2.39\n",
              "245626  2022      2    9    16    2.36\n",
              "245627  2022      2    9    16    2.37\n",
              "245628  2022      2    9    16    2.40\n",
              "245629  2022      2    9    16    2.41\n",
              "\n",
              "[245630 rows x 5 columns]"
            ],
            "text/html": [
              "\n",
              "  <div id=\"df-73c99a3b-1213-4e11-804d-62cfc2fd886b\">\n",
              "    <div class=\"colab-df-container\">\n",
              "      <div>\n",
              "<style scoped>\n",
              "    .dataframe tbody tr th:only-of-type {\n",
              "        vertical-align: middle;\n",
              "    }\n",
              "\n",
              "    .dataframe tbody tr th {\n",
              "        vertical-align: top;\n",
              "    }\n",
              "\n",
              "    .dataframe thead th {\n",
              "        text-align: right;\n",
              "    }\n",
              "</style>\n",
              "<table border=\"1\" class=\"dataframe\">\n",
              "  <thead>\n",
              "    <tr style=\"text-align: right;\">\n",
              "      <th></th>\n",
              "      <th>Year</th>\n",
              "      <th>Month</th>\n",
              "      <th>day</th>\n",
              "      <th>Hour</th>\n",
              "      <th>height</th>\n",
              "    </tr>\n",
              "  </thead>\n",
              "  <tbody>\n",
              "    <tr>\n",
              "      <th>0</th>\n",
              "      <td>2015</td>\n",
              "      <td>1</td>\n",
              "      <td>1</td>\n",
              "      <td>0</td>\n",
              "      <td>2.65</td>\n",
              "    </tr>\n",
              "    <tr>\n",
              "      <th>1</th>\n",
              "      <td>2015</td>\n",
              "      <td>1</td>\n",
              "      <td>1</td>\n",
              "      <td>0</td>\n",
              "      <td>2.64</td>\n",
              "    </tr>\n",
              "    <tr>\n",
              "      <th>2</th>\n",
              "      <td>2015</td>\n",
              "      <td>1</td>\n",
              "      <td>1</td>\n",
              "      <td>0</td>\n",
              "      <td>2.64</td>\n",
              "    </tr>\n",
              "    <tr>\n",
              "      <th>3</th>\n",
              "      <td>2015</td>\n",
              "      <td>1</td>\n",
              "      <td>1</td>\n",
              "      <td>0</td>\n",
              "      <td>2.62</td>\n",
              "    </tr>\n",
              "    <tr>\n",
              "      <th>4</th>\n",
              "      <td>2015</td>\n",
              "      <td>1</td>\n",
              "      <td>1</td>\n",
              "      <td>1</td>\n",
              "      <td>2.58</td>\n",
              "    </tr>\n",
              "    <tr>\n",
              "      <th>...</th>\n",
              "      <td>...</td>\n",
              "      <td>...</td>\n",
              "      <td>...</td>\n",
              "      <td>...</td>\n",
              "      <td>...</td>\n",
              "    </tr>\n",
              "    <tr>\n",
              "      <th>245625</th>\n",
              "      <td>2022</td>\n",
              "      <td>2</td>\n",
              "      <td>9</td>\n",
              "      <td>15</td>\n",
              "      <td>2.39</td>\n",
              "    </tr>\n",
              "    <tr>\n",
              "      <th>245626</th>\n",
              "      <td>2022</td>\n",
              "      <td>2</td>\n",
              "      <td>9</td>\n",
              "      <td>16</td>\n",
              "      <td>2.36</td>\n",
              "    </tr>\n",
              "    <tr>\n",
              "      <th>245627</th>\n",
              "      <td>2022</td>\n",
              "      <td>2</td>\n",
              "      <td>9</td>\n",
              "      <td>16</td>\n",
              "      <td>2.37</td>\n",
              "    </tr>\n",
              "    <tr>\n",
              "      <th>245628</th>\n",
              "      <td>2022</td>\n",
              "      <td>2</td>\n",
              "      <td>9</td>\n",
              "      <td>16</td>\n",
              "      <td>2.40</td>\n",
              "    </tr>\n",
              "    <tr>\n",
              "      <th>245629</th>\n",
              "      <td>2022</td>\n",
              "      <td>2</td>\n",
              "      <td>9</td>\n",
              "      <td>16</td>\n",
              "      <td>2.41</td>\n",
              "    </tr>\n",
              "  </tbody>\n",
              "</table>\n",
              "<p>245630 rows × 5 columns</p>\n",
              "</div>\n",
              "      <button class=\"colab-df-convert\" onclick=\"convertToInteractive('df-73c99a3b-1213-4e11-804d-62cfc2fd886b')\"\n",
              "              title=\"Convert this dataframe to an interactive table.\"\n",
              "              style=\"display:none;\">\n",
              "        \n",
              "  <svg xmlns=\"http://www.w3.org/2000/svg\" height=\"24px\"viewBox=\"0 0 24 24\"\n",
              "       width=\"24px\">\n",
              "    <path d=\"M0 0h24v24H0V0z\" fill=\"none\"/>\n",
              "    <path d=\"M18.56 5.44l.94 2.06.94-2.06 2.06-.94-2.06-.94-.94-2.06-.94 2.06-2.06.94zm-11 1L8.5 8.5l.94-2.06 2.06-.94-2.06-.94L8.5 2.5l-.94 2.06-2.06.94zm10 10l.94 2.06.94-2.06 2.06-.94-2.06-.94-.94-2.06-.94 2.06-2.06.94z\"/><path d=\"M17.41 7.96l-1.37-1.37c-.4-.4-.92-.59-1.43-.59-.52 0-1.04.2-1.43.59L10.3 9.45l-7.72 7.72c-.78.78-.78 2.05 0 2.83L4 21.41c.39.39.9.59 1.41.59.51 0 1.02-.2 1.41-.59l7.78-7.78 2.81-2.81c.8-.78.8-2.07 0-2.86zM5.41 20L4 18.59l7.72-7.72 1.47 1.35L5.41 20z\"/>\n",
              "  </svg>\n",
              "      </button>\n",
              "      \n",
              "  <style>\n",
              "    .colab-df-container {\n",
              "      display:flex;\n",
              "      flex-wrap:wrap;\n",
              "      gap: 12px;\n",
              "    }\n",
              "\n",
              "    .colab-df-convert {\n",
              "      background-color: #E8F0FE;\n",
              "      border: none;\n",
              "      border-radius: 50%;\n",
              "      cursor: pointer;\n",
              "      display: none;\n",
              "      fill: #1967D2;\n",
              "      height: 32px;\n",
              "      padding: 0 0 0 0;\n",
              "      width: 32px;\n",
              "    }\n",
              "\n",
              "    .colab-df-convert:hover {\n",
              "      background-color: #E2EBFA;\n",
              "      box-shadow: 0px 1px 2px rgba(60, 64, 67, 0.3), 0px 1px 3px 1px rgba(60, 64, 67, 0.15);\n",
              "      fill: #174EA6;\n",
              "    }\n",
              "\n",
              "    [theme=dark] .colab-df-convert {\n",
              "      background-color: #3B4455;\n",
              "      fill: #D2E3FC;\n",
              "    }\n",
              "\n",
              "    [theme=dark] .colab-df-convert:hover {\n",
              "      background-color: #434B5C;\n",
              "      box-shadow: 0px 1px 3px 1px rgba(0, 0, 0, 0.15);\n",
              "      filter: drop-shadow(0px 1px 2px rgba(0, 0, 0, 0.3));\n",
              "      fill: #FFFFFF;\n",
              "    }\n",
              "  </style>\n",
              "\n",
              "      <script>\n",
              "        const buttonEl =\n",
              "          document.querySelector('#df-73c99a3b-1213-4e11-804d-62cfc2fd886b button.colab-df-convert');\n",
              "        buttonEl.style.display =\n",
              "          google.colab.kernel.accessAllowed ? 'block' : 'none';\n",
              "\n",
              "        async function convertToInteractive(key) {\n",
              "          const element = document.querySelector('#df-73c99a3b-1213-4e11-804d-62cfc2fd886b');\n",
              "          const dataTable =\n",
              "            await google.colab.kernel.invokeFunction('convertToInteractive',\n",
              "                                                     [key], {});\n",
              "          if (!dataTable) return;\n",
              "\n",
              "          const docLinkHtml = 'Like what you see? Visit the ' +\n",
              "            '<a target=\"_blank\" href=https://colab.research.google.com/notebooks/data_table.ipynb>data table notebook</a>'\n",
              "            + ' to learn more about interactive tables.';\n",
              "          element.innerHTML = '';\n",
              "          dataTable['output_type'] = 'display_data';\n",
              "          await google.colab.output.renderOutput(dataTable, element);\n",
              "          const docLink = document.createElement('div');\n",
              "          docLink.innerHTML = docLinkHtml;\n",
              "          element.appendChild(docLink);\n",
              "        }\n",
              "      </script>\n",
              "    </div>\n",
              "  </div>\n",
              "  "
            ]
          },
          "metadata": {},
          "execution_count": 59
        }
      ],
      "source": [
        " #Extracting features from date and time this way creating  new features.\n",
        "data['Month'] = [i.month for i in data['date']]\n",
        "data['Year'] = [i.year for i in data['date']]\n",
        "data['day'] = [i.day for i in data['date']]\n",
        "data['Hour'] = [i.hour for i in data['Only_time']]\n",
        "data['Minute'] = [i.minute for i in data['Only_time']]\n",
        "data['Second'] = [i.second for i in data['Only_time']]\n",
        "#drop unnecessary  columns and re-arrange\n",
        "data.drop('Minute',axis=1, inplace=True)\n",
        "data.drop('Second',axis=1, inplace=True)\n",
        "data = data[['Year', 'Month', 'day', 'Hour', 'height']]\n",
        "data"
      ]
    },
    {
      "cell_type": "code",
      "execution_count": null,
      "metadata": {
        "id": "Yg24Ya_8ewXn",
        "colab": {
          "base_uri": "https://localhost:8080/",
          "height": 423
        },
        "outputId": "5d045734-486d-45f7-e91c-84c9003ed8d0"
      },
      "outputs": [
        {
          "output_type": "execute_result",
          "data": {
            "text/plain": [
              "        Year  Month  day  Hour     t   t+1\n",
              "1       2015      1    1     0  2.65  2.64\n",
              "2       2015      1    1     0  2.64  2.64\n",
              "3       2015      1    1     0  2.64  2.62\n",
              "4       2015      1    1     1  2.62  2.58\n",
              "5       2015      1    1     1  2.58  2.62\n",
              "...      ...    ...  ...   ...   ...   ...\n",
              "245625  2022      2    9    15  2.41  2.39\n",
              "245626  2022      2    9    16  2.39  2.36\n",
              "245627  2022      2    9    16  2.36  2.37\n",
              "245628  2022      2    9    16  2.37  2.40\n",
              "245629  2022      2    9    16  2.40  2.41\n",
              "\n",
              "[245629 rows x 6 columns]"
            ],
            "text/html": [
              "\n",
              "  <div id=\"df-09752086-0ef4-4a03-8af2-455804f5cf68\">\n",
              "    <div class=\"colab-df-container\">\n",
              "      <div>\n",
              "<style scoped>\n",
              "    .dataframe tbody tr th:only-of-type {\n",
              "        vertical-align: middle;\n",
              "    }\n",
              "\n",
              "    .dataframe tbody tr th {\n",
              "        vertical-align: top;\n",
              "    }\n",
              "\n",
              "    .dataframe thead th {\n",
              "        text-align: right;\n",
              "    }\n",
              "</style>\n",
              "<table border=\"1\" class=\"dataframe\">\n",
              "  <thead>\n",
              "    <tr style=\"text-align: right;\">\n",
              "      <th></th>\n",
              "      <th>Year</th>\n",
              "      <th>Month</th>\n",
              "      <th>day</th>\n",
              "      <th>Hour</th>\n",
              "      <th>t</th>\n",
              "      <th>t+1</th>\n",
              "    </tr>\n",
              "  </thead>\n",
              "  <tbody>\n",
              "    <tr>\n",
              "      <th>1</th>\n",
              "      <td>2015</td>\n",
              "      <td>1</td>\n",
              "      <td>1</td>\n",
              "      <td>0</td>\n",
              "      <td>2.65</td>\n",
              "      <td>2.64</td>\n",
              "    </tr>\n",
              "    <tr>\n",
              "      <th>2</th>\n",
              "      <td>2015</td>\n",
              "      <td>1</td>\n",
              "      <td>1</td>\n",
              "      <td>0</td>\n",
              "      <td>2.64</td>\n",
              "      <td>2.64</td>\n",
              "    </tr>\n",
              "    <tr>\n",
              "      <th>3</th>\n",
              "      <td>2015</td>\n",
              "      <td>1</td>\n",
              "      <td>1</td>\n",
              "      <td>0</td>\n",
              "      <td>2.64</td>\n",
              "      <td>2.62</td>\n",
              "    </tr>\n",
              "    <tr>\n",
              "      <th>4</th>\n",
              "      <td>2015</td>\n",
              "      <td>1</td>\n",
              "      <td>1</td>\n",
              "      <td>1</td>\n",
              "      <td>2.62</td>\n",
              "      <td>2.58</td>\n",
              "    </tr>\n",
              "    <tr>\n",
              "      <th>5</th>\n",
              "      <td>2015</td>\n",
              "      <td>1</td>\n",
              "      <td>1</td>\n",
              "      <td>1</td>\n",
              "      <td>2.58</td>\n",
              "      <td>2.62</td>\n",
              "    </tr>\n",
              "    <tr>\n",
              "      <th>...</th>\n",
              "      <td>...</td>\n",
              "      <td>...</td>\n",
              "      <td>...</td>\n",
              "      <td>...</td>\n",
              "      <td>...</td>\n",
              "      <td>...</td>\n",
              "    </tr>\n",
              "    <tr>\n",
              "      <th>245625</th>\n",
              "      <td>2022</td>\n",
              "      <td>2</td>\n",
              "      <td>9</td>\n",
              "      <td>15</td>\n",
              "      <td>2.41</td>\n",
              "      <td>2.39</td>\n",
              "    </tr>\n",
              "    <tr>\n",
              "      <th>245626</th>\n",
              "      <td>2022</td>\n",
              "      <td>2</td>\n",
              "      <td>9</td>\n",
              "      <td>16</td>\n",
              "      <td>2.39</td>\n",
              "      <td>2.36</td>\n",
              "    </tr>\n",
              "    <tr>\n",
              "      <th>245627</th>\n",
              "      <td>2022</td>\n",
              "      <td>2</td>\n",
              "      <td>9</td>\n",
              "      <td>16</td>\n",
              "      <td>2.36</td>\n",
              "      <td>2.37</td>\n",
              "    </tr>\n",
              "    <tr>\n",
              "      <th>245628</th>\n",
              "      <td>2022</td>\n",
              "      <td>2</td>\n",
              "      <td>9</td>\n",
              "      <td>16</td>\n",
              "      <td>2.37</td>\n",
              "      <td>2.40</td>\n",
              "    </tr>\n",
              "    <tr>\n",
              "      <th>245629</th>\n",
              "      <td>2022</td>\n",
              "      <td>2</td>\n",
              "      <td>9</td>\n",
              "      <td>16</td>\n",
              "      <td>2.40</td>\n",
              "      <td>2.41</td>\n",
              "    </tr>\n",
              "  </tbody>\n",
              "</table>\n",
              "<p>245629 rows × 6 columns</p>\n",
              "</div>\n",
              "      <button class=\"colab-df-convert\" onclick=\"convertToInteractive('df-09752086-0ef4-4a03-8af2-455804f5cf68')\"\n",
              "              title=\"Convert this dataframe to an interactive table.\"\n",
              "              style=\"display:none;\">\n",
              "        \n",
              "  <svg xmlns=\"http://www.w3.org/2000/svg\" height=\"24px\"viewBox=\"0 0 24 24\"\n",
              "       width=\"24px\">\n",
              "    <path d=\"M0 0h24v24H0V0z\" fill=\"none\"/>\n",
              "    <path d=\"M18.56 5.44l.94 2.06.94-2.06 2.06-.94-2.06-.94-.94-2.06-.94 2.06-2.06.94zm-11 1L8.5 8.5l.94-2.06 2.06-.94-2.06-.94L8.5 2.5l-.94 2.06-2.06.94zm10 10l.94 2.06.94-2.06 2.06-.94-2.06-.94-.94-2.06-.94 2.06-2.06.94z\"/><path d=\"M17.41 7.96l-1.37-1.37c-.4-.4-.92-.59-1.43-.59-.52 0-1.04.2-1.43.59L10.3 9.45l-7.72 7.72c-.78.78-.78 2.05 0 2.83L4 21.41c.39.39.9.59 1.41.59.51 0 1.02-.2 1.41-.59l7.78-7.78 2.81-2.81c.8-.78.8-2.07 0-2.86zM5.41 20L4 18.59l7.72-7.72 1.47 1.35L5.41 20z\"/>\n",
              "  </svg>\n",
              "      </button>\n",
              "      \n",
              "  <style>\n",
              "    .colab-df-container {\n",
              "      display:flex;\n",
              "      flex-wrap:wrap;\n",
              "      gap: 12px;\n",
              "    }\n",
              "\n",
              "    .colab-df-convert {\n",
              "      background-color: #E8F0FE;\n",
              "      border: none;\n",
              "      border-radius: 50%;\n",
              "      cursor: pointer;\n",
              "      display: none;\n",
              "      fill: #1967D2;\n",
              "      height: 32px;\n",
              "      padding: 0 0 0 0;\n",
              "      width: 32px;\n",
              "    }\n",
              "\n",
              "    .colab-df-convert:hover {\n",
              "      background-color: #E2EBFA;\n",
              "      box-shadow: 0px 1px 2px rgba(60, 64, 67, 0.3), 0px 1px 3px 1px rgba(60, 64, 67, 0.15);\n",
              "      fill: #174EA6;\n",
              "    }\n",
              "\n",
              "    [theme=dark] .colab-df-convert {\n",
              "      background-color: #3B4455;\n",
              "      fill: #D2E3FC;\n",
              "    }\n",
              "\n",
              "    [theme=dark] .colab-df-convert:hover {\n",
              "      background-color: #434B5C;\n",
              "      box-shadow: 0px 1px 3px 1px rgba(0, 0, 0, 0.15);\n",
              "      filter: drop-shadow(0px 1px 2px rgba(0, 0, 0, 0.3));\n",
              "      fill: #FFFFFF;\n",
              "    }\n",
              "  </style>\n",
              "\n",
              "      <script>\n",
              "        const buttonEl =\n",
              "          document.querySelector('#df-09752086-0ef4-4a03-8af2-455804f5cf68 button.colab-df-convert');\n",
              "        buttonEl.style.display =\n",
              "          google.colab.kernel.accessAllowed ? 'block' : 'none';\n",
              "\n",
              "        async function convertToInteractive(key) {\n",
              "          const element = document.querySelector('#df-09752086-0ef4-4a03-8af2-455804f5cf68');\n",
              "          const dataTable =\n",
              "            await google.colab.kernel.invokeFunction('convertToInteractive',\n",
              "                                                     [key], {});\n",
              "          if (!dataTable) return;\n",
              "\n",
              "          const docLinkHtml = 'Like what you see? Visit the ' +\n",
              "            '<a target=\"_blank\" href=https://colab.research.google.com/notebooks/data_table.ipynb>data table notebook</a>'\n",
              "            + ' to learn more about interactive tables.';\n",
              "          element.innerHTML = '';\n",
              "          dataTable['output_type'] = 'display_data';\n",
              "          await google.colab.output.renderOutput(dataTable, element);\n",
              "          const docLink = document.createElement('div');\n",
              "          docLink.innerHTML = docLinkHtml;\n",
              "          element.appendChild(docLink);\n",
              "        }\n",
              "      </script>\n",
              "    </div>\n",
              "  </div>\n",
              "  "
            ]
          },
          "metadata": {},
          "execution_count": 60
        }
      ],
      "source": [
        "#create a dataframe that contains water level/height values at 't'\n",
        "temps = DataFrame(data['height'].values)\n",
        "# shift forward and concatenate with data\n",
        "temps_shift = concat([temps.shift(1, axis = 0),temps], axis=1)\n",
        "data = concat([data, temps_shift], axis=1)\n",
        "#drop repeated column\n",
        "data.drop('height',axis=1, inplace=True)\n",
        "#re-arrange\n",
        "data.columns = ['Year', 'Month', 'day', 'Hour','t', 't+1']\n",
        "#drop the first row with NaN value\n",
        "data.dropna(axis=0, inplace=True)\n",
        "data"
      ]
    },
    {
      "cell_type": "code",
      "execution_count": null,
      "metadata": {
        "id": "Z5tWEUPHezd8"
      },
      "outputs": [],
      "source": [
        "train = data[data['Year'] <= 2018]\n",
        "valid = data[(data['Year'] > 2018) & (data['Year'] < 2020)]\n",
        "test = data[data['Year'] >= 2020]"
      ]
    },
    {
      "cell_type": "code",
      "execution_count": null,
      "metadata": {
        "id": "N1blCawMe1v4"
      },
      "outputs": [],
      "source": [
        "#Separating the input and output variables\n",
        "train_X = train.iloc[:,:-1]\n",
        "train_y = train.iloc[:,-1]\n",
        "valid_X = valid.iloc[:,:-1]\n",
        "valid_y = valid.iloc[:,-1]\n",
        "test_X = test.iloc[:,:-1]\n",
        "test_y = test.iloc[:,-1]"
      ]
    },
    {
      "cell_type": "code",
      "execution_count": null,
      "metadata": {
        "id": "kuQVr4Bfe4ln",
        "colab": {
          "base_uri": "https://localhost:8080/"
        },
        "outputId": "5ff3ddb4-6be0-4691-e9ac-554eac720d1c"
      },
      "outputs": [
        {
          "output_type": "stream",
          "name": "stdout",
          "text": [
            "train_X shape: (137549, 5)\n",
            "train_y shape: (137549,)\n",
            "valid_X shape: (34789, 5)\n",
            "valid_y shape: (34789,)\n",
            "test_X shape: (73291, 5)\n",
            "test_y shape: (73291,)\n"
          ]
        }
      ],
      "source": [
        "train_X = train_X.values\n",
        "print('train_X shape:', train_X.shape)\n",
        "train_y = train_y.values\n",
        "print('train_y shape:', train_y.shape)\n",
        "valid_X = valid_X.values\n",
        "print('valid_X shape:', valid_X.shape)\n",
        "valid_y = valid_y.values\n",
        "print('valid_y shape:', valid_y.shape)\n",
        "test_X = test_X.values\n",
        "print('test_X shape:', test_X.shape)\n",
        "test_y = test_y.values\n",
        "print('test_y shape:', test_y.shape)"
      ]
    },
    {
      "cell_type": "code",
      "execution_count": null,
      "metadata": {
        "id": "5ZN3b5qwe6AC",
        "colab": {
          "base_uri": "https://localhost:8080/",
          "height": 385
        },
        "outputId": "09b5bf8f-da79-40ce-da9b-15416227101d"
      },
      "outputs": [
        {
          "output_type": "execute_result",
          "data": {
            "text/plain": [
              "<matplotlib.legend.Legend at 0x7f070796b7f0>"
            ]
          },
          "metadata": {},
          "execution_count": 65
        },
        {
          "output_type": "display_data",
          "data": {
            "text/plain": [
              "<Figure size 1500x400 with 1 Axes>"
            ],
            "image/png": "[encoded data removed]"
          },
          "metadata": {}
        }
      ],
      "source": [
        "#plot the distribution of train /valid/ test samples\n",
        "x1=np.arange(0,137549)\n",
        "x2 = np.arange(137549,172338)\n",
        "x3 = np.arange(172338,245629)\n",
        "plt.figure(figsize=(15,4), dpi=100)\n",
        "plt.plot(x1,train_y,'b',label='train')\n",
        "plt.plot(x2, valid_y, 'r', label='valid')\n",
        "plt.plot(x3,test_y,'g',label='test')\n",
        "plt.legend(loc='best')"
      ]
    },
    {
      "cell_type": "code",
      "execution_count": null,
      "metadata": {
        "id": "lZ9JglXQe8DM",
        "colab": {
          "base_uri": "https://localhost:8080/"
        },
        "outputId": "9d340531-482d-4fe0-fb56-1bdb3501617f"
      },
      "outputs": [
        {
          "output_type": "stream",
          "name": "stdout",
          "text": [
            "Train set shape (137549, 5, 1)\n",
            "Validation set shape (34789, 5, 1)\n",
            "Validation set shape (73291, 5, 1)\n"
          ]
        }
      ],
      "source": [
        "#reshape the train/valid/test datasets as it matche the CNN input\n",
        "train_Xcnn = train_X.reshape((train_X.shape[0], train_X.shape[1], 1))\n",
        "valid_Xcnn = valid_X.reshape((valid_X.shape[0], valid_X.shape[1], 1))\n",
        "test_Xcnn = test_X.reshape((test_X.shape[0], test_X.shape[1], 1))\n",
        "print('Train set shape', train_Xcnn.shape)\n",
        "print('Validation set shape', valid_Xcnn.shape)\n",
        "print('Validation set shape', test_Xcnn.shape)\n"
      ]
    },
    {
      "cell_type": "code",
      "source": [
        "!pip install keras-tuner\n"
      ],
      "metadata": {
        "colab": {
          "base_uri": "https://localhost:8080/"
        },
        "id": "YfV3hm3Vsn9o",
        "outputId": "09ee11c9-ee74-49c1-ee9e-ddbaa1d7045f"
      },
      "execution_count": null,
      "outputs": [
        {
          "output_type": "stream",
          "name": "stdout",
          "text": [
            "Looking in indexes: https://pypi.org/simple, https://us-python.pkg.dev/colab-wheels/public/simple/\n",
            "Collecting keras-tuner\n",
            "  Downloading keras_tuner-1.3.5-py3-none-any.whl (176 kB)\n",
            "\u001b[?25l     \u001b[90m━━━━━━━━━━━━━━━━━━━━━━━━━━━━━━━━━━━━━━━━\u001b[0m \u001b[32m0.0/176.1 kB\u001b[0m \u001b[31m?\u001b[0m eta \u001b[36m-:--:--\u001b[0m\r\u001b[2K     \u001b[90m━━━━━━━━━━━━━━━━━━━━━━━━━━━━━━━━━━━━━━━\u001b[0m \u001b[32m176.1/176.1 kB\u001b[0m \u001b[31m5.5 MB/s\u001b[0m eta \u001b[36m0:00:00\u001b[0m\n",
            "\u001b[?25hRequirement already satisfied: packaging in /usr/local/lib/python3.10/dist-packages (from keras-tuner) (23.1)\n",
            "Requirement already satisfied: requests in /usr/local/lib/python3.10/dist-packages (from keras-tuner) (2.27.1)\n",
            "Collecting kt-legacy (from keras-tuner)\n",
            "  Downloading kt_legacy-1.0.5-py3-none-any.whl (9.6 kB)\n",
            "Requirement already satisfied: urllib3<1.27,>=1.21.1 in /usr/local/lib/python3.10/dist-packages (from requests->keras-tuner) (1.26.15)\n",
            "Requirement already satisfied: certifi>=2017.4.17 in /usr/local/lib/python3.10/dist-packages (from requests->keras-tuner) (2022.12.7)\n",
            "Requirement already satisfied: charset-normalizer~=2.0.0 in /usr/local/lib/python3.10/dist-packages (from requests->keras-tuner) (2.0.12)\n",
            "Requirement already satisfied: idna<4,>=2.5 in /usr/local/lib/python3.10/dist-packages (from requests->keras-tuner) (3.4)\n",
            "Installing collected packages: kt-legacy, keras-tuner\n",
            "Successfully installed keras-tuner-1.3.5 kt-legacy-1.0.5\n"
          ]
        }
      ]
    },
    {
      "cell_type": "code",
      "source": [
        "import numpy as np\n",
        "from tensorflow import keras\n",
        "from tensorflow.keras.models import Sequential\n",
        "from tensorflow.keras.layers import Conv1D, MaxPooling1D, LSTM, Dropout, Dense\n",
        "from kerastuner.tuners import RandomSearch\n",
        "from sklearn.metrics import mean_squared_error, mean_absolute_error"
      ],
      "metadata": {
        "id": "pJDfpyYUtLUA",
        "colab": {
          "base_uri": "https://localhost:8080/"
        },
        "outputId": "1c3d5204-5a76-47e6-bc84-375829b49979"
      },
      "execution_count": null,
      "outputs": [
        {
          "output_type": "stream",
          "name": "stderr",
          "text": [
            "<ipython-input-68-d471313bbc5c>:5: DeprecationWarning: `import kerastuner` is deprecated, please use `import keras_tuner`.\n",
            "  from kerastuner.tuners import RandomSearch\n"
          ]
        }
      ]
    },
    {
      "cell_type": "code",
      "source": [
        "!pip install tensorflow-addons==0.16.1\n",
        "import tensorflow_addons as tfa"
      ],
      "metadata": {
        "colab": {
          "base_uri": "https://localhost:8080/"
        },
        "id": "rFk7uMShrrH5",
        "outputId": "3ddef552-3a54-4284-f56b-231a31c63753"
      },
      "execution_count": null,
      "outputs": [
        {
          "output_type": "stream",
          "name": "stdout",
          "text": [
            "Looking in indexes: https://pypi.org/simple, https://us-python.pkg.dev/colab-wheels/public/simple/\n",
            "Collecting tensorflow-addons==0.16.1\n",
            "  Downloading tensorflow_addons-0.16.1-cp310-cp310-manylinux_2_12_x86_64.manylinux2010_x86_64.whl (1.1 MB)\n",
            "\u001b[2K     \u001b[90m━━━━━━━━━━━━━━━━━━━━━━━━━━━━━━━━━━━━━━━━\u001b[0m \u001b[32m1.1/1.1 MB\u001b[0m \u001b[31m17.3 MB/s\u001b[0m eta \u001b[36m0:00:00\u001b[0m\n",
            "\u001b[?25hCollecting typeguard>=2.7 (from tensorflow-addons==0.16.1)\n",
            "  Downloading typeguard-4.0.0-py3-none-any.whl (33 kB)\n",
            "Requirement already satisfied: typing-extensions>=4.4.0 in /usr/local/lib/python3.10/dist-packages (from typeguard>=2.7->tensorflow-addons==0.16.1) (4.5.0)\n",
            "Installing collected packages: typeguard, tensorflow-addons\n",
            "Successfully installed tensorflow-addons-0.16.1 typeguard-4.0.0\n"
          ]
        },
        {
          "output_type": "stream",
          "name": "stderr",
          "text": [
            "/usr/local/lib/python3.10/dist-packages/tensorflow_addons/utils/ensure_tf_install.py:53: UserWarning: Tensorflow Addons supports using Python ops for all Tensorflow versions above or equal to 2.6.0 and strictly below 2.9.0 (nightly versions are not supported). \n",
            " The versions of TensorFlow you are currently using is 2.12.0 and is not supported. \n",
            "Some things might work, some things might not.\n",
            "If you were to encounter a bug, do not file an issue.\n",
            "If you want to make sure you're using a tested and supported configuration, either change the TensorFlow version or the TensorFlow Addons's version. \n",
            "You can find the compatibility matrix in TensorFlow Addon's readme:\n",
            "https://github.com/tensorflow/addons\n",
            "  warnings.warn(\n"
          ]
        }
      ]
    },
    {
      "cell_type": "code",
      "source": [
        "import tensorflow as tf\n",
        "from tensorflow.keras import layers\n",
        "\n",
        "class AttentionLayer(layers.Layer):\n",
        "    def __init__(self):\n",
        "        super(AttentionLayer, self).__init__()\n",
        "\n",
        "    def build(self, input_shape):\n",
        "        self.W = self.add_weight(name='att_weights', shape=(input_shape[-1], 1), initializer='random_normal', trainable=True)\n",
        "        self.b = self.add_weight(name='att_bias', shape=(input_shape[1], 1), initializer='zeros', trainable=True)\n",
        "        super(AttentionLayer, self).build(input_shape)\n",
        "\n",
        "    def call(self, inputs):\n",
        "        e = tf.keras.backend.dot(inputs, self.W) + self.b\n",
        "        a = tf.keras.activations.softmax(e, axis=1)\n",
        "        output = inputs * a\n",
        "        return tf.reduce_sum(output, axis=1)\n"
      ],
      "metadata": {
        "id": "AlslN7ZcsShn"
      },
      "execution_count": null,
      "outputs": []
    },
    {
      "cell_type": "code",
      "source": [
        "import tensorflow as tf\n",
        "from tensorflow.keras import layers\n",
        "\n",
        "class AttentionLayer(layers.Layer):\n",
        "    def __init__(self):\n",
        "        super(AttentionLayer, self).__init__()\n",
        "\n",
        "    def build(self, input_shape):\n",
        "        self.W = self.add_weight(name='att_weights', shape=(input_shape[-1], 1), initializer='random_normal', trainable=True)\n",
        "        self.b = self.add_weight(name='att_bias', shape=(input_shape[1], 1), initializer='zeros', trainable=True)\n",
        "        super(AttentionLayer, self).build(input_shape)\n",
        "\n",
        "    def call(self, inputs):\n",
        "        e = tf.keras.backend.dot(inputs, self.W) + self.b\n",
        "        a = tf.keras.activations.softmax(e, axis=1)\n",
        "        output = inputs * a\n",
        "        return tf.reduce_sum(output, axis=1)\n",
        "\n",
        "from tensorflow.keras.models import Sequential\n",
        "from tensorflow.keras.layers import LSTM, GRU, Dropout, Dense\n",
        "from kerastuner.tuners import RandomSearch\n",
        "from sklearn.metrics import mean_squared_error, mean_absolute_error\n",
        "\n",
        "model_lstm_bi_gru = Sequential()\n",
        "\n",
        "# First LSTM layer with Dropout regularisation\n",
        "model_lstm_bi_gru.add(LSTM(units=64, return_sequences=True, input_shape=(train_Xcnn.shape[1], train_Xcnn.shape[2]), activation='tanh'))\n",
        "model_lstm_bi_gru.add(Dropout(0.2))\n",
        "\n",
        "# Second LSTM layer\n",
        "model_lstm_bi_gru.add(LSTM(units=64, return_sequences=True, input_shape=(train_Xcnn.shape[1], train_Xcnn.shape[2]), activation='tanh'))\n",
        "model_lstm_bi_gru.add(Dropout(0.2))\n",
        "\n",
        "# Third LSTM layer\n",
        "model_lstm_bi_gru.add(LSTM(units=32, return_sequences=True, input_shape=(train_Xcnn.shape[1], train_Xcnn.shape[2]), activation='tanh'))\n",
        "model_lstm_bi_gru.add(Dropout(0.2))\n",
        "\n",
        "# Fourth Bidirectional GRU layer\n",
        "model_lstm_bi_gru.add(Bidirectional(GRU(units=16, activation='tanh')))\n",
        "model_lstm_bi_gru.add(Dropout(0.2))\n",
        "\n",
        "# The output layer\n",
        "model_lstm_bi_gru.add(Dense(units=1))\n",
        "\n",
        "# Add Attention layer\n",
        "model_lstm_bi_gru.add(AttentionLayer())\n",
        "\n",
        "model_lstm_bi_gru.compile(loss='mse', optimizer='adam', metrics=['mse', 'mae'])\n",
        "model_lstm_bi_gru.summary()\n",
        "\n",
        "cnn_lstm_attention_history = model_lstm_bi_gru.fit(train_Xcnn, train_y, epochs=5, verbose=2, batch_size=64)\n"
      ],
      "metadata": {
        "colab": {
          "base_uri": "https://localhost:8080/"
        },
        "id": "5TlppIuo202b",
        "outputId": "12edbce1-3d43-4f1b-a1c8-449f4c7eb718"
      },
      "execution_count": null,
      "outputs": [
        {
          "output_type": "stream",
          "name": "stdout",
          "text": [
            "Model: \"sequential\"\n",
            "_________________________________________________________________\n",
            " Layer (type)                Output Shape              Param #   \n",
            "=================================================================\n",
            " lstm (LSTM)                 (None, 5, 64)             16896     \n",
            "                                                                 \n",
            " dropout (Dropout)           (None, 5, 64)             0         \n",
            "                                                                 \n",
            " lstm_1 (LSTM)               (None, 5, 64)             33024     \n",
            "                                                                 \n",
            " dropout_1 (Dropout)         (None, 5, 64)             0         \n",
            "                                                                 \n",
            " lstm_2 (LSTM)               (None, 5, 32)             12416     \n",
            "                                                                 \n",
            " dropout_2 (Dropout)         (None, 5, 32)             0         \n",
            "                                                                 \n",
            " bidirectional (Bidirectiona  (None, 32)               4800      \n",
            " l)                                                              \n",
            "                                                                 \n",
            " dropout_3 (Dropout)         (None, 32)                0         \n",
            "                                                                 \n",
            " dense (Dense)               (None, 1)                 33        \n",
            "                                                                 \n",
            " attention_layer (AttentionL  (None,)                  2         \n",
            " ayer)                                                           \n",
            "                                                                 \n",
            "=================================================================\n",
            "Total params: 67,171\n",
            "Trainable params: 67,171\n",
            "Non-trainable params: 0\n",
            "_________________________________________________________________\n",
            "Epoch 1/5\n",
            "2150/2150 - 37s - loss: 0.5370 - mse: 0.5369 - mae: 0.4049 - 37s/epoch - 17ms/step\n",
            "Epoch 2/5\n",
            "2150/2150 - 21s - loss: 0.1190 - mse: 0.1190 - mae: 0.2295 - 21s/epoch - 10ms/step\n",
            "Epoch 3/5\n",
            "2150/2150 - 19s - loss: 0.0885 - mse: 0.0885 - mae: 0.1948 - 19s/epoch - 9ms/step\n",
            "Epoch 4/5\n",
            "2150/2150 - 20s - loss: 0.0725 - mse: 0.0725 - mae: 0.1726 - 20s/epoch - 10ms/step\n",
            "Epoch 5/5\n",
            "2150/2150 - 20s - loss: 0.0606 - mse: 0.0606 - mae: 0.1559 - 20s/epoch - 9ms/step\n"
          ]
        }
      ]
    },
    {
      "cell_type": "code",
      "source": [
        "cnn_lstm_history = model_lstm_bi_gru.fit(train_Xcnn, train_y, epochs=5, verbose=2, batch_size=64)"
      ],
      "metadata": {
        "id": "qQSuWG_Xs-Yl",
        "colab": {
          "base_uri": "https://localhost:8080/"
        },
        "outputId": "91a61156-83b7-4c62-8990-eefc80bbfd1a"
      },
      "execution_count": null,
      "outputs": [
        {
          "output_type": "stream",
          "name": "stdout",
          "text": [
            "Epoch 1/5\n",
            "2150/2150 - 21s - loss: 0.0540 - mse: 0.0540 - mae: 0.1464 - 21s/epoch - 10ms/step\n",
            "Epoch 2/5\n",
            "2150/2150 - 20s - loss: 0.0483 - mse: 0.0483 - mae: 0.1385 - 20s/epoch - 9ms/step\n",
            "Epoch 3/5\n",
            "2150/2150 - 20s - loss: 0.0454 - mse: 0.0454 - mae: 0.1332 - 20s/epoch - 10ms/step\n",
            "Epoch 4/5\n",
            "2150/2150 - 19s - loss: 0.0432 - mse: 0.0432 - mae: 0.1299 - 19s/epoch - 9ms/step\n",
            "Epoch 5/5\n",
            "2150/2150 - 21s - loss: 0.0417 - mse: 0.0417 - mae: 0.1270 - 21s/epoch - 10ms/step\n"
          ]
        }
      ]
    },
    {
      "cell_type": "code",
      "source": [
        "cnn_lstm_history.history.keys()"
      ],
      "metadata": {
        "id": "ztYA255z1IRk",
        "colab": {
          "base_uri": "https://localhost:8080/"
        },
        "outputId": "31e45652-0d07-47e8-c1bd-eb249127d8fe"
      },
      "execution_count": null,
      "outputs": [
        {
          "output_type": "execute_result",
          "data": {
            "text/plain": [
              "dict_keys(['loss', 'mse', 'mae'])"
            ]
          },
          "metadata": {},
          "execution_count": 74
        }
      ]
    },
    {
      "cell_type": "code",
      "execution_count": null,
      "metadata": {
        "id": "dTZmjglAgVcB",
        "colab": {
          "base_uri": "https://localhost:8080/",
          "height": 472
        },
        "outputId": "63b872a6-5300-429b-8738-2f0b9f6b0e16"
      },
      "outputs": [
        {
          "output_type": "display_data",
          "data": {
            "text/plain": [
              "<Figure size 640x480 with 1 Axes>"
            ],
            "image/png": "[encoded data removed]"
          },
          "metadata": {}
        }
      ],
      "source": [
        "# summarize history for loss\n",
        "plt.plot(cnn_lstm_history.history['mse'])\n",
        "plt.plot(cnn_lstm_history.history['mse'])\n",
        "plt.title('CNN-LSTM mse')\n",
        "plt.ylabel('loss')\n",
        "plt.xlabel('epoch')\n",
        "plt.legend(['train', 'valid'], loc='upper right')\n",
        "plt.show()"
      ]
    },
    {
      "cell_type": "code",
      "execution_count": null,
      "metadata": {
        "id": "BGF7UGmVgW_K",
        "colab": {
          "base_uri": "https://localhost:8080/",
          "height": 472
        },
        "outputId": "944e0855-7e40-4842-ec13-e5c1fa18427d"
      },
      "outputs": [
        {
          "output_type": "display_data",
          "data": {
            "text/plain": [
              "<Figure size 640x480 with 1 Axes>"
            ],
            "image/png": "[encoded data removed]"
          },
          "metadata": {}
        }
      ],
      "source": [
        "# summarize history for loss\n",
        "plt.plot(cnn_lstm_history.history['mae'])\n",
        "plt.plot(cnn_lstm_history.history['mae'])\n",
        "plt.title('CNN-LSTM mae')\n",
        "plt.ylabel('loss')\n",
        "plt.xlabel('epoch')\n",
        "plt.legend(['train', 'valid'], loc='upper right')\n",
        "plt.show()"
      ]
    },
    {
      "cell_type": "code",
      "execution_count": null,
      "metadata": {
        "id": "jx9brSEIgYWk",
        "colab": {
          "base_uri": "https://localhost:8080/"
        },
        "outputId": "973c82b2-7287-4ba9-fe33-d2f396a48987"
      },
      "outputs": [
        {
          "output_type": "stream",
          "name": "stdout",
          "text": [
            "4299/4299 [==============================] - 20s 4ms/step\n",
            "1088/1088 [==============================] - 4s 4ms/step\n",
            "2291/2291 [==============================] - 10s 4ms/step\n",
            "Error in Next 6-hour prediction of water level using CNN\n",
            "Train rmse: 0.03091581770111284\n",
            "Validation rmse: 0.21196610693535708\n",
            "Test rmse: 0.052358050819203805\n",
            "Test mae : 0.050591428279876616\n",
            "Test mse : 0.0027413654855863285\n",
            "**********************************************************************\n"
          ]
        }
      ],
      "source": [
        "cnn_lstm_train_pred = model_lstm_bi_gru.predict(train_Xcnn)\n",
        "cnn_lstm_valid_pred = model_lstm_bi_gru.predict(valid_Xcnn)\n",
        "cnn_lstm_test_pred = model_lstm_bi_gru.predict(test_Xcnn)\n",
        "print('Error in Next 6-hour prediction of water level using CNN')\n",
        "print('Train rmse:', np.sqrt(mean_squared_error(train_y[50:56],cnn_lstm_train_pred[50:56])))\n",
        "print('Validation rmse:', np.sqrt(mean_squared_error(valid_y[50:56], cnn_lstm_valid_pred[50:56])))\n",
        "print('Test rmse:', np.sqrt(mean_squared_error(test_y[50:56], cnn_lstm_test_pred[50:56])))\n",
        "print('Test mae :', metrics.mean_absolute_error(test_y[50:56], cnn_lstm_test_pred[50:56]))\n",
        "print('Test mse :', metrics.mean_squared_error(test_y[50:56], cnn_lstm_test_pred[50:56]))\n",
        "print('**********************************************************************')\n",
        "# def wape(actual, forecast):\n",
        "#     return np.sum(np.abs(actual - forecast)) / np.sum(actual) * 100\n",
        "\n",
        "# def nse(actual, forecast):\n",
        "#     return 1 - np.sum((forecast - actual) ** 2) / np.sum((actual - np.mean(actual)) ** 2)\n",
        "# wape_score = wape(test_y, cnn_lstm_test_pred)\n",
        "# nse_score = nse(test_y, cnn_lstm_test_pred)\n",
        "\n",
        "# print(f\"Test WAPE: {wape_score:.2f}%\")\n",
        "# print(f\"Test NSE: {nse_score:.4f}\")"
      ]
    },
    {
      "cell_type": "code",
      "execution_count": null,
      "metadata": {
        "id": "UcgfI6BJgaB4",
        "colab": {
          "base_uri": "https://localhost:8080/",
          "height": 489
        },
        "outputId": "8c78f422-5a44-432f-881b-868e2a56dbbb"
      },
      "outputs": [
        {
          "output_type": "stream",
          "name": "stdout",
          "text": [
            "2291/2291 [==============================] - 10s 4ms/step\n"
          ]
        },
        {
          "output_type": "display_data",
          "data": {
            "text/plain": [
              "<Figure size 640x480 with 1 Axes>"
            ],
            "image/png": "[encoded data removed]"
          },
          "metadata": {}
        }
      ],
      "source": [
        "# Plot the graph between actual vs predicted values\n",
        "y_pred = model_lstm_bi_gru.predict(test_Xcnn)\n",
        "plt.plot(y_pred[50:56], color='green')\n",
        "plt.plot(test_y[50:56].flatten(), color='red')\n",
        "plt.title(\"Next 6-hour prediction of water level using CNN\")\n",
        "plt.xlabel(\"Time\")\n",
        "plt.ylabel(\"Water height\")\n",
        "plt.show()"
      ]
    },
    {
      "cell_type": "code",
      "source": [
        "from keras import backend as K\n",
        "from sklearn.metrics import r2_score\n",
        "\n",
        "y_pred = model_lstm_bi_gru.predict(test_Xcnn)\n",
        "\n",
        "r2 = r2_score(cnn_lstm_test_pred[50:56], test_y[50:56])\n",
        "print('r2 score for 6 Hour Prediction of this perfect model is', r2)"
      ],
      "metadata": {
        "id": "LxxJZ4lXmEzF",
        "colab": {
          "base_uri": "https://localhost:8080/"
        },
        "outputId": "5d3111d5-6bf0-4467-d997-39dbd9f009f9"
      },
      "execution_count": null,
      "outputs": [
        {
          "output_type": "stream",
          "name": "stdout",
          "text": [
            "2291/2291 [==============================] - 10s 4ms/step\n",
            "r2 score for 6 Hour Prediction of this perfect model is -39.00739509240662\n"
          ]
        }
      ]
    },
    {
      "cell_type": "code",
      "source": [
        "cnn_lstm_train_pred = model_lstm_bi_gru.predict(train_Xcnn)\n",
        "cnn_lstm_valid_pred = model_lstm_bi_gru.predict(valid_Xcnn)\n",
        "cnn_lstm_test_pred = model_lstm_bi_gru.predict(test_Xcnn)\n",
        "print('Error in Next 12-hour prediction of water level using CNN')\n",
        "print('Train rmse:', np.sqrt(mean_squared_error(train_y[50:62],cnn_lstm_train_pred[50:62])))\n",
        "print('Validation rmse:', np.sqrt(mean_squared_error(valid_y[50:62], cnn_lstm_valid_pred[50:62])))\n",
        "print('Test rmse:', np.sqrt(mean_squared_error(test_y[50:62], cnn_lstm_test_pred[50:62])))\n",
        "print('Test mae :', metrics.mean_absolute_error(test_y[50:62], cnn_lstm_test_pred[50:62]))\n",
        "print('Test mse :', metrics.mean_squared_error(test_y[50:62], cnn_lstm_test_pred[50:62]))\n",
        "print('**********************************************************************')\n",
        "# def wape(actual, forecast):\n",
        "#     return np.sum(np.abs(actual - forecast)) / np.sum(actual) * 100\n",
        "\n",
        "# def nse(actual, forecast):\n",
        "#     return 1 - np.sum((forecast - actual) ** 2) / np.sum((actual - np.mean(actual)) ** 2)\n",
        "# wape_score = wape(test_y, cnn_lstm_test_pred)\n",
        "# nse_score = nse(test_y, cnn_lstm_test_pred)\n",
        "\n",
        "# print(f\"Test WAPE: {wape_score:.2f}%\")\n",
        "# print(f\"Test NSE: {nse_score:.4f}\")"
      ],
      "metadata": {
        "id": "OgeCMnw0nQx6",
        "colab": {
          "base_uri": "https://localhost:8080/"
        },
        "outputId": "9e5ed78a-b33a-4125-af12-e5e8a06e805b"
      },
      "execution_count": null,
      "outputs": [
        {
          "output_type": "stream",
          "name": "stdout",
          "text": [
            "4299/4299 [==============================] - 18s 4ms/step\n",
            "1088/1088 [==============================] - 4s 4ms/step\n",
            "2291/2291 [==============================] - 10s 4ms/step\n",
            "Error in Next 12-hour prediction of water level using CNN\n",
            "Train rmse: 0.029366316745609113\n",
            "Validation rmse: 0.2128817103511453\n",
            "Test rmse: 0.05170894226409866\n",
            "Test mae : 0.05046032269795727\n",
            "Test mse : 0.002673814710071889\n",
            "**********************************************************************\n"
          ]
        }
      ]
    },
    {
      "cell_type": "code",
      "source": [
        "# Plot the graph between actual vs predicted values\n",
        "y_pred = model_lstm_bi_gru.predict(test_Xcnn)\n",
        "plt.plot(y_pred[50:62], color='green')\n",
        "plt.plot(test_y[50:62].flatten(), color='red')\n",
        "plt.title(\"Next 12-hour prediction of water level using CNN\")\n",
        "plt.xlabel(\"Time\")\n",
        "plt.ylabel(\"Water height\")\n",
        "plt.show()"
      ],
      "metadata": {
        "id": "YVT2HvTGnx5R",
        "colab": {
          "base_uri": "https://localhost:8080/",
          "height": 489
        },
        "outputId": "e33d6247-193d-4a17-b548-3f78808dcf99"
      },
      "execution_count": null,
      "outputs": [
        {
          "output_type": "stream",
          "name": "stdout",
          "text": [
            "2291/2291 [==============================] - 10s 4ms/step\n"
          ]
        },
        {
          "output_type": "display_data",
          "data": {
            "text/plain": [
              "<Figure size 640x480 with 1 Axes>"
            ],
            "image/png": "[encoded data removed]"
          },
          "metadata": {}
        }
      ]
    },
    {
      "cell_type": "code",
      "source": [
        "from keras import backend as K\n",
        "from sklearn.metrics import r2_score\n",
        "\n",
        "y_pred = model_lstm_bi_gru.predict(test_Xcnn)\n",
        "\n",
        "r2 = r2_score(cnn_lstm_test_pred[50:62], test_y[50:62])\n",
        "print('r2 score for 12 Hour Prediction of this perfect model is', r2)"
      ],
      "metadata": {
        "id": "A4nt25nxnyqC"
      },
      "execution_count": null,
      "outputs": []
    },
    {
      "cell_type": "code",
      "source": [
        "cnn_lstm_train_pred = model_lstm_bi_gru.predict(train_Xcnn)\n",
        "cnn_lstm_valid_pred = model_lstm_bi_gru.predict(valid_Xcnn)\n",
        "cnn_lstm_test_pred = model_lstm_bi_gru.predict(test_Xcnn)\n",
        "print('Error in Next 24-hour prediction of water level using CNN')\n",
        "print('Train rmse:', np.sqrt(mean_squared_error(train_y[50:74],cnn_lstm_train_pred[50:74])))\n",
        "print('Validation rmse:', np.sqrt(mean_squared_error(valid_y[50:74], cnn_lstm_valid_pred[50:74])))\n",
        "print('Test rmse:', np.sqrt(mean_squared_error(test_y[50:74], cnn_lstm_test_pred[50:74])))\n",
        "print('Test mae :', metrics.mean_absolute_error(test_y[50:74], cnn_lstm_test_pred[50:74]))\n",
        "print('Test mse :', metrics.mean_squared_error(test_y[50:74], cnn_lstm_test_pred[50:74]))\n",
        "print('**********************************************************************')\n"
      ],
      "metadata": {
        "id": "0hv72m5Rn7T5",
        "colab": {
          "base_uri": "https://localhost:8080/"
        },
        "outputId": "966ed66d-ba22-489a-e2a5-e58f723327d3"
      },
      "execution_count": null,
      "outputs": [
        {
          "output_type": "stream",
          "name": "stdout",
          "text": [
            "4299/4299 [==============================] - 26s 6ms/step\n",
            "1088/1088 [==============================] - 5s 4ms/step\n",
            "2291/2291 [==============================] - 9s 4ms/step\n",
            "Error in Next 24-hour prediction of water level using CNN\n",
            "Train rmse: 0.032780716176435555\n",
            "Validation rmse: 0.20941943415227152\n",
            "Test rmse: 0.05189148131548004\n",
            "Test mae : 0.05096360166867566\n",
            "Test mse : 0.0026927258331148145\n",
            "**********************************************************************\n"
          ]
        }
      ]
    },
    {
      "cell_type": "code",
      "source": [
        "# Plot the graph between actual vs predicted values\n",
        "y_pred = model_lstm_bi_gru.predict(test_Xcnn)\n",
        "plt.plot(y_pred[50:74], color='green')\n",
        "plt.plot(test_y[50:74].flatten(), color='red')\n",
        "plt.title(\"Next 24-hour prediction of water level using CNN\")\n",
        "plt.xlabel(\"Time\")\n",
        "plt.ylabel(\"Water height\")\n",
        "plt.show()"
      ],
      "metadata": {
        "colab": {
          "base_uri": "https://localhost:8080/",
          "height": 489
        },
        "id": "iWY6URC4-qs7",
        "outputId": "45953de6-cfbd-4c74-f91a-ff742a16193f"
      },
      "execution_count": null,
      "outputs": [
        {
          "output_type": "stream",
          "name": "stdout",
          "text": [
            "2291/2291 [==============================] - 11s 5ms/step\n"
          ]
        },
        {
          "output_type": "display_data",
          "data": {
            "text/plain": [
              "<Figure size 640x480 with 1 Axes>"
            ],
            "image/png": "[encoded data removed]"
          },
          "metadata": {}
        }
      ]
    },
    {
      "cell_type": "code",
      "source": [
        "from keras import backend as K\n",
        "from sklearn.metrics import r2_score\n",
        "\n",
        "y_pred = model_lstm_bi_gru.predict(test_Xcnn)\n",
        "\n",
        "r2 = r2_score(cnn_lstm_test_pred[50:74], test_y[50:74])\n",
        "print('r2 score for 24 Hour Prediction of this perfect model is', r2)"
      ],
      "metadata": {
        "colab": {
          "base_uri": "https://localhost:8080/"
        },
        "id": "ANso8Uga-t0o",
        "outputId": "8914dd5d-dfd7-4fa2-c88c-e5b2fbc9b425"
      },
      "execution_count": null,
      "outputs": [
        {
          "output_type": "stream",
          "name": "stdout",
          "text": [
            "2291/2291 [==============================] - 11s 5ms/step\n",
            "r2 score for 24 Hour Prediction of this perfect model is -25.951763112448322\n"
          ]
        }
      ]
    },
    {
      "cell_type": "code",
      "source": [
        "cnn_lstm_train_pred = model_lstm_bi_gru.predict(train_Xcnn)\n",
        "cnn_lstm_valid_pred = model_lstm_bi_gru.predict(valid_Xcnn)\n",
        "cnn_lstm_test_pred = model_lstm_bi_gru.predict(test_Xcnn)\n",
        "print('Error in Next 48-hour prediction of water level using CNN')\n",
        "print('Train rmse:', np.sqrt(mean_squared_error(train_y[50:98],cnn_lstm_train_pred[50:98])))\n",
        "print('Validation rmse:', np.sqrt(mean_squared_error(valid_y[50:98], cnn_lstm_valid_pred[50:98])))\n",
        "print('Test rmse:', np.sqrt(mean_squared_error(test_y[50:98], cnn_lstm_test_pred[50:98])))\n",
        "print('Test mae :', metrics.mean_absolute_error(test_y[50:98], cnn_lstm_test_pred[50:98]))\n",
        "print('Test mse :', metrics.mean_squared_error(test_y[50:98], cnn_lstm_test_pred[50:98]))\n",
        "print('**********************************************************************')\n"
      ],
      "metadata": {
        "colab": {
          "base_uri": "https://localhost:8080/"
        },
        "id": "cISK7Rp5rPaH",
        "outputId": "e83f5dd4-5990-41ef-dae8-17838ae613b0"
      },
      "execution_count": null,
      "outputs": [
        {
          "output_type": "stream",
          "name": "stdout",
          "text": [
            "4299/4299 [==============================] - 18s 4ms/step\n",
            "1088/1088 [==============================] - 4s 4ms/step\n",
            "2291/2291 [==============================] - 10s 4ms/step\n",
            "Error in Next 48-hour prediction of water level using CNN\n",
            "Train rmse: 0.03759152491449903\n",
            "Validation rmse: 0.19366678866291676\n",
            "Test rmse: 0.05416963062009034\n",
            "Test mae : 0.05257743547360095\n",
            "Test mse : 0.002934348881517029\n",
            "**********************************************************************\n"
          ]
        }
      ]
    },
    {
      "cell_type": "code",
      "source": [
        "# Plot the graph between actual vs predicted values\n",
        "y_pred = model_lstm_bi_gru.predict(test_Xcnn)\n",
        "plt.plot(y_pred[50:98], color='green')\n",
        "plt.plot(test_y[50:98].flatten(), color='red')\n",
        "plt.title(\"Next 48-hour prediction of water level using CNN\")\n",
        "plt.xlabel(\"Time\")\n",
        "plt.ylabel(\"Water height\")\n",
        "plt.show()"
      ],
      "metadata": {
        "colab": {
          "base_uri": "https://localhost:8080/",
          "height": 489
        },
        "id": "377lKTui-wu1",
        "outputId": "a195e4ab-d590-4f16-c311-11423a6ef0c9"
      },
      "execution_count": null,
      "outputs": [
        {
          "output_type": "stream",
          "name": "stdout",
          "text": [
            "2291/2291 [==============================] - 10s 4ms/step\n"
          ]
        },
        {
          "output_type": "display_data",
          "data": {
            "text/plain": [
              "<Figure size 640x480 with 1 Axes>"
            ],
            "image/png": "[encoded data removed]"
          },
          "metadata": {}
        }
      ]
    },
    {
      "cell_type": "code",
      "source": [
        "from keras import backend as K\n",
        "from sklearn.metrics import r2_score\n",
        "\n",
        "y_pred = model_lstm_bi_gru.predict(test_Xcnn)\n",
        "\n",
        "r2 = r2_score(cnn_lstm_test_pred[50:98], test_y[50:98])\n",
        "print('r2 score for 48 Hour Prediction of this perfect model is', r2)"
      ],
      "metadata": {
        "colab": {
          "base_uri": "https://localhost:8080/"
        },
        "id": "MI1nLitp-JeO",
        "outputId": "9a85f824-1dcc-4a77-ccdc-537ac468fbe8"
      },
      "execution_count": null,
      "outputs": [
        {
          "output_type": "stream",
          "name": "stdout",
          "text": [
            "2291/2291 [==============================] - 10s 4ms/step\n",
            "r2 score for 48 Hour Prediction of this perfect model is -8.946761698084936\n"
          ]
        }
      ]
    },
    {
      "cell_type": "code",
      "source": [],
      "metadata": {
        "id": "0zrTFjQq-zRI"
      },
      "execution_count": null,
      "outputs": []
    }
  ],
  "metadata": {
    "colab": {
      "provenance": [],
      "gpuType": "T4",
      "include_colab_link": true
    },
    "kernelspec": {
      "display_name": "Python 3",
      "name": "python3"
    },
    "language_info": {
      "name": "python"
    },
    "accelerator": "GPU"
  },
  "nbformat": 4,
  "nbformat_minor": 0
}